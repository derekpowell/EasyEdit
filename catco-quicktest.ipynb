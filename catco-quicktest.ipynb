{
 "cells": [
  {
   "cell_type": "code",
   "execution_count": 2,
   "metadata": {},
   "outputs": [
    {
     "name": "stdout",
     "output_type": "stream",
     "text": [
      "/scratch/dmpowell/.cache/huggingface\n",
      "device =  cuda\n"
     ]
    }
   ],
   "source": [
    "import os\n",
    "if os.path.isdir('/scratch/dmpowell'):\n",
    "    os.environ['TRANSFORMERS_CACHE'] = '/scratch/dmpowell/.cache/huggingface'\n",
    "print(os.getenv('TRANSFORMERS_CACHE'))\n",
    "\n",
    "import numpy as np\n",
    "import torch\n",
    "from transformers import GPTJForCausalLM, AutoTokenizer, AutoModel, GPT2LMHeadModel, AutoModelForCausalLM\n",
    "\n",
    "import pandas as pd\n",
    "import json\n",
    "\n",
    "from easyeditor.util import nethook\n",
    "from easyeditor.custom import * # gets my custom functions\n",
    "\n",
    "from easyeditor.editors import LOG\n",
    "import logging\n",
    "LOG.setLevel(logging.ERROR) # stops cluttering up notebook\n",
    "\n",
    "import torch.nn.functional as F\n",
    "\n",
    "from contextlib import redirect_stdout\n",
    "\n",
    "device = torch.device(\"cuda\" if torch.cuda.is_available() else \"cpu\")\n",
    "print(\"device = \", device)"
   ]
  },
  {
   "cell_type": "code",
   "execution_count": 3,
   "metadata": {},
   "outputs": [],
   "source": [
    "from ast import literal_eval\n",
    "\n",
    "types_df = pd.read_csv(\"../catco-data/animal-type-tokens.tsv\", sep=\"\\t\")\n",
    "properties_df = pd.read_csv(\"../catco-data/animal-data.tsv\", sep=\"\\t\")\n",
    "\n",
    "edits_df = pd.read_csv(\"../catco-data/edits.csv\")\n",
    "baseline_df = pd.read_csv(\"../catco-data/baseline-evaluation.csv\", converters={'fwd_choices':literal_eval, 'rev_choices':literal_eval})\n",
    "eval_df = pd.read_csv(\"../catco-data/edits-evaluation.csv\", converters={'fwd_choices':literal_eval, 'rev_choices':literal_eval})\n"
   ]
  },
  {
   "cell_type": "code",
   "execution_count": 4,
   "metadata": {},
   "outputs": [],
   "source": [
    "hparams = ROMEHyperParams.from_hparams('hparams/ROME/gpt-j-6B.yaml')\n",
    "edited_model = EditedModel(hparams)"
   ]
  },
  {
   "cell_type": "code",
   "execution_count": 5,
   "metadata": {},
   "outputs": [],
   "source": [
    "results_baseline = evaluate(baseline_df, edited_model)"
   ]
  },
  {
   "cell_type": "code",
   "execution_count": 6,
   "metadata": {},
   "outputs": [
    {
     "name": "stdout",
     "output_type": "stream",
     "text": [
      "Overall fwd acc: 0.5970149253731343\n",
      "Overall rev acc: 0.5\n"
     ]
    },
    {
     "data": {
      "text/html": [
       "<div>\n",
       "<style scoped>\n",
       "    .dataframe tbody tr th:only-of-type {\n",
       "        vertical-align: middle;\n",
       "    }\n",
       "\n",
       "    .dataframe tbody tr th {\n",
       "        vertical-align: top;\n",
       "    }\n",
       "\n",
       "    .dataframe thead th {\n",
       "        text-align: right;\n",
       "    }\n",
       "</style>\n",
       "<table border=\"1\" class=\"dataframe\">\n",
       "  <thead>\n",
       "    <tr style=\"text-align: right;\">\n",
       "      <th></th>\n",
       "      <th></th>\n",
       "      <th>corr_prop</th>\n",
       "    </tr>\n",
       "    <tr>\n",
       "      <th>token_type</th>\n",
       "      <th>query_type</th>\n",
       "      <th></th>\n",
       "    </tr>\n",
       "  </thead>\n",
       "  <tbody>\n",
       "    <tr>\n",
       "      <th rowspan=\"2\" valign=\"top\">rare_token</th>\n",
       "      <th>correct_fwd</th>\n",
       "      <td>0.537313</td>\n",
       "    </tr>\n",
       "    <tr>\n",
       "      <th>correct_rev</th>\n",
       "      <td>0.194030</td>\n",
       "    </tr>\n",
       "    <tr>\n",
       "      <th rowspan=\"2\" valign=\"top\">typical_token</th>\n",
       "      <th>correct_fwd</th>\n",
       "      <td>0.656716</td>\n",
       "    </tr>\n",
       "    <tr>\n",
       "      <th>correct_rev</th>\n",
       "      <td>0.805970</td>\n",
       "    </tr>\n",
       "  </tbody>\n",
       "</table>\n",
       "</div>"
      ],
      "text/plain": [
       "                           corr_prop\n",
       "token_type    query_type            \n",
       "rare_token    correct_fwd   0.537313\n",
       "              correct_rev   0.194030\n",
       "typical_token correct_fwd   0.656716\n",
       "              correct_rev   0.805970"
      ]
     },
     "execution_count": 6,
     "metadata": {},
     "output_type": "execute_result"
    }
   ],
   "source": [
    "print(\"Overall fwd acc:\", results_baseline.correct_fwd.mean())\n",
    "print(\"Overall rev acc:\", results_baseline.correct_rev.mean())\n",
    "\n",
    "(\n",
    "    results_baseline\n",
    "    .filter(['entity','token_type','subj','property','query_fwd','query_rev','correct_fwd','correct_rev'])\n",
    "    .melt(id_vars = ['entity','token_type','subj','property','query_fwd','query_rev'], value_vars = ['correct_fwd', 'correct_rev'], var_name = \"query_type\", value_name = \"correct\")\n",
    "    .groupby(['token_type', 'query_type'])\n",
    "    .agg(corr_prop = ('correct', 'mean'))\n",
    ")\n"
   ]
  },
  {
   "cell_type": "markdown",
   "metadata": {},
   "source": [
    "Now that I've fixed my token probability code, gpt-2, gpt-j, and llama-7B all perform better than chance. gpt-j and llama are similar, and both benefit from a prefix in-context learning prompt to encourage generating in the correct fashion. Llama with a prefix showed the best performance, at ~76% accuracy.\n",
    "\n",
    "The reversed queries are better than chance though lower. GPT-J doesn't seem to benefit from an in-context learning prompt for whatever reason, returning ~45% either way. Could be my prompt is not very good."
   ]
  },
  {
   "cell_type": "code",
   "execution_count": 7,
   "metadata": {},
   "outputs": [],
   "source": [
    "## should be at or below chance -- no real tempting foils in there so shouldn't necessarily be zero\n",
    "\n",
    "results_eval = evaluate(eval_df, edited_model)"
   ]
  },
  {
   "cell_type": "code",
   "execution_count": 8,
   "metadata": {},
   "outputs": [
    {
     "name": "stdout",
     "output_type": "stream",
     "text": [
      "Overall fwd acc: 0.23412698412698413\n",
      "Overall rev acc: 0.2222222222222222\n"
     ]
    },
    {
     "data": {
      "text/html": [
       "<div>\n",
       "<style scoped>\n",
       "    .dataframe tbody tr th:only-of-type {\n",
       "        vertical-align: middle;\n",
       "    }\n",
       "\n",
       "    .dataframe tbody tr th {\n",
       "        vertical-align: top;\n",
       "    }\n",
       "\n",
       "    .dataframe thead th {\n",
       "        text-align: right;\n",
       "    }\n",
       "</style>\n",
       "<table border=\"1\" class=\"dataframe\">\n",
       "  <thead>\n",
       "    <tr style=\"text-align: right;\">\n",
       "      <th></th>\n",
       "      <th></th>\n",
       "      <th>corr_prop</th>\n",
       "    </tr>\n",
       "    <tr>\n",
       "      <th>token_type</th>\n",
       "      <th>query_type</th>\n",
       "      <th></th>\n",
       "    </tr>\n",
       "  </thead>\n",
       "  <tbody>\n",
       "    <tr>\n",
       "      <th rowspan=\"2\" valign=\"top\">rare_token_y</th>\n",
       "      <th>correct_fwd</th>\n",
       "      <td>0.250000</td>\n",
       "    </tr>\n",
       "    <tr>\n",
       "      <th>correct_rev</th>\n",
       "      <td>0.095238</td>\n",
       "    </tr>\n",
       "    <tr>\n",
       "      <th rowspan=\"2\" valign=\"top\">typical_token_y</th>\n",
       "      <th>correct_fwd</th>\n",
       "      <td>0.218254</td>\n",
       "    </tr>\n",
       "    <tr>\n",
       "      <th>correct_rev</th>\n",
       "      <td>0.349206</td>\n",
       "    </tr>\n",
       "  </tbody>\n",
       "</table>\n",
       "</div>"
      ],
      "text/plain": [
       "                             corr_prop\n",
       "token_type      query_type            \n",
       "rare_token_y    correct_fwd   0.250000\n",
       "                correct_rev   0.095238\n",
       "typical_token_y correct_fwd   0.218254\n",
       "                correct_rev   0.349206"
      ]
     },
     "execution_count": 8,
     "metadata": {},
     "output_type": "execute_result"
    }
   ],
   "source": [
    "print(\"Overall fwd acc:\", results_eval.correct_fwd.mean())\n",
    "print(\"Overall rev acc:\", results_eval.correct_rev.mean())\n",
    "(\n",
    "    results_eval\n",
    "    .filter(['entity','token_type','subj','property','query_fwd','query_rev','correct_fwd','correct_rev'])\n",
    "    .melt(id_vars = ['entity','token_type','subj','property','query_fwd','query_rev'], value_vars = ['correct_fwd', 'correct_rev'], var_name = \"query_type\", value_name = \"correct\")\n",
    "    .groupby(['token_type', 'query_type'])\n",
    "    .agg(corr_prop = ('correct', 'mean'))\n",
    ")"
   ]
  },
  {
   "cell_type": "markdown",
   "metadata": {},
   "source": [
    "Should probably do something to better balance the mix for reverse queries based on token typicality -- e.g. only use typical for typical and rare for rare."
   ]
  },
  {
   "cell_type": "markdown",
   "metadata": {},
   "source": [
    "## Model editing performance\n"
   ]
  },
  {
   "cell_type": "code",
   "execution_count": 9,
   "metadata": {},
   "outputs": [],
   "source": [
    "# this took about 1 hr to run ... I wonder if I could make it more efficient \n",
    "edit_method = \"ROME\"\n",
    "\n",
    "full_results_ROME = edit_and_evaluate(edits_df, eval_df, edited_model, edit_method)\n",
    "full_results_ROME.to_csv(\"results/ROME.csv\")"
   ]
  },
  {
   "cell_type": "code",
   "execution_count": 10,
   "metadata": {},
   "outputs": [],
   "source": [
    "edit_method = \"ICE\"\n",
    "full_results_ICE = edit_and_evaluate(edits_df, eval_df, edited_model, edit_method)\n",
    "full_results_ICE.to_csv(\"results/ICE.csv\")"
   ]
  },
  {
   "cell_type": "code",
   "execution_count": 11,
   "metadata": {},
   "outputs": [
    {
     "name": "stdout",
     "output_type": "stream",
     "text": [
      "Overall fwd acc: 0.3869047619047619\n",
      "Overall rev acc: 0.23639455782312926\n"
     ]
    },
    {
     "data": {
      "text/html": [
       "<div>\n",
       "<style scoped>\n",
       "    .dataframe tbody tr th:only-of-type {\n",
       "        vertical-align: middle;\n",
       "    }\n",
       "\n",
       "    .dataframe tbody tr th {\n",
       "        vertical-align: top;\n",
       "    }\n",
       "\n",
       "    .dataframe thead th {\n",
       "        text-align: right;\n",
       "    }\n",
       "</style>\n",
       "<table border=\"1\" class=\"dataframe\">\n",
       "  <thead>\n",
       "    <tr style=\"text-align: right;\">\n",
       "      <th></th>\n",
       "      <th></th>\n",
       "      <th>corr_prop</th>\n",
       "    </tr>\n",
       "    <tr>\n",
       "      <th>token_type</th>\n",
       "      <th>query_type</th>\n",
       "      <th></th>\n",
       "    </tr>\n",
       "  </thead>\n",
       "  <tbody>\n",
       "    <tr>\n",
       "      <th rowspan=\"2\" valign=\"top\">rare_token_y</th>\n",
       "      <th>correct_fwd</th>\n",
       "      <td>0.395125</td>\n",
       "    </tr>\n",
       "    <tr>\n",
       "      <th>correct_rev</th>\n",
       "      <td>0.130385</td>\n",
       "    </tr>\n",
       "    <tr>\n",
       "      <th rowspan=\"2\" valign=\"top\">typical_token_y</th>\n",
       "      <th>correct_fwd</th>\n",
       "      <td>0.378685</td>\n",
       "    </tr>\n",
       "    <tr>\n",
       "      <th>correct_rev</th>\n",
       "      <td>0.342404</td>\n",
       "    </tr>\n",
       "  </tbody>\n",
       "</table>\n",
       "</div>"
      ],
      "text/plain": [
       "                             corr_prop\n",
       "token_type      query_type            \n",
       "rare_token_y    correct_fwd   0.395125\n",
       "                correct_rev   0.130385\n",
       "typical_token_y correct_fwd   0.378685\n",
       "                correct_rev   0.342404"
      ]
     },
     "execution_count": 11,
     "metadata": {},
     "output_type": "execute_result"
    }
   ],
   "source": [
    "print(\"Overall fwd acc:\", full_results_ROME.correct_fwd.mean())\n",
    "print(\"Overall rev acc:\", full_results_ROME.correct_rev.mean())\n",
    "(\n",
    "    full_results_ROME\n",
    "    .filter(['entity','token_type','subj','property','query_fwd','query_rev','correct_fwd','correct_rev'])\n",
    "    .melt(id_vars = ['entity','token_type','subj','property','query_fwd','query_rev'], value_vars = ['correct_fwd', 'correct_rev'], var_name = \"query_type\", value_name = \"correct\")\n",
    "    .groupby(['token_type', 'query_type'])\n",
    "    .agg(corr_prop = ('correct', 'mean'))\n",
    ")"
   ]
  },
  {
   "cell_type": "code",
   "execution_count": 12,
   "metadata": {},
   "outputs": [
    {
     "name": "stdout",
     "output_type": "stream",
     "text": [
      "Overall fwd acc: 0.4420351473922903\n",
      "Overall rev acc: 0.25184240362811794\n"
     ]
    },
    {
     "data": {
      "text/html": [
       "<div>\n",
       "<style scoped>\n",
       "    .dataframe tbody tr th:only-of-type {\n",
       "        vertical-align: middle;\n",
       "    }\n",
       "\n",
       "    .dataframe tbody tr th {\n",
       "        vertical-align: top;\n",
       "    }\n",
       "\n",
       "    .dataframe thead th {\n",
       "        text-align: right;\n",
       "    }\n",
       "</style>\n",
       "<table border=\"1\" class=\"dataframe\">\n",
       "  <thead>\n",
       "    <tr style=\"text-align: right;\">\n",
       "      <th></th>\n",
       "      <th></th>\n",
       "      <th>corr_prop</th>\n",
       "    </tr>\n",
       "    <tr>\n",
       "      <th>token_type</th>\n",
       "      <th>query_type</th>\n",
       "      <th></th>\n",
       "    </tr>\n",
       "  </thead>\n",
       "  <tbody>\n",
       "    <tr>\n",
       "      <th rowspan=\"2\" valign=\"top\">rare_token_y</th>\n",
       "      <th>correct_fwd</th>\n",
       "      <td>0.499433</td>\n",
       "    </tr>\n",
       "    <tr>\n",
       "      <th>correct_rev</th>\n",
       "      <td>0.148243</td>\n",
       "    </tr>\n",
       "    <tr>\n",
       "      <th rowspan=\"2\" valign=\"top\">typical_token_y</th>\n",
       "      <th>correct_fwd</th>\n",
       "      <td>0.384637</td>\n",
       "    </tr>\n",
       "    <tr>\n",
       "      <th>correct_rev</th>\n",
       "      <td>0.355442</td>\n",
       "    </tr>\n",
       "  </tbody>\n",
       "</table>\n",
       "</div>"
      ],
      "text/plain": [
       "                             corr_prop\n",
       "token_type      query_type            \n",
       "rare_token_y    correct_fwd   0.499433\n",
       "                correct_rev   0.148243\n",
       "typical_token_y correct_fwd   0.384637\n",
       "                correct_rev   0.355442"
      ]
     },
     "execution_count": 12,
     "metadata": {},
     "output_type": "execute_result"
    }
   ],
   "source": [
    "print(\"Overall fwd acc:\", full_results_ICE.correct_fwd.mean())\n",
    "print(\"Overall rev acc:\", full_results_ICE.correct_rev.mean())\n",
    "(\n",
    "    full_results_ICE\n",
    "    .filter(['entity','token_type','subj','property','query_fwd','query_rev','correct_fwd','correct_rev'])\n",
    "    .melt(id_vars = ['entity','token_type','subj','property','query_fwd','query_rev'], value_vars = ['correct_fwd', 'correct_rev'], var_name = \"query_type\", value_name = \"correct\")\n",
    "    .groupby(['token_type', 'query_type'])\n",
    "    .agg(corr_prop = ('correct', 'mean'))\n",
    ")"
   ]
  },
  {
   "cell_type": "markdown",
   "metadata": {},
   "source": [
    "## For later ..."
   ]
  },
  {
   "cell_type": "code",
   "execution_count": 6,
   "metadata": {},
   "outputs": [
    {
     "name": "stdout",
     "output_type": "stream",
     "text": [
      "fruitbats can fly\n",
      "food for a hummingbird must be nectar\n",
      "porcupines have offspring by live birth\n",
      "a rhinoceros has thick hide\n",
      "grubs live underground\n",
      "\n",
      "---\n",
      "one animal that can fly is a fruitbat\n",
      "something that eats nectar is a hummingbird\n",
      "an animal that reproduces through live birth is a porcupine\n",
      "one animal with a thick hide is a rhinoceros\n",
      "something that lives underground is a grub\n",
      "\n",
      "---\n"
     ]
    }
   ],
   "source": [
    "# with open('prefix_fwd.txt') as f:\n",
    "#     prefix_fwd = f.read()\n",
    "    \n",
    "# print(prefix_fwd)\n",
    "# print(\"---\")\n",
    "\n",
    "# with open('prefix_rev.txt') as f:\n",
    "#     prefix_rev = f.read()\n",
    "    \n",
    "# print(prefix_rev)\n",
    "# print(\"---\")"
   ]
  }
 ],
 "metadata": {
  "kernelspec": {
   "display_name": "EasyEdit",
   "language": "python",
   "name": "easyedit"
  },
  "language_info": {
   "codemirror_mode": {
    "name": "ipython",
    "version": 3
   },
   "file_extension": ".py",
   "mimetype": "text/x-python",
   "name": "python",
   "nbconvert_exporter": "python",
   "pygments_lexer": "ipython3",
   "version": "3.9.18"
  }
 },
 "nbformat": 4,
 "nbformat_minor": 4
}
