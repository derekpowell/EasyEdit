{
 "cells": [
  {
   "cell_type": "code",
   "execution_count": 1,
   "metadata": {},
   "outputs": [
    {
     "name": "stdout",
     "output_type": "stream",
     "text": [
      "/scratch/dmpowell/.cache/huggingface\n",
      "device =  cuda\n"
     ]
    }
   ],
   "source": [
    "import os\n",
    "if os.path.isdir('/scratch/dmpowell'):\n",
    "    os.environ['TRANSFORMERS_CACHE'] = '/scratch/dmpowell/.cache/huggingface'\n",
    "print(os.getenv('TRANSFORMERS_CACHE'))\n",
    "\n",
    "import numpy as np\n",
    "import torch\n",
    "from transformers import GPTJForCausalLM, AutoTokenizer, AutoModel, GPT2LMHeadModel, AutoModelForCausalLM\n",
    "\n",
    "import pandas as pd\n",
    "import json\n",
    "\n",
    "from easyeditor.util import nethook\n",
    "from easyeditor.custom import * # gets my custom functions\n",
    "\n",
    "from easyeditor.editors import LOG\n",
    "import logging\n",
    "LOG.setLevel(logging.ERROR) # stops cluttering up notebook\n",
    "\n",
    "import torch.nn.functional as F\n",
    "\n",
    "from contextlib import redirect_stdout\n",
    "\n",
    "device = torch.device(\"cuda\" if torch.cuda.is_available() else \"cpu\")\n",
    "print(\"device = \", device)"
   ]
  },
  {
   "cell_type": "code",
   "execution_count": 9,
   "metadata": {},
   "outputs": [],
   "source": [
    "from ast import literal_eval\n",
    "\n",
    "types_df = pd.read_csv(\"../catco-data/animal-type-tokens.tsv\", sep=\"\\t\")\n",
    "properties_df = pd.read_csv(\"../catco-data/animal-data.tsv\", sep=\"\\t\")\n",
    "\n",
    "edits_df = pd.read_csv(\"../catco-data/edits.csv\")\n",
    "baseline_df = pd.read_csv(\"../catco-data/baseline-evaluation.csv\", converters={'fwd_choices':literal_eval, 'rev_choices':literal_eval})\n",
    "eval_df = pd.read_csv(\"../catco-data/edits-evaluation.csv\", converters={'fwd_choices':literal_eval, 'rev_choices':literal_eval})\n"
   ]
  },
  {
   "cell_type": "code",
   "execution_count": null,
   "metadata": {},
   "outputs": [],
   "source": [
    "with open('prefix_fwd.txt') as f:\n",
    "    prefix_fwd = f.read()\n",
    "    \n",
    "print(prefix_fwd)\n",
    "print(\"---\")\n",
    "\n",
    "with open('prefix_rev.txt') as f:\n",
    "    prefix_rev = f.read()\n",
    "    \n",
    "print(prefix_rev)\n",
    "print(\"---\")"
   ]
  },
  {
   "cell_type": "code",
   "execution_count": 26,
   "metadata": {},
   "outputs": [
    {
     "data": {
      "application/json": {
       "ascii": false,
       "bar_format": null,
       "colour": null,
       "elapsed": 0.004205942153930664,
       "initial": 0,
       "n": 0,
       "ncols": null,
       "nrows": 78,
       "postfix": null,
       "prefix": "Loading checkpoint shards",
       "rate": null,
       "total": 2,
       "unit": "it",
       "unit_divisor": 1000,
       "unit_scale": false
      },
      "application/vnd.jupyter.widget-view+json": {
       "model_id": "66fd12ac100f4aa8a2a0cab7c7818087",
       "version_major": 2,
       "version_minor": 0
      },
      "text/plain": [
       "Loading checkpoint shards:   0%|          | 0/2 [00:00<?, ?it/s]"
      ]
     },
     "metadata": {},
     "output_type": "display_data"
    },
    {
     "name": "stderr",
     "output_type": "stream",
     "text": [
      "normalizer.cc(51) LOG(INFO) precompiled_charsmap is empty. use identity normalization.\n"
     ]
    }
   ],
   "source": [
    "hparams = ROMEHyperParams.from_hparams('hparams/ROME/llama-7b.yaml')\n",
    "edited_model = EditedModel(hparams)"
   ]
  },
  {
   "cell_type": "code",
   "execution_count": 32,
   "metadata": {},
   "outputs": [],
   "source": [
    "results_baseline = evaluate(baseline_df, edited_model, prefix_fwd = prefix_fwd, prefix_rev = prefix_rev)"
   ]
  },
  {
   "cell_type": "code",
   "execution_count": 33,
   "metadata": {},
   "outputs": [
    {
     "data": {
      "text/html": [
       "<div>\n",
       "<style scoped>\n",
       "    .dataframe tbody tr th:only-of-type {\n",
       "        vertical-align: middle;\n",
       "    }\n",
       "\n",
       "    .dataframe tbody tr th {\n",
       "        vertical-align: top;\n",
       "    }\n",
       "\n",
       "    .dataframe thead th {\n",
       "        text-align: right;\n",
       "    }\n",
       "</style>\n",
       "<table border=\"1\" class=\"dataframe\">\n",
       "  <thead>\n",
       "    <tr style=\"text-align: right;\">\n",
       "      <th></th>\n",
       "      <th></th>\n",
       "      <th>corr_prop</th>\n",
       "    </tr>\n",
       "    <tr>\n",
       "      <th>token_type</th>\n",
       "      <th>query_type</th>\n",
       "      <th></th>\n",
       "    </tr>\n",
       "  </thead>\n",
       "  <tbody>\n",
       "    <tr>\n",
       "      <th rowspan=\"2\" valign=\"top\">rare_token</th>\n",
       "      <th>correct_fwd</th>\n",
       "      <td>0.75000</td>\n",
       "    </tr>\n",
       "    <tr>\n",
       "      <th>correct_rev</th>\n",
       "      <td>0.31250</td>\n",
       "    </tr>\n",
       "    <tr>\n",
       "      <th rowspan=\"2\" valign=\"top\">typical_token</th>\n",
       "      <th>correct_fwd</th>\n",
       "      <td>0.96875</td>\n",
       "    </tr>\n",
       "    <tr>\n",
       "      <th>correct_rev</th>\n",
       "      <td>0.96875</td>\n",
       "    </tr>\n",
       "  </tbody>\n",
       "</table>\n",
       "</div>"
      ],
      "text/plain": [
       "                           corr_prop\n",
       "token_type    query_type            \n",
       "rare_token    correct_fwd    0.75000\n",
       "              correct_rev    0.31250\n",
       "typical_token correct_fwd    0.96875\n",
       "              correct_rev    0.96875"
      ]
     },
     "execution_count": 33,
     "metadata": {},
     "output_type": "execute_result"
    }
   ],
   "source": [
    "# overall category membership knowledge (for main and paraphrases)\n",
    "(\n",
    "    results_baseline\n",
    "    .loc[lambda x: (x.property.str.startswith(\"category_membership\")) ]\n",
    "    .filter(['entity','token_type','subj','property','query_fwd','query_rev','correct_fwd','correct_rev'])\n",
    "    .melt(id_vars = ['entity','token_type','subj','property','query_fwd','query_rev'], value_vars = ['correct_fwd', 'correct_rev'], var_name = \"query_type\", value_name = \"correct\")\n",
    "    .groupby(['token_type', 'query_type'])\n",
    "    .agg(corr_prop = ('correct', 'mean'))\n",
    ")"
   ]
  },
  {
   "cell_type": "markdown",
   "metadata": {},
   "source": [
    "LLAMA-7B knows the typical tokens category memberships well, much weaker for the rare tokens, and especially for reverse items."
   ]
  },
  {
   "cell_type": "code",
   "execution_count": 34,
   "metadata": {},
   "outputs": [
    {
     "name": "stdout",
     "output_type": "stream",
     "text": [
      "Overall fwd acc: 0.7701149425287356\n",
      "Overall rev acc: 0.5517241379310345\n"
     ]
    },
    {
     "data": {
      "text/html": [
       "<div>\n",
       "<style scoped>\n",
       "    .dataframe tbody tr th:only-of-type {\n",
       "        vertical-align: middle;\n",
       "    }\n",
       "\n",
       "    .dataframe tbody tr th {\n",
       "        vertical-align: top;\n",
       "    }\n",
       "\n",
       "    .dataframe thead th {\n",
       "        text-align: right;\n",
       "    }\n",
       "</style>\n",
       "<table border=\"1\" class=\"dataframe\">\n",
       "  <thead>\n",
       "    <tr style=\"text-align: right;\">\n",
       "      <th></th>\n",
       "      <th></th>\n",
       "      <th>corr_prop</th>\n",
       "    </tr>\n",
       "    <tr>\n",
       "      <th>token_type</th>\n",
       "      <th>query_type</th>\n",
       "      <th></th>\n",
       "    </tr>\n",
       "  </thead>\n",
       "  <tbody>\n",
       "    <tr>\n",
       "      <th rowspan=\"2\" valign=\"top\">entity</th>\n",
       "      <th>correct_fwd</th>\n",
       "      <td>0.873016</td>\n",
       "    </tr>\n",
       "    <tr>\n",
       "      <th>correct_rev</th>\n",
       "      <td>0.650794</td>\n",
       "    </tr>\n",
       "    <tr>\n",
       "      <th rowspan=\"2\" valign=\"top\">rare_token</th>\n",
       "      <th>correct_fwd</th>\n",
       "      <td>0.666667</td>\n",
       "    </tr>\n",
       "    <tr>\n",
       "      <th>correct_rev</th>\n",
       "      <td>0.262626</td>\n",
       "    </tr>\n",
       "    <tr>\n",
       "      <th rowspan=\"2\" valign=\"top\">typical_token</th>\n",
       "      <th>correct_fwd</th>\n",
       "      <td>0.808081</td>\n",
       "    </tr>\n",
       "    <tr>\n",
       "      <th>correct_rev</th>\n",
       "      <td>0.777778</td>\n",
       "    </tr>\n",
       "  </tbody>\n",
       "</table>\n",
       "</div>"
      ],
      "text/plain": [
       "                           corr_prop\n",
       "token_type    query_type            \n",
       "entity        correct_fwd   0.873016\n",
       "              correct_rev   0.650794\n",
       "rare_token    correct_fwd   0.666667\n",
       "              correct_rev   0.262626\n",
       "typical_token correct_fwd   0.808081\n",
       "              correct_rev   0.777778"
      ]
     },
     "execution_count": 34,
     "metadata": {},
     "output_type": "execute_result"
    }
   ],
   "source": [
    "print(\"Overall fwd acc:\", results_baseline.correct_fwd.mean())\n",
    "print(\"Overall rev acc:\", results_baseline.correct_rev.mean())\n",
    "\n",
    "(\n",
    "    results_baseline\n",
    "    .filter(['entity','token_type','subj','property','query_fwd','query_rev','correct_fwd','correct_rev'])\n",
    "    .melt(id_vars = ['entity','token_type','subj','property','query_fwd','query_rev'], value_vars = ['correct_fwd', 'correct_rev'], var_name = \"query_type\", value_name = \"correct\")\n",
    "    .groupby(['token_type', 'query_type'])\n",
    "    .agg(corr_prop = ('correct', 'mean'))\n",
    ")\n"
   ]
  },
  {
   "cell_type": "markdown",
   "metadata": {},
   "source": [
    "LLAMA-7B with a few-shot demonstration prefix shows reasonably good performance:\n",
    "- Entities (e.g. \"dog\"): 87% forward, 65% reverse\n",
    "- typical tokens (e.g. \"Labrador\"): 81% acc forward, 77% reverse\n",
    "\n",
    "Rare tokens (E.g. \"puli\") are much poorer, especially for reverse."
   ]
  },
  {
   "cell_type": "code",
   "execution_count": 7,
   "metadata": {},
   "outputs": [],
   "source": [
    "## should be at or below chance -- no real tempting foils in there so shouldn't necessarily be zero\n",
    "\n",
    "results_eval = evaluate(eval_df, edited_model)"
   ]
  },
  {
   "cell_type": "code",
   "execution_count": 8,
   "metadata": {},
   "outputs": [
    {
     "name": "stdout",
     "output_type": "stream",
     "text": [
      "Overall fwd acc: 0.23412698412698413\n",
      "Overall rev acc: 0.2222222222222222\n"
     ]
    },
    {
     "data": {
      "text/html": [
       "<div>\n",
       "<style scoped>\n",
       "    .dataframe tbody tr th:only-of-type {\n",
       "        vertical-align: middle;\n",
       "    }\n",
       "\n",
       "    .dataframe tbody tr th {\n",
       "        vertical-align: top;\n",
       "    }\n",
       "\n",
       "    .dataframe thead th {\n",
       "        text-align: right;\n",
       "    }\n",
       "</style>\n",
       "<table border=\"1\" class=\"dataframe\">\n",
       "  <thead>\n",
       "    <tr style=\"text-align: right;\">\n",
       "      <th></th>\n",
       "      <th></th>\n",
       "      <th>corr_prop</th>\n",
       "    </tr>\n",
       "    <tr>\n",
       "      <th>token_type</th>\n",
       "      <th>query_type</th>\n",
       "      <th></th>\n",
       "    </tr>\n",
       "  </thead>\n",
       "  <tbody>\n",
       "    <tr>\n",
       "      <th rowspan=\"2\" valign=\"top\">rare_token_y</th>\n",
       "      <th>correct_fwd</th>\n",
       "      <td>0.250000</td>\n",
       "    </tr>\n",
       "    <tr>\n",
       "      <th>correct_rev</th>\n",
       "      <td>0.095238</td>\n",
       "    </tr>\n",
       "    <tr>\n",
       "      <th rowspan=\"2\" valign=\"top\">typical_token_y</th>\n",
       "      <th>correct_fwd</th>\n",
       "      <td>0.218254</td>\n",
       "    </tr>\n",
       "    <tr>\n",
       "      <th>correct_rev</th>\n",
       "      <td>0.349206</td>\n",
       "    </tr>\n",
       "  </tbody>\n",
       "</table>\n",
       "</div>"
      ],
      "text/plain": [
       "                             corr_prop\n",
       "token_type      query_type            \n",
       "rare_token_y    correct_fwd   0.250000\n",
       "                correct_rev   0.095238\n",
       "typical_token_y correct_fwd   0.218254\n",
       "                correct_rev   0.349206"
      ]
     },
     "execution_count": 8,
     "metadata": {},
     "output_type": "execute_result"
    }
   ],
   "source": [
    "print(\"Overall fwd acc:\", results_eval.correct_fwd.mean())\n",
    "print(\"Overall rev acc:\", results_eval.correct_rev.mean())\n",
    "(\n",
    "    results_eval\n",
    "    .filter(['entity','token_type','subj','property','query_fwd','query_rev','correct_fwd','correct_rev'])\n",
    "    .melt(id_vars = ['entity','token_type','subj','property','query_fwd','query_rev'], value_vars = ['correct_fwd', 'correct_rev'], var_name = \"query_type\", value_name = \"correct\")\n",
    "    .groupby(['token_type', 'query_type'])\n",
    "    .agg(corr_prop = ('correct', 'mean'))\n",
    ")"
   ]
  },
  {
   "cell_type": "markdown",
   "metadata": {},
   "source": [
    "Should probably do something to better balance the mix for reverse queries based on token typicality -- e.g. only use typical for typical and rare for rare."
   ]
  },
  {
   "cell_type": "markdown",
   "metadata": {},
   "source": [
    "## Model editing performance\n"
   ]
  },
  {
   "cell_type": "code",
   "execution_count": 9,
   "metadata": {},
   "outputs": [],
   "source": [
    "# this took about 1 hr to run ... I wonder if I could make it more efficient \n",
    "edit_method = \"ROME\"\n",
    "\n",
    "full_results_ROME = edit_and_evaluate(edits_df, eval_df, edited_model, edit_method)\n",
    "full_results_ROME.to_csv(\"results/ROME.csv\")"
   ]
  },
  {
   "cell_type": "code",
   "execution_count": 10,
   "metadata": {},
   "outputs": [],
   "source": [
    "edit_method = \"ICE\"\n",
    "full_results_ICE = edit_and_evaluate(edits_df, eval_df, edited_model, edit_method)\n",
    "full_results_ICE.to_csv(\"results/ICE.csv\")"
   ]
  },
  {
   "cell_type": "code",
   "execution_count": 11,
   "metadata": {},
   "outputs": [
    {
     "name": "stdout",
     "output_type": "stream",
     "text": [
      "Overall fwd acc: 0.3869047619047619\n",
      "Overall rev acc: 0.23639455782312926\n"
     ]
    },
    {
     "data": {
      "text/html": [
       "<div>\n",
       "<style scoped>\n",
       "    .dataframe tbody tr th:only-of-type {\n",
       "        vertical-align: middle;\n",
       "    }\n",
       "\n",
       "    .dataframe tbody tr th {\n",
       "        vertical-align: top;\n",
       "    }\n",
       "\n",
       "    .dataframe thead th {\n",
       "        text-align: right;\n",
       "    }\n",
       "</style>\n",
       "<table border=\"1\" class=\"dataframe\">\n",
       "  <thead>\n",
       "    <tr style=\"text-align: right;\">\n",
       "      <th></th>\n",
       "      <th></th>\n",
       "      <th>corr_prop</th>\n",
       "    </tr>\n",
       "    <tr>\n",
       "      <th>token_type</th>\n",
       "      <th>query_type</th>\n",
       "      <th></th>\n",
       "    </tr>\n",
       "  </thead>\n",
       "  <tbody>\n",
       "    <tr>\n",
       "      <th rowspan=\"2\" valign=\"top\">rare_token_y</th>\n",
       "      <th>correct_fwd</th>\n",
       "      <td>0.395125</td>\n",
       "    </tr>\n",
       "    <tr>\n",
       "      <th>correct_rev</th>\n",
       "      <td>0.130385</td>\n",
       "    </tr>\n",
       "    <tr>\n",
       "      <th rowspan=\"2\" valign=\"top\">typical_token_y</th>\n",
       "      <th>correct_fwd</th>\n",
       "      <td>0.378685</td>\n",
       "    </tr>\n",
       "    <tr>\n",
       "      <th>correct_rev</th>\n",
       "      <td>0.342404</td>\n",
       "    </tr>\n",
       "  </tbody>\n",
       "</table>\n",
       "</div>"
      ],
      "text/plain": [
       "                             corr_prop\n",
       "token_type      query_type            \n",
       "rare_token_y    correct_fwd   0.395125\n",
       "                correct_rev   0.130385\n",
       "typical_token_y correct_fwd   0.378685\n",
       "                correct_rev   0.342404"
      ]
     },
     "execution_count": 11,
     "metadata": {},
     "output_type": "execute_result"
    }
   ],
   "source": [
    "print(\"Overall fwd acc:\", full_results_ROME.correct_fwd.mean())\n",
    "print(\"Overall rev acc:\", full_results_ROME.correct_rev.mean())\n",
    "(\n",
    "    full_results_ROME\n",
    "    .filter(['entity','token_type','subj','property','query_fwd','query_rev','correct_fwd','correct_rev'])\n",
    "    .melt(id_vars = ['entity','token_type','subj','property','query_fwd','query_rev'], value_vars = ['correct_fwd', 'correct_rev'], var_name = \"query_type\", value_name = \"correct\")\n",
    "    .groupby(['token_type', 'query_type'])\n",
    "    .agg(corr_prop = ('correct', 'mean'))\n",
    ")"
   ]
  },
  {
   "cell_type": "code",
   "execution_count": 12,
   "metadata": {},
   "outputs": [
    {
     "name": "stdout",
     "output_type": "stream",
     "text": [
      "Overall fwd acc: 0.4420351473922903\n",
      "Overall rev acc: 0.25184240362811794\n"
     ]
    },
    {
     "data": {
      "text/html": [
       "<div>\n",
       "<style scoped>\n",
       "    .dataframe tbody tr th:only-of-type {\n",
       "        vertical-align: middle;\n",
       "    }\n",
       "\n",
       "    .dataframe tbody tr th {\n",
       "        vertical-align: top;\n",
       "    }\n",
       "\n",
       "    .dataframe thead th {\n",
       "        text-align: right;\n",
       "    }\n",
       "</style>\n",
       "<table border=\"1\" class=\"dataframe\">\n",
       "  <thead>\n",
       "    <tr style=\"text-align: right;\">\n",
       "      <th></th>\n",
       "      <th></th>\n",
       "      <th>corr_prop</th>\n",
       "    </tr>\n",
       "    <tr>\n",
       "      <th>token_type</th>\n",
       "      <th>query_type</th>\n",
       "      <th></th>\n",
       "    </tr>\n",
       "  </thead>\n",
       "  <tbody>\n",
       "    <tr>\n",
       "      <th rowspan=\"2\" valign=\"top\">rare_token_y</th>\n",
       "      <th>correct_fwd</th>\n",
       "      <td>0.499433</td>\n",
       "    </tr>\n",
       "    <tr>\n",
       "      <th>correct_rev</th>\n",
       "      <td>0.148243</td>\n",
       "    </tr>\n",
       "    <tr>\n",
       "      <th rowspan=\"2\" valign=\"top\">typical_token_y</th>\n",
       "      <th>correct_fwd</th>\n",
       "      <td>0.384637</td>\n",
       "    </tr>\n",
       "    <tr>\n",
       "      <th>correct_rev</th>\n",
       "      <td>0.355442</td>\n",
       "    </tr>\n",
       "  </tbody>\n",
       "</table>\n",
       "</div>"
      ],
      "text/plain": [
       "                             corr_prop\n",
       "token_type      query_type            \n",
       "rare_token_y    correct_fwd   0.499433\n",
       "                correct_rev   0.148243\n",
       "typical_token_y correct_fwd   0.384637\n",
       "                correct_rev   0.355442"
      ]
     },
     "execution_count": 12,
     "metadata": {},
     "output_type": "execute_result"
    }
   ],
   "source": [
    "print(\"Overall fwd acc:\", full_results_ICE.correct_fwd.mean())\n",
    "print(\"Overall rev acc:\", full_results_ICE.correct_rev.mean())\n",
    "(\n",
    "    full_results_ICE\n",
    "    .filter(['entity','token_type','subj','property','query_fwd','query_rev','correct_fwd','correct_rev'])\n",
    "    .melt(id_vars = ['entity','token_type','subj','property','query_fwd','query_rev'], value_vars = ['correct_fwd', 'correct_rev'], var_name = \"query_type\", value_name = \"correct\")\n",
    "    .groupby(['token_type', 'query_type'])\n",
    "    .agg(corr_prop = ('correct', 'mean'))\n",
    ")"
   ]
  },
  {
   "cell_type": "markdown",
   "metadata": {},
   "source": [
    "## For later ..."
   ]
  },
  {
   "cell_type": "code",
   "execution_count": 31,
   "metadata": {},
   "outputs": [
    {
     "name": "stdout",
     "output_type": "stream",
     "text": [
      "a fruitbat rests by hanging upside-down\n",
      "a shark's skeleton is cartilage\n",
      "food for a hummingbird must be nectar\n",
      "a rhinoceros has a thick hide\n",
      "a worm lives underground\n",
      "a hammerhead is a type of shark\n",
      "a koala has two thumbs\n",
      "a cougar is a type of mammal\n",
      "some sheep make wool\n",
      "a tamarin is a kind of monkey\n",
      "a parrot can talk\n",
      "a wolf belongs to a pack\n",
      "\n",
      "---\n",
      "one animal that hangs upside-down is a fruitbat\n",
      "an animal whose skeleton is cartilage is a shark\n",
      "something that eats nectar is a hummingbird\n",
      "one animal with a thick hide is a rhinoceros\n",
      "one thing that lives underground is a worm\n",
      "one type of shark is a hammerhead\n",
      "an animal with two thumbs is a koala\n",
      "one example of a mammal is a cougar\n",
      "an animal that makes wool is a sheep\n",
      "one kind of monkey is a tamarin\n",
      "an animal that can talk is a parrot\n",
      "one animal that belongs to a pack is a wolf\n",
      "\n",
      "---\n"
     ]
    }
   ],
   "source": []
  },
  {
   "cell_type": "code",
   "execution_count": null,
   "metadata": {},
   "outputs": [],
   "source": []
  }
 ],
 "metadata": {
  "kernelspec": {
   "display_name": "EasyEdit",
   "language": "python",
   "name": "easyedit"
  },
  "language_info": {
   "codemirror_mode": {
    "name": "ipython",
    "version": 3
   },
   "file_extension": ".py",
   "mimetype": "text/x-python",
   "name": "python",
   "nbconvert_exporter": "python",
   "pygments_lexer": "ipython3",
   "version": "3.9.18"
  }
 },
 "nbformat": 4,
 "nbformat_minor": 4
}
