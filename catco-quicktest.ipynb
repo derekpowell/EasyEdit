{
 "cells": [
  {
   "cell_type": "code",
   "execution_count": 1,
   "metadata": {},
   "outputs": [
    {
     "name": "stdout",
     "output_type": "stream",
     "text": [
      "/scratch/dmpowell/.cache/huggingface\n",
      "device =  cuda\n"
     ]
    }
   ],
   "source": [
    "import os\n",
    "if os.path.isdir('/scratch/dmpowell'):\n",
    "    os.environ['TRANSFORMERS_CACHE'] = '/scratch/dmpowell/.cache/huggingface'\n",
    "print(os.getenv('TRANSFORMERS_CACHE'))\n",
    "\n",
    "import numpy as np\n",
    "import torch\n",
    "from transformers import GPTJForCausalLM, AutoTokenizer, AutoModel, GPT2LMHeadModel, AutoModelForCausalLM\n",
    "\n",
    "import pandas as pd\n",
    "import json\n",
    "import janitor\n",
    "\n",
    "from easyeditor.util import nethook\n",
    "from easyeditor.custom import * # gets my custom functions\n",
    "\n",
    "from easyeditor.editors import LOG\n",
    "import logging\n",
    "LOG.setLevel(logging.ERROR) # stops cluttering up notebook\n",
    "\n",
    "import torch.nn.functional as F\n",
    "\n",
    "from contextlib import redirect_stdout\n",
    "\n",
    "device = torch.device(\"cuda\" if torch.cuda.is_available() else \"cpu\")\n",
    "print(\"device = \", device)"
   ]
  },
  {
   "cell_type": "code",
   "execution_count": 2,
   "metadata": {},
   "outputs": [],
   "source": [
    "from ast import literal_eval\n",
    "\n",
    "types_df = pd.read_csv(\"../catco-data/animal-type-tokens.tsv\", sep=\"\\t\")\n",
    "properties_df = pd.read_csv(\"../catco-data/animal-data.tsv\", sep=\"\\t\")\n",
    "\n",
    "edits_df = pd.read_csv(\"../catco-data/edits.csv\")\n",
    "baseline_df = pd.read_csv(\"../catco-data/baseline-evaluation.csv\", converters={'fwd_choices':literal_eval, 'rev_choices':literal_eval})\n",
    "eval_df = pd.read_csv(\"../catco-data/edits-evaluation.csv\", converters={'fwd_choices':literal_eval, 'rev_choices':literal_eval})\n"
   ]
  },
  {
   "cell_type": "code",
   "execution_count": 3,
   "metadata": {},
   "outputs": [
    {
     "name": "stdout",
     "output_type": "stream",
     "text": [
      "a fruitbat rests by hanging upside-down\n",
      "a shark's skeleton is cartilage\n",
      "food for a hummingbird must be nectar\n",
      "a rhinoceros has a thick hide\n",
      "a worm lives underground\n",
      "a hammerhead is a type of shark\n",
      "\n",
      "---\n",
      "one animal that hangs upside-down is a fruitbat\n",
      "an animal whose skeleton is cartilage is a shark\n",
      "something that eats nectar is a hummingbird\n",
      "one animal with a thick hide is a rhinoceros\n",
      "one thing that lives underground is a worm\n",
      "one type of shark is a hammerhead\n",
      "\n",
      "---\n"
     ]
    }
   ],
   "source": [
    "with open('prefix_fwd.txt') as f:\n",
    "    prefix_fwd = \"\".join(f.readlines()[0:6])\n",
    "\n",
    "    # prefix_fwd = f.read()\n",
    "    \n",
    "print(prefix_fwd)\n",
    "print(\"---\")\n",
    "\n",
    "with open('prefix_rev.txt') as f:\n",
    "    prefix_rev = \"\".join(f.readlines()[0:6])\n",
    "    \n",
    "print(prefix_rev)\n",
    "print(\"---\")"
   ]
  },
  {
   "cell_type": "code",
   "execution_count": 4,
   "metadata": {},
   "outputs": [
    {
     "data": {
      "application/json": {
       "ascii": false,
       "bar_format": null,
       "colour": null,
       "elapsed": 0.004774570465087891,
       "initial": 0,
       "n": 0,
       "ncols": null,
       "nrows": 78,
       "postfix": null,
       "prefix": "Loading checkpoint shards",
       "rate": null,
       "total": 2,
       "unit": "it",
       "unit_divisor": 1000,
       "unit_scale": false
      },
      "application/vnd.jupyter.widget-view+json": {
       "model_id": "b25c466dbffb4bba9183717b1929cea8",
       "version_major": 2,
       "version_minor": 0
      },
      "text/plain": [
       "Loading checkpoint shards:   0%|          | 0/2 [00:00<?, ?it/s]"
      ]
     },
     "metadata": {},
     "output_type": "display_data"
    },
    {
     "name": "stderr",
     "output_type": "stream",
     "text": [
      "normalizer.cc(51) LOG(INFO) precompiled_charsmap is empty. use identity normalization.\n"
     ]
    }
   ],
   "source": [
    "hparams = ROMEHyperParams.from_hparams('hparams/ROME/llama-7b.yaml')\n",
    "edited_model = EditedModel(hparams)"
   ]
  },
  {
   "cell_type": "code",
   "execution_count": 5,
   "metadata": {},
   "outputs": [],
   "source": [
    "results_baseline = evaluate(baseline_df, edited_model, prefix_fwd = prefix_fwd, prefix_rev = prefix_rev)"
   ]
  },
  {
   "cell_type": "code",
   "execution_count": 6,
   "metadata": {},
   "outputs": [
    {
     "data": {
      "text/html": [
       "<div>\n",
       "<style scoped>\n",
       "    .dataframe tbody tr th:only-of-type {\n",
       "        vertical-align: middle;\n",
       "    }\n",
       "\n",
       "    .dataframe tbody tr th {\n",
       "        vertical-align: top;\n",
       "    }\n",
       "\n",
       "    .dataframe thead th {\n",
       "        text-align: right;\n",
       "    }\n",
       "</style>\n",
       "<table border=\"1\" class=\"dataframe\">\n",
       "  <thead>\n",
       "    <tr style=\"text-align: right;\">\n",
       "      <th></th>\n",
       "      <th></th>\n",
       "      <th>corr_prop</th>\n",
       "    </tr>\n",
       "    <tr>\n",
       "      <th>token_type</th>\n",
       "      <th>query_type</th>\n",
       "      <th></th>\n",
       "    </tr>\n",
       "  </thead>\n",
       "  <tbody>\n",
       "    <tr>\n",
       "      <th rowspan=\"2\" valign=\"top\">rare_token</th>\n",
       "      <th>correct_fwd</th>\n",
       "      <td>0.78125</td>\n",
       "    </tr>\n",
       "    <tr>\n",
       "      <th>correct_rev</th>\n",
       "      <td>0.40625</td>\n",
       "    </tr>\n",
       "    <tr>\n",
       "      <th rowspan=\"2\" valign=\"top\">typical_token</th>\n",
       "      <th>correct_fwd</th>\n",
       "      <td>0.93750</td>\n",
       "    </tr>\n",
       "    <tr>\n",
       "      <th>correct_rev</th>\n",
       "      <td>0.93750</td>\n",
       "    </tr>\n",
       "  </tbody>\n",
       "</table>\n",
       "</div>"
      ],
      "text/plain": [
       "                           corr_prop\n",
       "token_type    query_type            \n",
       "rare_token    correct_fwd    0.78125\n",
       "              correct_rev    0.40625\n",
       "typical_token correct_fwd    0.93750\n",
       "              correct_rev    0.93750"
      ]
     },
     "execution_count": 6,
     "metadata": {},
     "output_type": "execute_result"
    }
   ],
   "source": [
    "# overall category membership knowledge (for main and paraphrases)\n",
    "(\n",
    "    results_baseline\n",
    "    .loc[lambda x: (x.property.str.startswith(\"category_membership\")) ]\n",
    "    .filter(['entity','token_type','subj','property','query_fwd','query_rev','correct_fwd','correct_rev'])\n",
    "    .melt(id_vars = ['entity','token_type','subj','property','query_fwd','query_rev'], value_vars = ['correct_fwd', 'correct_rev'], var_name = \"query_type\", value_name = \"correct\")\n",
    "    .groupby(['token_type', 'query_type'])\n",
    "    .agg(corr_prop = ('correct', 'mean'))\n",
    ")"
   ]
  },
  {
   "cell_type": "markdown",
   "metadata": {},
   "source": [
    "LLAMA-7B knows the typical tokens category memberships well, much weaker for the rare tokens, and especially for reverse items."
   ]
  },
  {
   "cell_type": "code",
   "execution_count": 34,
   "metadata": {},
   "outputs": [
    {
     "name": "stdout",
     "output_type": "stream",
     "text": [
      "Overall fwd acc: 0.7662835249042146\n",
      "Overall rev acc: 0.5670498084291188\n"
     ]
    },
    {
     "data": {
      "text/html": [
       "<div>\n",
       "<style scoped>\n",
       "    .dataframe tbody tr th:only-of-type {\n",
       "        vertical-align: middle;\n",
       "    }\n",
       "\n",
       "    .dataframe tbody tr th {\n",
       "        vertical-align: top;\n",
       "    }\n",
       "\n",
       "    .dataframe thead th {\n",
       "        text-align: right;\n",
       "    }\n",
       "</style>\n",
       "<table border=\"1\" class=\"dataframe\">\n",
       "  <thead>\n",
       "    <tr style=\"text-align: right;\">\n",
       "      <th></th>\n",
       "      <th></th>\n",
       "      <th>corr_prop</th>\n",
       "    </tr>\n",
       "    <tr>\n",
       "      <th>token_type</th>\n",
       "      <th>query_type</th>\n",
       "      <th></th>\n",
       "    </tr>\n",
       "  </thead>\n",
       "  <tbody>\n",
       "    <tr>\n",
       "      <th rowspan=\"2\" valign=\"top\">entity</th>\n",
       "      <th>correct_fwd</th>\n",
       "      <td>0.873016</td>\n",
       "    </tr>\n",
       "    <tr>\n",
       "      <th>correct_rev</th>\n",
       "      <td>0.714286</td>\n",
       "    </tr>\n",
       "    <tr>\n",
       "      <th rowspan=\"2\" valign=\"top\">rare_token</th>\n",
       "      <th>correct_fwd</th>\n",
       "      <td>0.666667</td>\n",
       "    </tr>\n",
       "    <tr>\n",
       "      <th>correct_rev</th>\n",
       "      <td>0.373737</td>\n",
       "    </tr>\n",
       "    <tr>\n",
       "      <th rowspan=\"2\" valign=\"top\">typical_token</th>\n",
       "      <th>correct_fwd</th>\n",
       "      <td>0.797980</td>\n",
       "    </tr>\n",
       "    <tr>\n",
       "      <th>correct_rev</th>\n",
       "      <td>0.666667</td>\n",
       "    </tr>\n",
       "  </tbody>\n",
       "</table>\n",
       "</div>"
      ],
      "text/plain": [
       "                           corr_prop\n",
       "token_type    query_type            \n",
       "entity        correct_fwd   0.873016\n",
       "              correct_rev   0.714286\n",
       "rare_token    correct_fwd   0.666667\n",
       "              correct_rev   0.373737\n",
       "typical_token correct_fwd   0.797980\n",
       "              correct_rev   0.666667"
      ]
     },
     "execution_count": 34,
     "metadata": {},
     "output_type": "execute_result"
    }
   ],
   "source": [
    "print(\"Overall fwd acc:\", results_baseline.correct_fwd.mean())\n",
    "print(\"Overall rev acc:\", results_baseline.correct_rev.mean())\n",
    "\n",
    "(\n",
    "    results_baseline\n",
    "    .filter(['entity','token_type','subj','property','query_fwd','query_rev','correct_fwd','correct_rev'])\n",
    "    .melt(id_vars = ['entity','token_type','subj','property','query_fwd','query_rev'], value_vars = ['correct_fwd', 'correct_rev'], var_name = \"query_type\", value_name = \"correct\")\n",
    "    .groupby(['token_type', 'query_type'])\n",
    "    .agg(corr_prop = ('correct', 'mean'))\n",
    ")\n"
   ]
  },
  {
   "cell_type": "markdown",
   "metadata": {},
   "source": [
    "LLAMA-7B with a few-shot demonstration prefix shows reasonably good performance:\n",
    "- Entities (e.g. \"dog\"): 87% forward, 73% reverse\n",
    "- typical tokens (e.g. \"Labrador\"): 80% acc forward, 68% reverse\n",
    "\n",
    "Rare tokens (E.g. \"puli\") are much poorer, especially for reverse."
   ]
  },
  {
   "cell_type": "code",
   "execution_count": 25,
   "metadata": {},
   "outputs": [],
   "source": [
    "## should be at or below chance -- no real tempting foils in there so shouldn't necessarily be zero\n",
    "results_eval = evaluate(eval_df, edited_model)"
   ]
  },
  {
   "cell_type": "code",
   "execution_count": 26,
   "metadata": {},
   "outputs": [
    {
     "name": "stdout",
     "output_type": "stream",
     "text": [
      "Overall fwd acc: 0.10504201680672269\n",
      "Overall rev acc: 0.5514705882352942\n"
     ]
    },
    {
     "data": {
      "text/html": [
       "<div>\n",
       "<style scoped>\n",
       "    .dataframe tbody tr th:only-of-type {\n",
       "        vertical-align: middle;\n",
       "    }\n",
       "\n",
       "    .dataframe tbody tr th {\n",
       "        vertical-align: top;\n",
       "    }\n",
       "\n",
       "    .dataframe thead th {\n",
       "        text-align: right;\n",
       "    }\n",
       "</style>\n",
       "<table border=\"1\" class=\"dataframe\">\n",
       "  <thead>\n",
       "    <tr style=\"text-align: right;\">\n",
       "      <th></th>\n",
       "      <th></th>\n",
       "      <th>corr_prop</th>\n",
       "    </tr>\n",
       "    <tr>\n",
       "      <th>token_type</th>\n",
       "      <th>query_type</th>\n",
       "      <th></th>\n",
       "    </tr>\n",
       "  </thead>\n",
       "  <tbody>\n",
       "    <tr>\n",
       "      <th rowspan=\"2\" valign=\"top\">rare_token_y</th>\n",
       "      <th>correct_fwd</th>\n",
       "      <td>0.198413</td>\n",
       "    </tr>\n",
       "    <tr>\n",
       "      <th>correct_rev</th>\n",
       "      <td>1.000000</td>\n",
       "    </tr>\n",
       "    <tr>\n",
       "      <th rowspan=\"2\" valign=\"top\">typical_token_y</th>\n",
       "      <th>correct_fwd</th>\n",
       "      <td>0.162698</td>\n",
       "    </tr>\n",
       "    <tr>\n",
       "      <th>correct_rev</th>\n",
       "      <td>1.000000</td>\n",
       "    </tr>\n",
       "  </tbody>\n",
       "</table>\n",
       "</div>"
      ],
      "text/plain": [
       "                             corr_prop\n",
       "token_type      query_type            \n",
       "rare_token_y    correct_fwd   0.198413\n",
       "                correct_rev   1.000000\n",
       "typical_token_y correct_fwd   0.162698\n",
       "                correct_rev   1.000000"
      ]
     },
     "execution_count": 26,
     "metadata": {},
     "output_type": "execute_result"
    }
   ],
   "source": [
    "print(\"Overall fwd acc:\", results_eval.correct_fwd.mean())\n",
    "print(\"Overall rev acc:\", results_eval.correct_rev.mean())\n",
    "(\n",
    "    results_eval\n",
    "    .filter(['entity','token_type','subj','property','query_fwd','query_rev','correct_fwd','correct_rev'])\n",
    "    .melt(id_vars = ['entity','token_type','subj','property','query_fwd','query_rev'], value_vars = ['correct_fwd', 'correct_rev'], var_name = \"query_type\", value_name = \"correct\")\n",
    "    .groupby(['token_type', 'query_type'])\n",
    "    .agg(corr_prop = ('correct', 'mean'))\n",
    ")"
   ]
  },
  {
   "cell_type": "markdown",
   "metadata": {},
   "source": [
    "Should probably do something to better balance the mix for reverse queries based on token typicality -- e.g. only use typical for typical and rare for rare. [DONE]"
   ]
  },
  {
   "cell_type": "markdown",
   "metadata": {},
   "source": [
    "## Model editing performance\n"
   ]
  },
  {
   "cell_type": "code",
   "execution_count": 116,
   "metadata": {},
   "outputs": [],
   "source": [
    "# define reporting function\n",
    "def report_results(df):\n",
    "    \n",
    "    out = (\n",
    "        df      \n",
    "        .assign(\n",
    "            chance_fwd = lambda d: d.apply(lambda x: 1/len(x.fwd_choices), 1),\n",
    "            chance_rev = lambda d: d.apply(lambda x: 1/len(x.rev_choices), 1)\n",
    "        )\n",
    "        .filter(['entity','token_type','subj','property', 'edit', 'query_fwd','query_rev','correct_fwd','correct_rev', 'chance_fwd', 'chance_rev'])\n",
    "        .pivot_longer(\n",
    "            index = ['entity','token_type','subj','property', 'edit', 'query_fwd', 'query_rev'],\n",
    "            names_to = ('var', 'query_type'),\n",
    "            names_sep = '_'\n",
    "        )\n",
    "        .assign(test_group = lambda x: np.where(x.property.str.startswith(\"category_\"), \"category membership\", \"property\"))\n",
    "        .groupby(['test_group', 'var'])\n",
    "        .agg(\n",
    "            prop = ('value', 'mean')\n",
    "            )\n",
    "        .reset_index()\n",
    "        .pivot(index = ['test_group'], columns = ['var'], values = 'prop')\n",
    "\n",
    "    )\n",
    "     \n",
    "    out2 = (\n",
    "        df      \n",
    "        .assign(\n",
    "            chance_fwd = lambda d: d.apply(lambda x: 1/len(x.fwd_choices), 1),\n",
    "            chance_rev = lambda d: d.apply(lambda x: 1/len(x.rev_choices), 1)\n",
    "        )\n",
    "        .filter(['entity','token_type','subj','property', 'edit', 'query_fwd','query_rev','correct_fwd','correct_rev', 'chance_fwd', 'chance_rev'])\n",
    "        .pivot_longer(\n",
    "            index = ['entity','token_type','subj','property', 'edit', 'query_fwd', 'query_rev'],\n",
    "            names_to = ('var', 'query_type'),\n",
    "            names_sep = '_'\n",
    "        )\n",
    "        .assign(test_group = lambda x: np.where(x.property.str.startswith(\"category_\"), \"category membership\", \"property\"))\n",
    "        .groupby(['test_group', 'query_type', 'var'])\n",
    "        .agg(\n",
    "            prop = ('value', 'mean')\n",
    "            )\n",
    "        .reset_index()\n",
    "        .pivot(index = ['test_group','query_type'], columns = ['var'], values = 'prop')\n",
    "\n",
    "    )\n",
    "\n",
    "    return pd.concat([out, out2])\n",
    "  "
   ]
  },
  {
   "cell_type": "code",
   "execution_count": 60,
   "metadata": {},
   "outputs": [],
   "source": [
    "edit_method = \"ROME\"\n",
    "full_results_ROME = edit_and_evaluate(edits_df, eval_df, edited_model, edit_method, prefix_fwd = prefix_fwd, prefix_rev = prefix_rev)\n",
    "full_results_ROME.to_csv(\"results/ROME-LLAMA7B.csv\")"
   ]
  },
  {
   "cell_type": "code",
   "execution_count": 117,
   "metadata": {},
   "outputs": [
    {
     "name": "stderr",
     "output_type": "stream",
     "text": [
      "/home/dmpowell/.conda/envs/EasyEdit/lib/python3.9/site-packages/janitor/functions/pivot.py:903: FutureWarning: Behavior when concatenating bool-dtype and numeric-dtype arrays is deprecated; in a future version these will cast to object dtype (instead of coercing bools to numeric values). To retain the old behavior, explicitly cast bool-dtype arrays to numeric dtype.\n",
      "  values = {values_to: concat_compat(values)}\n",
      "/home/dmpowell/.conda/envs/EasyEdit/lib/python3.9/site-packages/janitor/functions/pivot.py:903: FutureWarning: Behavior when concatenating bool-dtype and numeric-dtype arrays is deprecated; in a future version these will cast to object dtype (instead of coercing bools to numeric values). To retain the old behavior, explicitly cast bool-dtype arrays to numeric dtype.\n",
      "  values = {values_to: concat_compat(values)}\n"
     ]
    },
    {
     "data": {
      "text/html": [
       "<div>\n",
       "<style scoped>\n",
       "    .dataframe tbody tr th:only-of-type {\n",
       "        vertical-align: middle;\n",
       "    }\n",
       "\n",
       "    .dataframe tbody tr th {\n",
       "        vertical-align: top;\n",
       "    }\n",
       "\n",
       "    .dataframe thead th {\n",
       "        text-align: right;\n",
       "    }\n",
       "</style>\n",
       "<table border=\"1\" class=\"dataframe\">\n",
       "  <thead>\n",
       "    <tr style=\"text-align: right;\">\n",
       "      <th>var</th>\n",
       "      <th>chance</th>\n",
       "      <th>correct</th>\n",
       "    </tr>\n",
       "  </thead>\n",
       "  <tbody>\n",
       "    <tr>\n",
       "      <th>category membership</th>\n",
       "      <td>0.118056</td>\n",
       "      <td>0.170759</td>\n",
       "    </tr>\n",
       "    <tr>\n",
       "      <th>property</th>\n",
       "      <td>0.252315</td>\n",
       "      <td>0.233135</td>\n",
       "    </tr>\n",
       "    <tr>\n",
       "      <th>(category membership, fwd)</th>\n",
       "      <td>0.125000</td>\n",
       "      <td>0.299107</td>\n",
       "    </tr>\n",
       "    <tr>\n",
       "      <th>(category membership, rev)</th>\n",
       "      <td>0.111111</td>\n",
       "      <td>0.042411</td>\n",
       "    </tr>\n",
       "    <tr>\n",
       "      <th>(property, fwd)</th>\n",
       "      <td>0.254630</td>\n",
       "      <td>0.257937</td>\n",
       "    </tr>\n",
       "    <tr>\n",
       "      <th>(property, rev)</th>\n",
       "      <td>0.250000</td>\n",
       "      <td>0.208333</td>\n",
       "    </tr>\n",
       "  </tbody>\n",
       "</table>\n",
       "</div>"
      ],
      "text/plain": [
       "var                           chance   correct\n",
       "category membership         0.118056  0.170759\n",
       "property                    0.252315  0.233135\n",
       "(category membership, fwd)  0.125000  0.299107\n",
       "(category membership, rev)  0.111111  0.042411\n",
       "(property, fwd)             0.254630  0.257937\n",
       "(property, rev)             0.250000  0.208333"
      ]
     },
     "execution_count": 117,
     "metadata": {},
     "output_type": "execute_result"
    }
   ],
   "source": [
    "report_results(full_results_ROME)  "
   ]
  },
  {
   "cell_type": "code",
   "execution_count": 58,
   "metadata": {},
   "outputs": [],
   "source": [
    "edit_method = \"ICE\"\n",
    "full_results_ICE = edit_and_evaluate(edits_df, eval_df, edited_model, edit_method)\n",
    "full_results_ICE.to_csv(\"results/ICE-LLAMA7B.csv\")"
   ]
  },
  {
   "cell_type": "code",
   "execution_count": 118,
   "metadata": {},
   "outputs": [
    {
     "name": "stderr",
     "output_type": "stream",
     "text": [
      "/home/dmpowell/.conda/envs/EasyEdit/lib/python3.9/site-packages/janitor/functions/pivot.py:903: FutureWarning: Behavior when concatenating bool-dtype and numeric-dtype arrays is deprecated; in a future version these will cast to object dtype (instead of coercing bools to numeric values). To retain the old behavior, explicitly cast bool-dtype arrays to numeric dtype.\n",
      "  values = {values_to: concat_compat(values)}\n",
      "/home/dmpowell/.conda/envs/EasyEdit/lib/python3.9/site-packages/janitor/functions/pivot.py:903: FutureWarning: Behavior when concatenating bool-dtype and numeric-dtype arrays is deprecated; in a future version these will cast to object dtype (instead of coercing bools to numeric values). To retain the old behavior, explicitly cast bool-dtype arrays to numeric dtype.\n",
      "  values = {values_to: concat_compat(values)}\n"
     ]
    },
    {
     "data": {
      "text/html": [
       "<div>\n",
       "<style scoped>\n",
       "    .dataframe tbody tr th:only-of-type {\n",
       "        vertical-align: middle;\n",
       "    }\n",
       "\n",
       "    .dataframe tbody tr th {\n",
       "        vertical-align: top;\n",
       "    }\n",
       "\n",
       "    .dataframe thead th {\n",
       "        text-align: right;\n",
       "    }\n",
       "</style>\n",
       "<table border=\"1\" class=\"dataframe\">\n",
       "  <thead>\n",
       "    <tr style=\"text-align: right;\">\n",
       "      <th>var</th>\n",
       "      <th>chance</th>\n",
       "      <th>correct</th>\n",
       "    </tr>\n",
       "  </thead>\n",
       "  <tbody>\n",
       "    <tr>\n",
       "      <th>category membership</th>\n",
       "      <td>0.118056</td>\n",
       "      <td>0.812500</td>\n",
       "    </tr>\n",
       "    <tr>\n",
       "      <th>property</th>\n",
       "      <td>0.252315</td>\n",
       "      <td>0.702381</td>\n",
       "    </tr>\n",
       "    <tr>\n",
       "      <th>(category membership, fwd)</th>\n",
       "      <td>0.125000</td>\n",
       "      <td>0.662946</td>\n",
       "    </tr>\n",
       "    <tr>\n",
       "      <th>(category membership, rev)</th>\n",
       "      <td>0.111111</td>\n",
       "      <td>0.962054</td>\n",
       "    </tr>\n",
       "    <tr>\n",
       "      <th>(property, fwd)</th>\n",
       "      <td>0.254630</td>\n",
       "      <td>0.408730</td>\n",
       "    </tr>\n",
       "    <tr>\n",
       "      <th>(property, rev)</th>\n",
       "      <td>0.250000</td>\n",
       "      <td>0.996032</td>\n",
       "    </tr>\n",
       "  </tbody>\n",
       "</table>\n",
       "</div>"
      ],
      "text/plain": [
       "var                           chance   correct\n",
       "category membership         0.118056  0.812500\n",
       "property                    0.252315  0.702381\n",
       "(category membership, fwd)  0.125000  0.662946\n",
       "(category membership, rev)  0.111111  0.962054\n",
       "(property, fwd)             0.254630  0.408730\n",
       "(property, rev)             0.250000  0.996032"
      ]
     },
     "execution_count": 118,
     "metadata": {},
     "output_type": "execute_result"
    }
   ],
   "source": [
    "\n",
    "report_results(full_results_ICE)  "
   ]
  }
 ],
 "metadata": {
  "kernelspec": {
   "display_name": "EasyEdit",
   "language": "python",
   "name": "python3"
  },
  "language_info": {
   "codemirror_mode": {
    "name": "ipython",
    "version": 3
   },
   "file_extension": ".py",
   "mimetype": "text/x-python",
   "name": "python",
   "nbconvert_exporter": "python",
   "pygments_lexer": "ipython3",
   "version": "3.9.18"
  }
 },
 "nbformat": 4,
 "nbformat_minor": 4
}
