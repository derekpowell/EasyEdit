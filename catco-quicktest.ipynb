{
 "cells": [
  {
   "cell_type": "code",
   "execution_count": 1,
   "metadata": {},
   "outputs": [
    {
     "name": "stdout",
     "output_type": "stream",
     "text": [
      "/scratch/dmpowell/.cache/huggingface\n",
      "device =  cuda\n"
     ]
    }
   ],
   "source": [
    "import os\n",
    "if os.path.isdir('/scratch/dmpowell'):\n",
    "    os.environ['TRANSFORMERS_CACHE'] = '/scratch/dmpowell/.cache/huggingface'\n",
    "print(os.getenv('TRANSFORMERS_CACHE'))\n",
    "\n",
    "import numpy as np\n",
    "import torch\n",
    "from transformers import GPTJForCausalLM, AutoTokenizer, AutoModel, GPT2LMHeadModel, AutoModelForCausalLM\n",
    "\n",
    "import pandas as pd\n",
    "import json\n",
    "import janitor\n",
    "\n",
    "from easyeditor.util import nethook\n",
    "from easyeditor.custom import * # gets my custom functions\n",
    "\n",
    "from easyeditor.editors import LOG\n",
    "import logging\n",
    "# LOG.setLevel(logging.ERROR) # stops cluttering up notebook\n",
    "\n",
    "import torch.nn.functional as F\n",
    "\n",
    "from contextlib import redirect_stdout\n",
    "\n",
    "device = torch.device(\"cuda\" if torch.cuda.is_available() else \"cpu\")\n",
    "print(\"device = \", device)"
   ]
  },
  {
   "cell_type": "code",
   "execution_count": 2,
   "metadata": {},
   "outputs": [],
   "source": [
    "# from huggingface_hub import notebook_login\n",
    "# notebook_login()\n",
    "\n",
    "import configparser\n",
    "config = configparser.ConfigParser()\n",
    "\n",
    "config.read(\"config.ini\")\n",
    "\n",
    "auth_token = config[\"hugging_face\"][\"token\"]"
   ]
  },
  {
   "cell_type": "markdown",
   "metadata": {},
   "source": [
    "#### Back-cronym brainstorm\n",
    "\n",
    "This is what's really important ...\n",
    "\n",
    "TAXI - TAXonomic Inference dataset\n",
    "TAXICAB - TAXonomic Inference following Coherent Alteration of Beliefs\n",
    "\n",
    "ATAXIAA - Assessing TAXonomic Inferences After Alterations "
   ]
  },
  {
   "cell_type": "code",
   "execution_count": 3,
   "metadata": {},
   "outputs": [],
   "source": [
    "from ast import literal_eval\n",
    "\n",
    "types_df = pd.read_csv(\"../catco-data/animal-type-tokens.tsv\", sep=\"\\t\")\n",
    "properties_df = pd.read_csv(\"../catco-data/animal-data.tsv\", sep=\"\\t\")\n",
    "\n",
    "edits_df = pd.read_csv(\"../catco-data/edits.csv\")\n",
    "baseline_df = pd.read_csv(\"../catco-data/baseline-evaluation.csv\", converters={'fwd_choices':literal_eval, 'rev_choices':literal_eval})\n",
    "eval_df = pd.read_csv(\"../catco-data/edits-evaluation.csv\", converters={'fwd_choices':literal_eval, 'rev_choices':literal_eval})\n"
   ]
  },
  {
   "cell_type": "code",
   "execution_count": 4,
   "metadata": {},
   "outputs": [
    {
     "name": "stdout",
     "output_type": "stream",
     "text": [
      "a fruitbat rests by hanging upside-down\n",
      "a shark's skeleton is cartilage\n",
      "food for a hummingbird must be nectar\n",
      "a rhinoceros has a thick hide\n",
      "a worm lives underground\n",
      "a hammerhead is a type of shark\n",
      "\n",
      "---\n",
      "one animal that hangs upside-down is a fruitbat\n",
      "an animal whose skeleton is cartilage is a shark\n",
      "something that eats nectar is a hummingbird\n",
      "one animal with a thick hide is a rhinoceros\n",
      "one thing that lives underground is a worm\n",
      "one type of shark is a hammerhead\n",
      "\n",
      "---\n"
     ]
    }
   ],
   "source": [
    "with open('prefix_fwd.txt') as f:\n",
    "    prefix_fwd = \"\".join(f.readlines()[0:6])\n",
    "\n",
    "    # prefix_fwd = f.read()\n",
    "    \n",
    "print(prefix_fwd)\n",
    "print(\"---\")\n",
    "\n",
    "with open('prefix_rev.txt') as f:\n",
    "    prefix_rev = \"\".join(f.readlines()[0:6])\n",
    "    \n",
    "print(prefix_rev)\n",
    "print(\"---\")"
   ]
  },
  {
   "cell_type": "code",
   "execution_count": 5,
   "metadata": {},
   "outputs": [
    {
     "ename": "OSError",
     "evalue": "meta-llama/Llama-2-7b does not appear to have a file named config.json. Checkout 'https://huggingface.co/meta-llama/Llama-2-7b/main' for available files.",
     "output_type": "error",
     "traceback": [
      "\u001b[0;31m---------------------------------------------------------------------------\u001b[0m",
      "\u001b[0;31mHTTPError\u001b[0m                                 Traceback (most recent call last)",
      "File \u001b[0;32m~/.conda/envs/EasyEdit/lib/python3.9/site-packages/huggingface_hub/utils/_errors.py:213\u001b[0m, in \u001b[0;36mhf_raise_for_status\u001b[0;34m(response, endpoint_name)\u001b[0m\n\u001b[1;32m    212\u001b[0m \u001b[38;5;28;01mtry\u001b[39;00m:\n\u001b[0;32m--> 213\u001b[0m     \u001b[43mresponse\u001b[49m\u001b[38;5;241;43m.\u001b[39;49m\u001b[43mraise_for_status\u001b[49m\u001b[43m(\u001b[49m\u001b[43m)\u001b[49m\n\u001b[1;32m    214\u001b[0m \u001b[38;5;28;01mexcept\u001b[39;00m HTTPError \u001b[38;5;28;01mas\u001b[39;00m e:\n",
      "File \u001b[0;32m~/.conda/envs/EasyEdit/lib/python3.9/site-packages/requests/models.py:1021\u001b[0m, in \u001b[0;36mResponse.raise_for_status\u001b[0;34m(self)\u001b[0m\n\u001b[1;32m   1020\u001b[0m \u001b[38;5;28;01mif\u001b[39;00m http_error_msg:\n\u001b[0;32m-> 1021\u001b[0m     \u001b[38;5;28;01mraise\u001b[39;00m HTTPError(http_error_msg, response\u001b[38;5;241m=\u001b[39m\u001b[38;5;28mself\u001b[39m)\n",
      "\u001b[0;31mHTTPError\u001b[0m: 404 Client Error: Not Found for url: https://huggingface.co/meta-llama/Llama-2-7b/resolve/main/config.json",
      "\nThe above exception was the direct cause of the following exception:\n",
      "\u001b[0;31mEntryNotFoundError\u001b[0m                        Traceback (most recent call last)",
      "File \u001b[0;32m~/.conda/envs/EasyEdit/lib/python3.9/site-packages/transformers/utils/hub.py:417\u001b[0m, in \u001b[0;36mcached_file\u001b[0;34m(path_or_repo_id, filename, cache_dir, force_download, resume_download, proxies, use_auth_token, revision, local_files_only, subfolder, repo_type, user_agent, _raise_exceptions_for_missing_entries, _raise_exceptions_for_connection_errors, _commit_hash)\u001b[0m\n\u001b[1;32m    415\u001b[0m \u001b[38;5;28;01mtry\u001b[39;00m:\n\u001b[1;32m    416\u001b[0m     \u001b[38;5;66;03m# Load from URL or cache if already cached\u001b[39;00m\n\u001b[0;32m--> 417\u001b[0m     resolved_file \u001b[38;5;241m=\u001b[39m \u001b[43mhf_hub_download\u001b[49m\u001b[43m(\u001b[49m\n\u001b[1;32m    418\u001b[0m \u001b[43m        \u001b[49m\u001b[43mpath_or_repo_id\u001b[49m\u001b[43m,\u001b[49m\n\u001b[1;32m    419\u001b[0m \u001b[43m        \u001b[49m\u001b[43mfilename\u001b[49m\u001b[43m,\u001b[49m\n\u001b[1;32m    420\u001b[0m \u001b[43m        \u001b[49m\u001b[43msubfolder\u001b[49m\u001b[38;5;241;43m=\u001b[39;49m\u001b[38;5;28;43;01mNone\u001b[39;49;00m\u001b[43m \u001b[49m\u001b[38;5;28;43;01mif\u001b[39;49;00m\u001b[43m \u001b[49m\u001b[38;5;28;43mlen\u001b[39;49m\u001b[43m(\u001b[49m\u001b[43msubfolder\u001b[49m\u001b[43m)\u001b[49m\u001b[43m \u001b[49m\u001b[38;5;241;43m==\u001b[39;49m\u001b[43m \u001b[49m\u001b[38;5;241;43m0\u001b[39;49m\u001b[43m \u001b[49m\u001b[38;5;28;43;01melse\u001b[39;49;00m\u001b[43m \u001b[49m\u001b[43msubfolder\u001b[49m\u001b[43m,\u001b[49m\n\u001b[1;32m    421\u001b[0m \u001b[43m        \u001b[49m\u001b[43mrepo_type\u001b[49m\u001b[38;5;241;43m=\u001b[39;49m\u001b[43mrepo_type\u001b[49m\u001b[43m,\u001b[49m\n\u001b[1;32m    422\u001b[0m \u001b[43m        \u001b[49m\u001b[43mrevision\u001b[49m\u001b[38;5;241;43m=\u001b[39;49m\u001b[43mrevision\u001b[49m\u001b[43m,\u001b[49m\n\u001b[1;32m    423\u001b[0m \u001b[43m        \u001b[49m\u001b[43mcache_dir\u001b[49m\u001b[38;5;241;43m=\u001b[39;49m\u001b[43mcache_dir\u001b[49m\u001b[43m,\u001b[49m\n\u001b[1;32m    424\u001b[0m \u001b[43m        \u001b[49m\u001b[43muser_agent\u001b[49m\u001b[38;5;241;43m=\u001b[39;49m\u001b[43muser_agent\u001b[49m\u001b[43m,\u001b[49m\n\u001b[1;32m    425\u001b[0m \u001b[43m        \u001b[49m\u001b[43mforce_download\u001b[49m\u001b[38;5;241;43m=\u001b[39;49m\u001b[43mforce_download\u001b[49m\u001b[43m,\u001b[49m\n\u001b[1;32m    426\u001b[0m \u001b[43m        \u001b[49m\u001b[43mproxies\u001b[49m\u001b[38;5;241;43m=\u001b[39;49m\u001b[43mproxies\u001b[49m\u001b[43m,\u001b[49m\n\u001b[1;32m    427\u001b[0m \u001b[43m        \u001b[49m\u001b[43mresume_download\u001b[49m\u001b[38;5;241;43m=\u001b[39;49m\u001b[43mresume_download\u001b[49m\u001b[43m,\u001b[49m\n\u001b[1;32m    428\u001b[0m \u001b[43m        \u001b[49m\u001b[43muse_auth_token\u001b[49m\u001b[38;5;241;43m=\u001b[39;49m\u001b[43muse_auth_token\u001b[49m\u001b[43m,\u001b[49m\n\u001b[1;32m    429\u001b[0m \u001b[43m        \u001b[49m\u001b[43mlocal_files_only\u001b[49m\u001b[38;5;241;43m=\u001b[39;49m\u001b[43mlocal_files_only\u001b[49m\u001b[43m,\u001b[49m\n\u001b[1;32m    430\u001b[0m \u001b[43m    \u001b[49m\u001b[43m)\u001b[49m\n\u001b[1;32m    432\u001b[0m \u001b[38;5;28;01mexcept\u001b[39;00m RepositoryNotFoundError:\n",
      "File \u001b[0;32m~/.conda/envs/EasyEdit/lib/python3.9/site-packages/huggingface_hub/file_download.py:1053\u001b[0m, in \u001b[0;36mhf_hub_download\u001b[0;34m(repo_id, filename, subfolder, repo_type, revision, library_name, library_version, cache_dir, user_agent, force_download, force_filename, proxies, etag_timeout, resume_download, use_auth_token, local_files_only, legacy_cache_layout)\u001b[0m\n\u001b[1;32m   1052\u001b[0m \u001b[38;5;28;01mtry\u001b[39;00m:\n\u001b[0;32m-> 1053\u001b[0m     metadata \u001b[38;5;241m=\u001b[39m \u001b[43mget_hf_file_metadata\u001b[49m\u001b[43m(\u001b[49m\n\u001b[1;32m   1054\u001b[0m \u001b[43m        \u001b[49m\u001b[43murl\u001b[49m\u001b[38;5;241;43m=\u001b[39;49m\u001b[43murl\u001b[49m\u001b[43m,\u001b[49m\n\u001b[1;32m   1055\u001b[0m \u001b[43m        \u001b[49m\u001b[43muse_auth_token\u001b[49m\u001b[38;5;241;43m=\u001b[39;49m\u001b[43muse_auth_token\u001b[49m\u001b[43m,\u001b[49m\n\u001b[1;32m   1056\u001b[0m \u001b[43m        \u001b[49m\u001b[43mproxies\u001b[49m\u001b[38;5;241;43m=\u001b[39;49m\u001b[43mproxies\u001b[49m\u001b[43m,\u001b[49m\n\u001b[1;32m   1057\u001b[0m \u001b[43m        \u001b[49m\u001b[43mtimeout\u001b[49m\u001b[38;5;241;43m=\u001b[39;49m\u001b[43metag_timeout\u001b[49m\u001b[43m,\u001b[49m\n\u001b[1;32m   1058\u001b[0m \u001b[43m    \u001b[49m\u001b[43m)\u001b[49m\n\u001b[1;32m   1059\u001b[0m \u001b[38;5;28;01mexcept\u001b[39;00m EntryNotFoundError \u001b[38;5;28;01mas\u001b[39;00m http_error:\n\u001b[1;32m   1060\u001b[0m     \u001b[38;5;66;03m# Cache the non-existence of the file and raise\u001b[39;00m\n",
      "File \u001b[0;32m~/.conda/envs/EasyEdit/lib/python3.9/site-packages/huggingface_hub/file_download.py:1359\u001b[0m, in \u001b[0;36mget_hf_file_metadata\u001b[0;34m(url, use_auth_token, proxies, timeout)\u001b[0m\n\u001b[1;32m   1350\u001b[0m r \u001b[38;5;241m=\u001b[39m _request_wrapper(\n\u001b[1;32m   1351\u001b[0m     method\u001b[38;5;241m=\u001b[39m\u001b[38;5;124m\"\u001b[39m\u001b[38;5;124mHEAD\u001b[39m\u001b[38;5;124m\"\u001b[39m,\n\u001b[1;32m   1352\u001b[0m     url\u001b[38;5;241m=\u001b[39murl,\n\u001b[0;32m   (...)\u001b[0m\n\u001b[1;32m   1357\u001b[0m     timeout\u001b[38;5;241m=\u001b[39mtimeout,\n\u001b[1;32m   1358\u001b[0m )\n\u001b[0;32m-> 1359\u001b[0m \u001b[43mhf_raise_for_status\u001b[49m\u001b[43m(\u001b[49m\u001b[43mr\u001b[49m\u001b[43m)\u001b[49m\n\u001b[1;32m   1361\u001b[0m \u001b[38;5;66;03m# Return\u001b[39;00m\n",
      "File \u001b[0;32m~/.conda/envs/EasyEdit/lib/python3.9/site-packages/huggingface_hub/utils/_errors.py:231\u001b[0m, in \u001b[0;36mhf_raise_for_status\u001b[0;34m(response, endpoint_name)\u001b[0m\n\u001b[1;32m    226\u001b[0m     message \u001b[38;5;241m=\u001b[39m (\n\u001b[1;32m    227\u001b[0m         \u001b[38;5;124mf\u001b[39m\u001b[38;5;124m\"\u001b[39m\u001b[38;5;132;01m{\u001b[39;00mresponse\u001b[38;5;241m.\u001b[39mstatus_code\u001b[38;5;132;01m}\u001b[39;00m\u001b[38;5;124m Client Error.\u001b[39m\u001b[38;5;124m\"\u001b[39m\n\u001b[1;32m    228\u001b[0m         \u001b[38;5;241m+\u001b[39m \u001b[38;5;124m\"\u001b[39m\u001b[38;5;130;01m\\n\u001b[39;00m\u001b[38;5;130;01m\\n\u001b[39;00m\u001b[38;5;124m\"\u001b[39m\n\u001b[1;32m    229\u001b[0m         \u001b[38;5;241m+\u001b[39m \u001b[38;5;124mf\u001b[39m\u001b[38;5;124m\"\u001b[39m\u001b[38;5;124mEntry Not Found for url: \u001b[39m\u001b[38;5;132;01m{\u001b[39;00mresponse\u001b[38;5;241m.\u001b[39murl\u001b[38;5;132;01m}\u001b[39;00m\u001b[38;5;124m.\u001b[39m\u001b[38;5;124m\"\u001b[39m\n\u001b[1;32m    230\u001b[0m     )\n\u001b[0;32m--> 231\u001b[0m     \u001b[38;5;28;01mraise\u001b[39;00m EntryNotFoundError(message, response) \u001b[38;5;28;01mfrom\u001b[39;00m \u001b[38;5;21;01me\u001b[39;00m\n\u001b[1;32m    233\u001b[0m \u001b[38;5;28;01melif\u001b[39;00m error_code \u001b[38;5;241m==\u001b[39m \u001b[38;5;124m\"\u001b[39m\u001b[38;5;124mRepoNotFound\u001b[39m\u001b[38;5;124m\"\u001b[39m \u001b[38;5;129;01mor\u001b[39;00m response\u001b[38;5;241m.\u001b[39mstatus_code \u001b[38;5;241m==\u001b[39m \u001b[38;5;241m401\u001b[39m:\n",
      "\u001b[0;31mEntryNotFoundError\u001b[0m: 404 Client Error. (Request ID: Root=1-65a9893e-1ade239f13aa58dc5557f9b9)\n\nEntry Not Found for url: https://huggingface.co/meta-llama/Llama-2-7b/resolve/main/config.json.",
      "\nDuring handling of the above exception, another exception occurred:\n",
      "\u001b[0;31mOSError\u001b[0m                                   Traceback (most recent call last)",
      "Cell \u001b[0;32mIn[5], line 2\u001b[0m\n\u001b[1;32m      1\u001b[0m hparams \u001b[38;5;241m=\u001b[39m ROMEHyperParams\u001b[38;5;241m.\u001b[39mfrom_hparams(\u001b[38;5;124m'\u001b[39m\u001b[38;5;124mhparams/ROME/llama-7b.yaml\u001b[39m\u001b[38;5;124m'\u001b[39m)\n\u001b[0;32m----> 2\u001b[0m edited_model \u001b[38;5;241m=\u001b[39m \u001b[43mEditedModel\u001b[49m\u001b[43m(\u001b[49m\u001b[43mhparams\u001b[49m\u001b[43m,\u001b[49m\u001b[43m \u001b[49m\u001b[43mauth_token\u001b[49m\u001b[43m)\u001b[49m\n",
      "File \u001b[0;32m~/work/EasyEdit/easyeditor/custom/custom.py:35\u001b[0m, in \u001b[0;36mEditedModel.__init__\u001b[0;34m(self, hparams, auth_token)\u001b[0m\n\u001b[1;32m     34\u001b[0m \u001b[38;5;28;01mdef\u001b[39;00m \u001b[38;5;21m__init__\u001b[39m(\u001b[38;5;28mself\u001b[39m, hparams, auth_token\u001b[38;5;241m=\u001b[39m\u001b[38;5;28;01mNone\u001b[39;00m):\n\u001b[0;32m---> 35\u001b[0m     \u001b[38;5;28mself\u001b[39m\u001b[38;5;241m.\u001b[39meditor \u001b[38;5;241m=\u001b[39m \u001b[43mBaseEditor\u001b[49m\u001b[38;5;241;43m.\u001b[39;49m\u001b[43mfrom_hparams\u001b[49m\u001b[43m(\u001b[49m\u001b[43mhparams\u001b[49m\u001b[43m,\u001b[49m\u001b[43m \u001b[49m\u001b[43mauth_token\u001b[49m\u001b[43m)\u001b[49m\n\u001b[1;32m     37\u001b[0m     \u001b[38;5;28mself\u001b[39m\u001b[38;5;241m.\u001b[39mmodel \u001b[38;5;241m=\u001b[39m \u001b[38;5;28mself\u001b[39m\u001b[38;5;241m.\u001b[39meditor\u001b[38;5;241m.\u001b[39mmodel\n\u001b[1;32m     38\u001b[0m     \u001b[38;5;28mself\u001b[39m\u001b[38;5;241m.\u001b[39mtok \u001b[38;5;241m=\u001b[39m \u001b[38;5;28mself\u001b[39m\u001b[38;5;241m.\u001b[39meditor\u001b[38;5;241m.\u001b[39mtok\n",
      "File \u001b[0;32m~/work/EasyEdit/easyeditor/editors/editor.py:44\u001b[0m, in \u001b[0;36mBaseEditor.from_hparams\u001b[0;34m(cls, hparams, auth_token)\u001b[0m\n\u001b[1;32m     41\u001b[0m \u001b[38;5;129m@classmethod\u001b[39m\n\u001b[1;32m     42\u001b[0m \u001b[38;5;28;01mdef\u001b[39;00m \u001b[38;5;21mfrom_hparams\u001b[39m(\u001b[38;5;28mcls\u001b[39m, hparams: HyperParams, auth_token: Optional[\u001b[38;5;28mstr\u001b[39m] \u001b[38;5;241m=\u001b[39m \u001b[38;5;28;01mNone\u001b[39;00m):\n\u001b[0;32m---> 44\u001b[0m     \u001b[38;5;28;01mreturn\u001b[39;00m \u001b[38;5;28;43mcls\u001b[39;49m\u001b[43m(\u001b[49m\u001b[43mhparams\u001b[49m\u001b[43m,\u001b[49m\u001b[43m \u001b[49m\u001b[43mauth_token\u001b[49m\u001b[43m)\u001b[49m\n",
      "File \u001b[0;32m~/work/EasyEdit/easyeditor/editors/editor.py:75\u001b[0m, in \u001b[0;36mBaseEditor.__init__\u001b[0;34m(self, hparams, auth_token)\u001b[0m\n\u001b[1;32m     73\u001b[0m     \u001b[38;5;28mself\u001b[39m\u001b[38;5;241m.\u001b[39mtok\u001b[38;5;241m.\u001b[39mpad_token_id \u001b[38;5;241m=\u001b[39m \u001b[38;5;28mself\u001b[39m\u001b[38;5;241m.\u001b[39mtok\u001b[38;5;241m.\u001b[39meos_token_id\n\u001b[1;32m     74\u001b[0m \u001b[38;5;28;01melif\u001b[39;00m \u001b[38;5;124m'\u001b[39m\u001b[38;5;124mllama\u001b[39m\u001b[38;5;124m'\u001b[39m \u001b[38;5;129;01min\u001b[39;00m \u001b[38;5;28mself\u001b[39m\u001b[38;5;241m.\u001b[39mmodel_name\u001b[38;5;241m.\u001b[39mlower():\n\u001b[0;32m---> 75\u001b[0m     \u001b[38;5;28mself\u001b[39m\u001b[38;5;241m.\u001b[39mmodel \u001b[38;5;241m=\u001b[39m \u001b[43mLlamaForCausalLM\u001b[49m\u001b[38;5;241;43m.\u001b[39;49m\u001b[43mfrom_pretrained\u001b[49m\u001b[43m(\u001b[49m\u001b[38;5;28;43mself\u001b[39;49m\u001b[38;5;241;43m.\u001b[39;49m\u001b[43mmodel_name\u001b[49m\u001b[43m,\u001b[49m\u001b[43m \u001b[49m\u001b[43muse_auth_token\u001b[49m\u001b[43m \u001b[49m\u001b[38;5;241;43m=\u001b[39;49m\u001b[43m \u001b[49m\u001b[38;5;28;43mself\u001b[39;49m\u001b[38;5;241;43m.\u001b[39;49m\u001b[43mauth_token\u001b[49m\u001b[43m)\u001b[49m\n\u001b[1;32m     76\u001b[0m     \u001b[38;5;28mself\u001b[39m\u001b[38;5;241m.\u001b[39mtok \u001b[38;5;241m=\u001b[39m LlamaTokenizer\u001b[38;5;241m.\u001b[39mfrom_pretrained(\u001b[38;5;28mself\u001b[39m\u001b[38;5;241m.\u001b[39mmodel_name, use_auth_token \u001b[38;5;241m=\u001b[39m \u001b[38;5;28mself\u001b[39m\u001b[38;5;241m.\u001b[39mauth_token)\n\u001b[1;32m     77\u001b[0m     \u001b[38;5;28mself\u001b[39m\u001b[38;5;241m.\u001b[39mtok\u001b[38;5;241m.\u001b[39mpad_token_id \u001b[38;5;241m=\u001b[39m \u001b[38;5;28mself\u001b[39m\u001b[38;5;241m.\u001b[39mtok\u001b[38;5;241m.\u001b[39meos_token_id\n",
      "File \u001b[0;32m~/.conda/envs/EasyEdit/lib/python3.9/site-packages/transformers/modeling_utils.py:2305\u001b[0m, in \u001b[0;36mPreTrainedModel.from_pretrained\u001b[0;34m(cls, pretrained_model_name_or_path, *model_args, **kwargs)\u001b[0m\n\u001b[1;32m   2303\u001b[0m \u001b[38;5;28;01mif\u001b[39;00m \u001b[38;5;129;01mnot\u001b[39;00m \u001b[38;5;28misinstance\u001b[39m(config, PretrainedConfig):\n\u001b[1;32m   2304\u001b[0m     config_path \u001b[38;5;241m=\u001b[39m config \u001b[38;5;28;01mif\u001b[39;00m config \u001b[38;5;129;01mis\u001b[39;00m \u001b[38;5;129;01mnot\u001b[39;00m \u001b[38;5;28;01mNone\u001b[39;00m \u001b[38;5;28;01melse\u001b[39;00m pretrained_model_name_or_path\n\u001b[0;32m-> 2305\u001b[0m     config, model_kwargs \u001b[38;5;241m=\u001b[39m \u001b[38;5;28;43mcls\u001b[39;49m\u001b[38;5;241;43m.\u001b[39;49m\u001b[43mconfig_class\u001b[49m\u001b[38;5;241;43m.\u001b[39;49m\u001b[43mfrom_pretrained\u001b[49m\u001b[43m(\u001b[49m\n\u001b[1;32m   2306\u001b[0m \u001b[43m        \u001b[49m\u001b[43mconfig_path\u001b[49m\u001b[43m,\u001b[49m\n\u001b[1;32m   2307\u001b[0m \u001b[43m        \u001b[49m\u001b[43mcache_dir\u001b[49m\u001b[38;5;241;43m=\u001b[39;49m\u001b[43mcache_dir\u001b[49m\u001b[43m,\u001b[49m\n\u001b[1;32m   2308\u001b[0m \u001b[43m        \u001b[49m\u001b[43mreturn_unused_kwargs\u001b[49m\u001b[38;5;241;43m=\u001b[39;49m\u001b[38;5;28;43;01mTrue\u001b[39;49;00m\u001b[43m,\u001b[49m\n\u001b[1;32m   2309\u001b[0m \u001b[43m        \u001b[49m\u001b[43mforce_download\u001b[49m\u001b[38;5;241;43m=\u001b[39;49m\u001b[43mforce_download\u001b[49m\u001b[43m,\u001b[49m\n\u001b[1;32m   2310\u001b[0m \u001b[43m        \u001b[49m\u001b[43mresume_download\u001b[49m\u001b[38;5;241;43m=\u001b[39;49m\u001b[43mresume_download\u001b[49m\u001b[43m,\u001b[49m\n\u001b[1;32m   2311\u001b[0m \u001b[43m        \u001b[49m\u001b[43mproxies\u001b[49m\u001b[38;5;241;43m=\u001b[39;49m\u001b[43mproxies\u001b[49m\u001b[43m,\u001b[49m\n\u001b[1;32m   2312\u001b[0m \u001b[43m        \u001b[49m\u001b[43mlocal_files_only\u001b[49m\u001b[38;5;241;43m=\u001b[39;49m\u001b[43mlocal_files_only\u001b[49m\u001b[43m,\u001b[49m\n\u001b[1;32m   2313\u001b[0m \u001b[43m        \u001b[49m\u001b[43muse_auth_token\u001b[49m\u001b[38;5;241;43m=\u001b[39;49m\u001b[43muse_auth_token\u001b[49m\u001b[43m,\u001b[49m\n\u001b[1;32m   2314\u001b[0m \u001b[43m        \u001b[49m\u001b[43mrevision\u001b[49m\u001b[38;5;241;43m=\u001b[39;49m\u001b[43mrevision\u001b[49m\u001b[43m,\u001b[49m\n\u001b[1;32m   2315\u001b[0m \u001b[43m        \u001b[49m\u001b[43msubfolder\u001b[49m\u001b[38;5;241;43m=\u001b[39;49m\u001b[43msubfolder\u001b[49m\u001b[43m,\u001b[49m\n\u001b[1;32m   2316\u001b[0m \u001b[43m        \u001b[49m\u001b[43m_from_auto\u001b[49m\u001b[38;5;241;43m=\u001b[39;49m\u001b[43mfrom_auto_class\u001b[49m\u001b[43m,\u001b[49m\n\u001b[1;32m   2317\u001b[0m \u001b[43m        \u001b[49m\u001b[43m_from_pipeline\u001b[49m\u001b[38;5;241;43m=\u001b[39;49m\u001b[43mfrom_pipeline\u001b[49m\u001b[43m,\u001b[49m\n\u001b[1;32m   2318\u001b[0m \u001b[43m        \u001b[49m\u001b[38;5;241;43m*\u001b[39;49m\u001b[38;5;241;43m*\u001b[39;49m\u001b[43mkwargs\u001b[49m\u001b[43m,\u001b[49m\n\u001b[1;32m   2319\u001b[0m \u001b[43m    \u001b[49m\u001b[43m)\u001b[49m\n\u001b[1;32m   2320\u001b[0m \u001b[38;5;28;01melse\u001b[39;00m:\n\u001b[1;32m   2321\u001b[0m     model_kwargs \u001b[38;5;241m=\u001b[39m kwargs\n",
      "File \u001b[0;32m~/.conda/envs/EasyEdit/lib/python3.9/site-packages/transformers/configuration_utils.py:547\u001b[0m, in \u001b[0;36mPretrainedConfig.from_pretrained\u001b[0;34m(cls, pretrained_model_name_or_path, **kwargs)\u001b[0m\n\u001b[1;32m    469\u001b[0m \u001b[38;5;129m@classmethod\u001b[39m\n\u001b[1;32m    470\u001b[0m \u001b[38;5;28;01mdef\u001b[39;00m \u001b[38;5;21mfrom_pretrained\u001b[39m(\u001b[38;5;28mcls\u001b[39m, pretrained_model_name_or_path: Union[\u001b[38;5;28mstr\u001b[39m, os\u001b[38;5;241m.\u001b[39mPathLike], \u001b[38;5;241m*\u001b[39m\u001b[38;5;241m*\u001b[39mkwargs) \u001b[38;5;241m-\u001b[39m\u001b[38;5;241m>\u001b[39m \u001b[38;5;124m\"\u001b[39m\u001b[38;5;124mPretrainedConfig\u001b[39m\u001b[38;5;124m\"\u001b[39m:\n\u001b[1;32m    471\u001b[0m \u001b[38;5;250m    \u001b[39m\u001b[38;5;124mr\u001b[39m\u001b[38;5;124;03m\"\"\"\u001b[39;00m\n\u001b[1;32m    472\u001b[0m \u001b[38;5;124;03m    Instantiate a [`PretrainedConfig`] (or a derived class) from a pretrained model configuration.\u001b[39;00m\n\u001b[1;32m    473\u001b[0m \n\u001b[0;32m   (...)\u001b[0m\n\u001b[1;32m    545\u001b[0m \u001b[38;5;124;03m    assert unused_kwargs == {\"foo\": False}\u001b[39;00m\n\u001b[1;32m    546\u001b[0m \u001b[38;5;124;03m    ```\"\"\"\u001b[39;00m\n\u001b[0;32m--> 547\u001b[0m     config_dict, kwargs \u001b[38;5;241m=\u001b[39m \u001b[38;5;28;43mcls\u001b[39;49m\u001b[38;5;241;43m.\u001b[39;49m\u001b[43mget_config_dict\u001b[49m\u001b[43m(\u001b[49m\u001b[43mpretrained_model_name_or_path\u001b[49m\u001b[43m,\u001b[49m\u001b[43m \u001b[49m\u001b[38;5;241;43m*\u001b[39;49m\u001b[38;5;241;43m*\u001b[39;49m\u001b[43mkwargs\u001b[49m\u001b[43m)\u001b[49m\n\u001b[1;32m    548\u001b[0m     \u001b[38;5;28;01mif\u001b[39;00m \u001b[38;5;124m\"\u001b[39m\u001b[38;5;124mmodel_type\u001b[39m\u001b[38;5;124m\"\u001b[39m \u001b[38;5;129;01min\u001b[39;00m config_dict \u001b[38;5;129;01mand\u001b[39;00m \u001b[38;5;28mhasattr\u001b[39m(\u001b[38;5;28mcls\u001b[39m, \u001b[38;5;124m\"\u001b[39m\u001b[38;5;124mmodel_type\u001b[39m\u001b[38;5;124m\"\u001b[39m) \u001b[38;5;129;01mand\u001b[39;00m config_dict[\u001b[38;5;124m\"\u001b[39m\u001b[38;5;124mmodel_type\u001b[39m\u001b[38;5;124m\"\u001b[39m] \u001b[38;5;241m!=\u001b[39m \u001b[38;5;28mcls\u001b[39m\u001b[38;5;241m.\u001b[39mmodel_type:\n\u001b[1;32m    549\u001b[0m         logger\u001b[38;5;241m.\u001b[39mwarning(\n\u001b[1;32m    550\u001b[0m             \u001b[38;5;124mf\u001b[39m\u001b[38;5;124m\"\u001b[39m\u001b[38;5;124mYou are using a model of type \u001b[39m\u001b[38;5;132;01m{\u001b[39;00mconfig_dict[\u001b[38;5;124m'\u001b[39m\u001b[38;5;124mmodel_type\u001b[39m\u001b[38;5;124m'\u001b[39m]\u001b[38;5;132;01m}\u001b[39;00m\u001b[38;5;124m to instantiate a model of type \u001b[39m\u001b[38;5;124m\"\u001b[39m\n\u001b[1;32m    551\u001b[0m             \u001b[38;5;124mf\u001b[39m\u001b[38;5;124m\"\u001b[39m\u001b[38;5;132;01m{\u001b[39;00m\u001b[38;5;28mcls\u001b[39m\u001b[38;5;241m.\u001b[39mmodel_type\u001b[38;5;132;01m}\u001b[39;00m\u001b[38;5;124m. This is not supported for all configurations of models and can yield errors.\u001b[39m\u001b[38;5;124m\"\u001b[39m\n\u001b[1;32m    552\u001b[0m         )\n",
      "File \u001b[0;32m~/.conda/envs/EasyEdit/lib/python3.9/site-packages/transformers/configuration_utils.py:574\u001b[0m, in \u001b[0;36mPretrainedConfig.get_config_dict\u001b[0;34m(cls, pretrained_model_name_or_path, **kwargs)\u001b[0m\n\u001b[1;32m    572\u001b[0m original_kwargs \u001b[38;5;241m=\u001b[39m copy\u001b[38;5;241m.\u001b[39mdeepcopy(kwargs)\n\u001b[1;32m    573\u001b[0m \u001b[38;5;66;03m# Get config dict associated with the base config file\u001b[39;00m\n\u001b[0;32m--> 574\u001b[0m config_dict, kwargs \u001b[38;5;241m=\u001b[39m \u001b[38;5;28;43mcls\u001b[39;49m\u001b[38;5;241;43m.\u001b[39;49m\u001b[43m_get_config_dict\u001b[49m\u001b[43m(\u001b[49m\u001b[43mpretrained_model_name_or_path\u001b[49m\u001b[43m,\u001b[49m\u001b[43m \u001b[49m\u001b[38;5;241;43m*\u001b[39;49m\u001b[38;5;241;43m*\u001b[39;49m\u001b[43mkwargs\u001b[49m\u001b[43m)\u001b[49m\n\u001b[1;32m    575\u001b[0m \u001b[38;5;28;01mif\u001b[39;00m \u001b[38;5;124m\"\u001b[39m\u001b[38;5;124m_commit_hash\u001b[39m\u001b[38;5;124m\"\u001b[39m \u001b[38;5;129;01min\u001b[39;00m config_dict:\n\u001b[1;32m    576\u001b[0m     original_kwargs[\u001b[38;5;124m\"\u001b[39m\u001b[38;5;124m_commit_hash\u001b[39m\u001b[38;5;124m\"\u001b[39m] \u001b[38;5;241m=\u001b[39m config_dict[\u001b[38;5;124m\"\u001b[39m\u001b[38;5;124m_commit_hash\u001b[39m\u001b[38;5;124m\"\u001b[39m]\n",
      "File \u001b[0;32m~/.conda/envs/EasyEdit/lib/python3.9/site-packages/transformers/configuration_utils.py:629\u001b[0m, in \u001b[0;36mPretrainedConfig._get_config_dict\u001b[0;34m(cls, pretrained_model_name_or_path, **kwargs)\u001b[0m\n\u001b[1;32m    625\u001b[0m configuration_file \u001b[38;5;241m=\u001b[39m kwargs\u001b[38;5;241m.\u001b[39mpop(\u001b[38;5;124m\"\u001b[39m\u001b[38;5;124m_configuration_file\u001b[39m\u001b[38;5;124m\"\u001b[39m, CONFIG_NAME)\n\u001b[1;32m    627\u001b[0m \u001b[38;5;28;01mtry\u001b[39;00m:\n\u001b[1;32m    628\u001b[0m     \u001b[38;5;66;03m# Load from local folder or from cache or download from model Hub and cache\u001b[39;00m\n\u001b[0;32m--> 629\u001b[0m     resolved_config_file \u001b[38;5;241m=\u001b[39m \u001b[43mcached_file\u001b[49m\u001b[43m(\u001b[49m\n\u001b[1;32m    630\u001b[0m \u001b[43m        \u001b[49m\u001b[43mpretrained_model_name_or_path\u001b[49m\u001b[43m,\u001b[49m\n\u001b[1;32m    631\u001b[0m \u001b[43m        \u001b[49m\u001b[43mconfiguration_file\u001b[49m\u001b[43m,\u001b[49m\n\u001b[1;32m    632\u001b[0m \u001b[43m        \u001b[49m\u001b[43mcache_dir\u001b[49m\u001b[38;5;241;43m=\u001b[39;49m\u001b[43mcache_dir\u001b[49m\u001b[43m,\u001b[49m\n\u001b[1;32m    633\u001b[0m \u001b[43m        \u001b[49m\u001b[43mforce_download\u001b[49m\u001b[38;5;241;43m=\u001b[39;49m\u001b[43mforce_download\u001b[49m\u001b[43m,\u001b[49m\n\u001b[1;32m    634\u001b[0m \u001b[43m        \u001b[49m\u001b[43mproxies\u001b[49m\u001b[38;5;241;43m=\u001b[39;49m\u001b[43mproxies\u001b[49m\u001b[43m,\u001b[49m\n\u001b[1;32m    635\u001b[0m \u001b[43m        \u001b[49m\u001b[43mresume_download\u001b[49m\u001b[38;5;241;43m=\u001b[39;49m\u001b[43mresume_download\u001b[49m\u001b[43m,\u001b[49m\n\u001b[1;32m    636\u001b[0m \u001b[43m        \u001b[49m\u001b[43mlocal_files_only\u001b[49m\u001b[38;5;241;43m=\u001b[39;49m\u001b[43mlocal_files_only\u001b[49m\u001b[43m,\u001b[49m\n\u001b[1;32m    637\u001b[0m \u001b[43m        \u001b[49m\u001b[43muse_auth_token\u001b[49m\u001b[38;5;241;43m=\u001b[39;49m\u001b[43muse_auth_token\u001b[49m\u001b[43m,\u001b[49m\n\u001b[1;32m    638\u001b[0m \u001b[43m        \u001b[49m\u001b[43muser_agent\u001b[49m\u001b[38;5;241;43m=\u001b[39;49m\u001b[43muser_agent\u001b[49m\u001b[43m,\u001b[49m\n\u001b[1;32m    639\u001b[0m \u001b[43m        \u001b[49m\u001b[43mrevision\u001b[49m\u001b[38;5;241;43m=\u001b[39;49m\u001b[43mrevision\u001b[49m\u001b[43m,\u001b[49m\n\u001b[1;32m    640\u001b[0m \u001b[43m        \u001b[49m\u001b[43msubfolder\u001b[49m\u001b[38;5;241;43m=\u001b[39;49m\u001b[43msubfolder\u001b[49m\u001b[43m,\u001b[49m\n\u001b[1;32m    641\u001b[0m \u001b[43m        \u001b[49m\u001b[43m_commit_hash\u001b[49m\u001b[38;5;241;43m=\u001b[39;49m\u001b[43mcommit_hash\u001b[49m\u001b[43m,\u001b[49m\n\u001b[1;32m    642\u001b[0m \u001b[43m    \u001b[49m\u001b[43m)\u001b[49m\n\u001b[1;32m    643\u001b[0m     commit_hash \u001b[38;5;241m=\u001b[39m extract_commit_hash(resolved_config_file, commit_hash)\n\u001b[1;32m    644\u001b[0m \u001b[38;5;28;01mexcept\u001b[39;00m \u001b[38;5;167;01mEnvironmentError\u001b[39;00m:\n\u001b[1;32m    645\u001b[0m     \u001b[38;5;66;03m# Raise any environment error raise by `cached_file`. It will have a helpful error message adapted to\u001b[39;00m\n\u001b[1;32m    646\u001b[0m     \u001b[38;5;66;03m# the original exception.\u001b[39;00m\n",
      "File \u001b[0;32m~/.conda/envs/EasyEdit/lib/python3.9/site-packages/transformers/utils/hub.py:463\u001b[0m, in \u001b[0;36mcached_file\u001b[0;34m(path_or_repo_id, filename, cache_dir, force_download, resume_download, proxies, use_auth_token, revision, local_files_only, subfolder, repo_type, user_agent, _raise_exceptions_for_missing_entries, _raise_exceptions_for_connection_errors, _commit_hash)\u001b[0m\n\u001b[1;32m    461\u001b[0m     \u001b[38;5;28;01mif\u001b[39;00m revision \u001b[38;5;129;01mis\u001b[39;00m \u001b[38;5;28;01mNone\u001b[39;00m:\n\u001b[1;32m    462\u001b[0m         revision \u001b[38;5;241m=\u001b[39m \u001b[38;5;124m\"\u001b[39m\u001b[38;5;124mmain\u001b[39m\u001b[38;5;124m\"\u001b[39m\n\u001b[0;32m--> 463\u001b[0m     \u001b[38;5;28;01mraise\u001b[39;00m \u001b[38;5;167;01mEnvironmentError\u001b[39;00m(\n\u001b[1;32m    464\u001b[0m         \u001b[38;5;124mf\u001b[39m\u001b[38;5;124m\"\u001b[39m\u001b[38;5;132;01m{\u001b[39;00mpath_or_repo_id\u001b[38;5;132;01m}\u001b[39;00m\u001b[38;5;124m does not appear to have a file named \u001b[39m\u001b[38;5;132;01m{\u001b[39;00mfull_filename\u001b[38;5;132;01m}\u001b[39;00m\u001b[38;5;124m. Checkout \u001b[39m\u001b[38;5;124m\"\u001b[39m\n\u001b[1;32m    465\u001b[0m         \u001b[38;5;124mf\u001b[39m\u001b[38;5;124m\"\u001b[39m\u001b[38;5;124m'\u001b[39m\u001b[38;5;124mhttps://huggingface.co/\u001b[39m\u001b[38;5;132;01m{\u001b[39;00mpath_or_repo_id\u001b[38;5;132;01m}\u001b[39;00m\u001b[38;5;124m/\u001b[39m\u001b[38;5;132;01m{\u001b[39;00mrevision\u001b[38;5;132;01m}\u001b[39;00m\u001b[38;5;124m'\u001b[39m\u001b[38;5;124m for available files.\u001b[39m\u001b[38;5;124m\"\u001b[39m\n\u001b[1;32m    466\u001b[0m     )\n\u001b[1;32m    467\u001b[0m \u001b[38;5;28;01mexcept\u001b[39;00m HTTPError \u001b[38;5;28;01mas\u001b[39;00m err:\n\u001b[1;32m    468\u001b[0m     \u001b[38;5;66;03m# First we try to see if we have a cached version (not up to date):\u001b[39;00m\n\u001b[1;32m    469\u001b[0m     resolved_file \u001b[38;5;241m=\u001b[39m try_to_load_from_cache(path_or_repo_id, full_filename, cache_dir\u001b[38;5;241m=\u001b[39mcache_dir, revision\u001b[38;5;241m=\u001b[39mrevision)\n",
      "\u001b[0;31mOSError\u001b[0m: meta-llama/Llama-2-7b does not appear to have a file named config.json. Checkout 'https://huggingface.co/meta-llama/Llama-2-7b/main' for available files."
     ]
    }
   ],
   "source": [
    "hparams = ROMEHyperParams.from_hparams('hparams/ROME/llama-7b.yaml')\n",
    "edited_model = EditedModel(hparams, auth_token)"
   ]
  },
  {
   "cell_type": "code",
   "execution_count": 5,
   "metadata": {},
   "outputs": [],
   "source": [
    "results_baseline = evaluate(baseline_df, edited_model, prefix_fwd = prefix_fwd, prefix_rev = prefix_rev)"
   ]
  },
  {
   "cell_type": "code",
   "execution_count": 6,
   "metadata": {},
   "outputs": [
    {
     "data": {
      "text/html": [
       "<div>\n",
       "<style scoped>\n",
       "    .dataframe tbody tr th:only-of-type {\n",
       "        vertical-align: middle;\n",
       "    }\n",
       "\n",
       "    .dataframe tbody tr th {\n",
       "        vertical-align: top;\n",
       "    }\n",
       "\n",
       "    .dataframe thead th {\n",
       "        text-align: right;\n",
       "    }\n",
       "</style>\n",
       "<table border=\"1\" class=\"dataframe\">\n",
       "  <thead>\n",
       "    <tr style=\"text-align: right;\">\n",
       "      <th></th>\n",
       "      <th></th>\n",
       "      <th>corr_prop</th>\n",
       "    </tr>\n",
       "    <tr>\n",
       "      <th>token_type</th>\n",
       "      <th>query_type</th>\n",
       "      <th></th>\n",
       "    </tr>\n",
       "  </thead>\n",
       "  <tbody>\n",
       "    <tr>\n",
       "      <th rowspan=\"2\" valign=\"top\">rare_token</th>\n",
       "      <th>correct_fwd</th>\n",
       "      <td>0.78125</td>\n",
       "    </tr>\n",
       "    <tr>\n",
       "      <th>correct_rev</th>\n",
       "      <td>0.40625</td>\n",
       "    </tr>\n",
       "    <tr>\n",
       "      <th rowspan=\"2\" valign=\"top\">typical_token</th>\n",
       "      <th>correct_fwd</th>\n",
       "      <td>0.93750</td>\n",
       "    </tr>\n",
       "    <tr>\n",
       "      <th>correct_rev</th>\n",
       "      <td>0.93750</td>\n",
       "    </tr>\n",
       "  </tbody>\n",
       "</table>\n",
       "</div>"
      ],
      "text/plain": [
       "                           corr_prop\n",
       "token_type    query_type            \n",
       "rare_token    correct_fwd    0.78125\n",
       "              correct_rev    0.40625\n",
       "typical_token correct_fwd    0.93750\n",
       "              correct_rev    0.93750"
      ]
     },
     "execution_count": 6,
     "metadata": {},
     "output_type": "execute_result"
    }
   ],
   "source": [
    "# overall category membership knowledge (for main and paraphrases)\n",
    "(\n",
    "    results_baseline\n",
    "    .loc[lambda x: (x.property.str.startswith(\"category_membership\")) ]\n",
    "    .filter(['entity','token_type','subj','property','query_fwd','query_rev','correct_fwd','correct_rev'])\n",
    "    .melt(id_vars = ['entity','token_type','subj','property','query_fwd','query_rev'], value_vars = ['correct_fwd', 'correct_rev'], var_name = \"query_type\", value_name = \"correct\")\n",
    "    .groupby(['token_type', 'query_type'])\n",
    "    .agg(corr_prop = ('correct', 'mean'))\n",
    ")"
   ]
  },
  {
   "cell_type": "markdown",
   "metadata": {},
   "source": [
    "LLAMA-7B knows the typical tokens category memberships well, much weaker for the rare tokens, and especially for reverse items."
   ]
  },
  {
   "cell_type": "code",
   "execution_count": 34,
   "metadata": {},
   "outputs": [
    {
     "name": "stdout",
     "output_type": "stream",
     "text": [
      "Overall fwd acc: 0.7662835249042146\n",
      "Overall rev acc: 0.5670498084291188\n"
     ]
    },
    {
     "data": {
      "text/html": [
       "<div>\n",
       "<style scoped>\n",
       "    .dataframe tbody tr th:only-of-type {\n",
       "        vertical-align: middle;\n",
       "    }\n",
       "\n",
       "    .dataframe tbody tr th {\n",
       "        vertical-align: top;\n",
       "    }\n",
       "\n",
       "    .dataframe thead th {\n",
       "        text-align: right;\n",
       "    }\n",
       "</style>\n",
       "<table border=\"1\" class=\"dataframe\">\n",
       "  <thead>\n",
       "    <tr style=\"text-align: right;\">\n",
       "      <th></th>\n",
       "      <th></th>\n",
       "      <th>corr_prop</th>\n",
       "    </tr>\n",
       "    <tr>\n",
       "      <th>token_type</th>\n",
       "      <th>query_type</th>\n",
       "      <th></th>\n",
       "    </tr>\n",
       "  </thead>\n",
       "  <tbody>\n",
       "    <tr>\n",
       "      <th rowspan=\"2\" valign=\"top\">entity</th>\n",
       "      <th>correct_fwd</th>\n",
       "      <td>0.873016</td>\n",
       "    </tr>\n",
       "    <tr>\n",
       "      <th>correct_rev</th>\n",
       "      <td>0.714286</td>\n",
       "    </tr>\n",
       "    <tr>\n",
       "      <th rowspan=\"2\" valign=\"top\">rare_token</th>\n",
       "      <th>correct_fwd</th>\n",
       "      <td>0.666667</td>\n",
       "    </tr>\n",
       "    <tr>\n",
       "      <th>correct_rev</th>\n",
       "      <td>0.373737</td>\n",
       "    </tr>\n",
       "    <tr>\n",
       "      <th rowspan=\"2\" valign=\"top\">typical_token</th>\n",
       "      <th>correct_fwd</th>\n",
       "      <td>0.797980</td>\n",
       "    </tr>\n",
       "    <tr>\n",
       "      <th>correct_rev</th>\n",
       "      <td>0.666667</td>\n",
       "    </tr>\n",
       "  </tbody>\n",
       "</table>\n",
       "</div>"
      ],
      "text/plain": [
       "                           corr_prop\n",
       "token_type    query_type            \n",
       "entity        correct_fwd   0.873016\n",
       "              correct_rev   0.714286\n",
       "rare_token    correct_fwd   0.666667\n",
       "              correct_rev   0.373737\n",
       "typical_token correct_fwd   0.797980\n",
       "              correct_rev   0.666667"
      ]
     },
     "execution_count": 34,
     "metadata": {},
     "output_type": "execute_result"
    }
   ],
   "source": [
    "print(\"Overall fwd acc:\", results_baseline.correct_fwd.mean())\n",
    "print(\"Overall rev acc:\", results_baseline.correct_rev.mean())\n",
    "\n",
    "(\n",
    "    results_baseline\n",
    "    .filter(['entity','token_type','subj','property','query_fwd','query_rev','correct_fwd','correct_rev'])\n",
    "    .melt(id_vars = ['entity','token_type','subj','property','query_fwd','query_rev'], value_vars = ['correct_fwd', 'correct_rev'], var_name = \"query_type\", value_name = \"correct\")\n",
    "    .groupby(['token_type', 'query_type'])\n",
    "    .agg(corr_prop = ('correct', 'mean'))\n",
    ")\n"
   ]
  },
  {
   "cell_type": "markdown",
   "metadata": {},
   "source": [
    "LLAMA-7B with a few-shot demonstration prefix shows reasonably good performance:\n",
    "- Entities (e.g. \"dog\"): 87% forward, 72% reverse\n",
    "- typical tokens (e.g. \"Labrador\"): 80% acc forward, 67% reverse\n",
    "\n",
    "Rare tokens (E.g. \"puli\") are poorer, especially for reverse."
   ]
  },
  {
   "cell_type": "code",
   "execution_count": 119,
   "metadata": {},
   "outputs": [],
   "source": [
    "## should be at or below chance -- no real tempting foils for properties in there so shouldn't necessarily be zero\n",
    "results_eval = evaluate(eval_df, edited_model)"
   ]
  },
  {
   "cell_type": "code",
   "execution_count": 122,
   "metadata": {},
   "outputs": [
    {
     "name": "stderr",
     "output_type": "stream",
     "text": [
      "/home/dmpowell/.conda/envs/EasyEdit/lib/python3.9/site-packages/janitor/functions/pivot.py:903: FutureWarning: Behavior when concatenating bool-dtype and numeric-dtype arrays is deprecated; in a future version these will cast to object dtype (instead of coercing bools to numeric values). To retain the old behavior, explicitly cast bool-dtype arrays to numeric dtype.\n",
      "  values = {values_to: concat_compat(values)}\n",
      "/home/dmpowell/.conda/envs/EasyEdit/lib/python3.9/site-packages/janitor/functions/pivot.py:903: FutureWarning: Behavior when concatenating bool-dtype and numeric-dtype arrays is deprecated; in a future version these will cast to object dtype (instead of coercing bools to numeric values). To retain the old behavior, explicitly cast bool-dtype arrays to numeric dtype.\n",
      "  values = {values_to: concat_compat(values)}\n"
     ]
    },
    {
     "data": {
      "text/html": [
       "<div>\n",
       "<style scoped>\n",
       "    .dataframe tbody tr th:only-of-type {\n",
       "        vertical-align: middle;\n",
       "    }\n",
       "\n",
       "    .dataframe tbody tr th {\n",
       "        vertical-align: top;\n",
       "    }\n",
       "\n",
       "    .dataframe thead th {\n",
       "        text-align: right;\n",
       "    }\n",
       "</style>\n",
       "<table border=\"1\" class=\"dataframe\">\n",
       "  <thead>\n",
       "    <tr style=\"text-align: right;\">\n",
       "      <th>var</th>\n",
       "      <th>chance</th>\n",
       "      <th>correct</th>\n",
       "    </tr>\n",
       "  </thead>\n",
       "  <tbody>\n",
       "    <tr>\n",
       "      <th>category membership</th>\n",
       "      <td>0.118056</td>\n",
       "      <td>0.033482</td>\n",
       "    </tr>\n",
       "    <tr>\n",
       "      <th>property</th>\n",
       "      <td>0.252315</td>\n",
       "      <td>0.206349</td>\n",
       "    </tr>\n",
       "    <tr>\n",
       "      <th>(category membership, fwd)</th>\n",
       "      <td>0.125000</td>\n",
       "      <td>0.020089</td>\n",
       "    </tr>\n",
       "    <tr>\n",
       "      <th>(category membership, rev)</th>\n",
       "      <td>0.111111</td>\n",
       "      <td>0.046875</td>\n",
       "    </tr>\n",
       "    <tr>\n",
       "      <th>(property, fwd)</th>\n",
       "      <td>0.254630</td>\n",
       "      <td>0.180556</td>\n",
       "    </tr>\n",
       "    <tr>\n",
       "      <th>(property, rev)</th>\n",
       "      <td>0.250000</td>\n",
       "      <td>0.232143</td>\n",
       "    </tr>\n",
       "  </tbody>\n",
       "</table>\n",
       "</div>"
      ],
      "text/plain": [
       "var                           chance   correct\n",
       "category membership         0.118056  0.033482\n",
       "property                    0.252315  0.206349\n",
       "(category membership, fwd)  0.125000  0.020089\n",
       "(category membership, rev)  0.111111  0.046875\n",
       "(property, fwd)             0.254630  0.180556\n",
       "(property, rev)             0.250000  0.232143"
      ]
     },
     "execution_count": 122,
     "metadata": {},
     "output_type": "execute_result"
    }
   ],
   "source": [
    "report_results(results_eval)"
   ]
  },
  {
   "cell_type": "markdown",
   "metadata": {},
   "source": [
    "Should probably do something to better balance the mix for reverse queries based on token typicality -- e.g. only use typical for typical and rare for rare. [DONE]"
   ]
  },
  {
   "cell_type": "markdown",
   "metadata": {},
   "source": [
    "## Model editing performance\n",
    "\n",
    "currently model editing is largely FAILING with ROME -- some sort of bug / parameter fix needed"
   ]
  },
  {
   "cell_type": "code",
   "execution_count": 9,
   "metadata": {},
   "outputs": [],
   "source": [
    "# define reporting function\n",
    "def report_results(df):\n",
    "    \n",
    "    out = (\n",
    "        df      \n",
    "        .assign(\n",
    "            chance_fwd = lambda d: d.apply(lambda x: 1/len(x.fwd_choices), 1),\n",
    "            chance_rev = lambda d: d.apply(lambda x: 1/len(x.rev_choices), 1)\n",
    "        )\n",
    "        .filter(['entity','token_type','subj','property', 'edit', 'query_fwd','query_rev','correct_fwd','correct_rev', 'chance_fwd', 'chance_rev'])\n",
    "        .pivot_longer(\n",
    "            index = ['entity','token_type','subj','property', 'edit', 'query_fwd', 'query_rev'],\n",
    "            names_to = ('var', 'query_type'),\n",
    "            names_sep = '_'\n",
    "        )\n",
    "        .assign(test_group = lambda x: np.where(x.property.str.startswith(\"category_\"), \"category membership\", \"property\"))\n",
    "        .groupby(['test_group', 'var'])\n",
    "        .agg(\n",
    "            prop = ('value', 'mean')\n",
    "            )\n",
    "        .reset_index()\n",
    "        .pivot(index = ['test_group'], columns = ['var'], values = 'prop')\n",
    "\n",
    "    )\n",
    "     \n",
    "    out2 = (\n",
    "        df      \n",
    "        .assign(\n",
    "            chance_fwd = lambda d: d.apply(lambda x: 1/len(x.fwd_choices), 1),\n",
    "            chance_rev = lambda d: d.apply(lambda x: 1/len(x.rev_choices), 1)\n",
    "        )\n",
    "        .filter(['entity','token_type','subj','property', 'edit', 'query_fwd','query_rev','correct_fwd','correct_rev', 'chance_fwd', 'chance_rev'])\n",
    "        .pivot_longer(\n",
    "            index = ['entity','token_type','subj','property', 'edit', 'query_fwd', 'query_rev'],\n",
    "            names_to = ('var', 'query_type'),\n",
    "            names_sep = '_'\n",
    "        )\n",
    "        .assign(test_group = lambda x: np.where(x.property.str.startswith(\"category_\"), \"category membership\", \"property\"))\n",
    "        .groupby(['test_group', 'query_type', \"token_type\", 'var'])\n",
    "        .agg(\n",
    "            prop = ('value', 'mean')\n",
    "            )\n",
    "        .reset_index()\n",
    "        .pivot(index = ['test_group','query_type', \"token_type\"], columns = ['var'], values = 'prop')\n",
    "\n",
    "    )\n",
    "\n",
    "    return pd.concat([out, out2])\n",
    "  "
   ]
  },
  {
   "cell_type": "code",
   "execution_count": 12,
   "metadata": {},
   "outputs": [
    {
     "name": "stdout",
     "output_type": "stream",
     "text": [
      "Executing ROME algorithm for the update: [A Siamese is a] -> [ dog]\n",
      "Computing left vector (u)...\n",
      "Selected u projection token with last token\n",
      "Left vector shape: torch.Size([11008])\n",
      "Computing right vector (v)\n",
      "Lookup index found: -1 | Sentence: A Siamese is a | Token: a\n",
      "Rewrite layer is 5\n",
      "Tying optimization objective to 31\n",
      "Recording initial value of v*\n",
      "loss 7.655 = 7.655 + 0.0 + 0.0 avg prob of [ dog] 0.0013521615182980895\n",
      "loss 6.851 = 6.846 + 0.005 + 0.0 avg prob of [ dog] 0.0028579137288033962\n",
      "loss 6.343 = 6.329 + 0.014 + 0.0 avg prob of [ dog] 0.007186951581388712\n",
      "loss 6.144 = 5.993 + 0.151 + 0.0 avg prob of [ dog] 0.01430540718138218\n",
      "loss 5.971 = 5.914 + 0.056 + 0.0 avg prob of [ dog] 0.016959648579359055\n",
      "loss 5.921 = 5.883 + 0.037 + 0.0 avg prob of [ dog] 0.018146807327866554\n",
      "loss 5.895 = 5.859 + 0.036 + 0.0 avg prob of [ dog] 0.019154012203216553\n",
      "loss 5.883 = 5.843 + 0.039 + 0.0 avg prob of [ dog] 0.01982216164469719\n",
      "loss 5.879 = 5.838 + 0.04 + 0.001 avg prob of [ dog] 0.019999802112579346\n",
      "loss 5.877 = 5.837 + 0.039 + 0.001 avg prob of [ dog] 0.02003461681306362\n",
      "loss 5.875 = 5.837 + 0.037 + 0.001 avg prob of [ dog] 0.020042672753334045\n",
      "loss 5.872 = 5.836 + 0.035 + 0.001 avg prob of [ dog] 0.020044954493641853\n",
      "loss 5.867 = 5.835 + 0.031 + 0.001 avg prob of [ dog] 0.020045243203639984\n",
      "loss 5.862 = 5.835 + 0.027 + 0.001 avg prob of [ dog] 0.02004481479525566\n",
      "loss 5.858 = 5.834 + 0.023 + 0.001 avg prob of [ dog] 0.020043572410941124\n",
      "loss 5.854 = 5.833 + 0.02 + 0.001 avg prob of [ dog] 0.020041119307279587\n",
      "loss 5.851 = 5.833 + 0.017 + 0.001 avg prob of [ dog] 0.020036786794662476\n",
      "loss 5.848 = 5.832 + 0.015 + 0.001 avg prob of [ dog] 0.020029740408062935\n",
      "loss 5.845 = 5.832 + 0.013 + 0.001 avg prob of [ dog] 0.020019374787807465\n"
     ]
    },
    {
     "name": "stderr",
     "output_type": "stream",
     "text": [
      "01/17/2024 16:57:22 - INFO - easyeditor.editors.editor -   Execution 0 editing took 11.712930679321289\n",
      "01/17/2024 16:57:22 - INFO - easyeditor.editors.editor -   Evaluation took 0.04052329063415527\n"
     ]
    },
    {
     "name": "stdout",
     "output_type": "stream",
     "text": [
      "loss 5.843 = 5.831 + 0.011 + 0.001 avg prob of [ dog] 0.020006000995635986\n",
      "Delta norm: 26.9171142578125\n",
      "Change in target norm: 6.729278564453125 to 27.7424259185791 => 21.013147354125977\n",
      "Division Factor: 4.301547527313232\n",
      "Right vector norm: 6.257541656494141\n",
      "Right vector shape: torch.Size([4096])\n",
      "Deltas successfully computed for ['model.layers.5.mlp.down_proj.weight']\n",
      "New weights successfully inserted into ['model.layers.5.mlp.down_proj.weight']\n",
      "Executing ROME algorithm for the update: [A Holstein is a] -> [ dog]\n",
      "Computing left vector (u)...\n",
      "Selected u projection token with last token\n",
      "Left vector shape: torch.Size([11008])\n",
      "Computing right vector (v)\n",
      "Lookup index found: -1 | Sentence: A Holstein is a | Token: a\n",
      "Rewrite layer is 5\n",
      "Tying optimization objective to 31\n",
      "Recording initial value of v*\n",
      "loss 9.621 = 9.621 + 0.0 + 0.0 avg prob of [ dog] 0.00021480899886228144\n",
      "loss 8.916 = 8.911 + 0.005 + 0.0 avg prob of [ dog] 0.0005370295839384198\n",
      "loss 8.12 = 8.102 + 0.018 + 0.0 avg prob of [ dog] 0.002857712097465992\n",
      "loss 7.433 = 7.369 + 0.064 + 0.0 avg prob of [ dog] 0.014929472468793392\n",
      "loss 7.314 = 7.173 + 0.141 + 0.0 avg prob of [ dog] 0.023341501131653786\n",
      "loss 7.204 = 7.164 + 0.04 + 0.0 avg prob of [ dog] 0.02364976890385151\n",
      "loss 7.203 = 7.165 + 0.038 + 0.0 avg prob of [ dog] 0.023624103516340256\n",
      "loss 7.189 = 7.152 + 0.037 + 0.0 avg prob of [ dog] 0.024439994245767593\n",
      "loss 7.182 = 7.147 + 0.035 + 0.001 avg prob of [ dog] 0.024791652336716652\n",
      "loss 7.176 = 7.145 + 0.031 + 0.001 avg prob of [ dog] 0.024874843657016754\n",
      "loss 7.17 = 7.144 + 0.026 + 0.001 avg prob of [ dog] 0.024898245930671692\n",
      "loss 7.165 = 7.143 + 0.022 + 0.001 avg prob of [ dog] 0.024907182902097702\n",
      "loss 7.161 = 7.142 + 0.018 + 0.001 avg prob of [ dog] 0.024910714477300644\n",
      "loss 7.158 = 7.141 + 0.016 + 0.001 avg prob of [ dog] 0.02491150051355362\n",
      "loss 7.155 = 7.141 + 0.014 + 0.001 avg prob of [ dog] 0.024910807609558105\n",
      "loss 7.153 = 7.14 + 0.013 + 0.001 avg prob of [ dog] 0.02490931563079357\n",
      "loss 7.151 = 7.139 + 0.011 + 0.001 avg prob of [ dog] 0.024907469749450684\n",
      "loss 7.149 = 7.139 + 0.01 + 0.001 avg prob of [ dog] 0.024905648082494736\n",
      "loss 7.148 = 7.138 + 0.009 + 0.001 avg prob of [ dog] 0.02490418590605259\n"
     ]
    },
    {
     "name": "stderr",
     "output_type": "stream",
     "text": [
      "01/17/2024 16:57:39 - INFO - easyeditor.editors.editor -   Execution 0 editing took 11.442420721054077\n",
      "01/17/2024 16:57:39 - INFO - easyeditor.editors.editor -   Evaluation took 0.040360212326049805\n"
     ]
    },
    {
     "name": "stdout",
     "output_type": "stream",
     "text": [
      "loss 7.146 = 7.137 + 0.008 + 0.001 avg prob of [ dog] 0.024903343990445137\n",
      "Delta norm: 26.77991485595703\n",
      "Change in target norm: 6.694978713989258 to 27.45916748046875 => 20.764188766479492\n",
      "Division Factor: 4.174820423126221\n",
      "Right vector norm: 6.4146270751953125\n",
      "Right vector shape: torch.Size([4096])\n",
      "Deltas successfully computed for ['model.layers.5.mlp.down_proj.weight']\n",
      "New weights successfully inserted into ['model.layers.5.mlp.down_proj.weight']\n",
      "Executing ROME algorithm for the update: [A Hampshire is a] -> [ dog]\n",
      "Computing left vector (u)...\n",
      "Selected u projection token with last token\n",
      "Left vector shape: torch.Size([11008])\n",
      "Computing right vector (v)\n",
      "Lookup index found: -1 | Sentence: A Hampshire is a | Token: a\n",
      "Rewrite layer is 5\n",
      "Tying optimization objective to 31\n",
      "Recording initial value of v*\n",
      "loss 8.426 = 8.426 + 0.0 + 0.0 avg prob of [ dog] 0.0014210171066224575\n",
      "loss 7.718 = 7.691 + 0.027 + 0.0 avg prob of [ dog] 0.006816300563514233\n",
      "loss 7.383 = 7.318 + 0.066 + 0.0 avg prob of [ dog] 0.01614486798644066\n",
      "loss 7.189 = 7.181 + 0.007 + 0.0 avg prob of [ dog] 0.022090906277298927\n",
      "loss 7.13 = 7.116 + 0.014 + 0.0 avg prob of [ dog] 0.025710776448249817\n",
      "loss 7.118 = 7.091 + 0.027 + 0.0 avg prob of [ dog] 0.027281831949949265\n",
      "loss 7.12 = 7.086 + 0.033 + 0.001 avg prob of [ dog] 0.027584677562117577\n",
      "loss 7.108 = 7.084 + 0.024 + 0.001 avg prob of [ dog] 0.02763860858976841\n",
      "loss 7.101 = 7.082 + 0.018 + 0.001 avg prob of [ dog] 0.027620304375886917\n",
      "loss 7.097 = 7.082 + 0.014 + 0.001 avg prob of [ dog] 0.027603767812252045\n",
      "loss 7.093 = 7.081 + 0.011 + 0.001 avg prob of [ dog] 0.027564605697989464\n",
      "loss 7.089 = 7.079 + 0.009 + 0.001 avg prob of [ dog] 0.02767707034945488\n",
      "loss 7.084 = 7.076 + 0.008 + 0.001 avg prob of [ dog] 0.02782723307609558\n",
      "loss 7.081 = 7.074 + 0.007 + 0.001 avg prob of [ dog] 0.02793080173432827\n",
      "loss 7.079 = 7.072 + 0.006 + 0.001 avg prob of [ dog] 0.027986299246549606\n",
      "loss 7.077 = 7.071 + 0.006 + 0.001 avg prob of [ dog] 0.028012394905090332\n",
      "loss 7.076 = 7.07 + 0.005 + 0.001 avg prob of [ dog] 0.028024038299918175\n",
      "loss 7.075 = 7.069 + 0.005 + 0.001 avg prob of [ dog] 0.028032677248120308\n",
      "loss 7.074 = 7.068 + 0.005 + 0.001 avg prob of [ dog] 0.028042733669281006\n"
     ]
    },
    {
     "name": "stderr",
     "output_type": "stream",
     "text": [
      "01/17/2024 16:57:56 - INFO - easyeditor.editors.editor -   Execution 0 editing took 11.52895712852478\n",
      "01/17/2024 16:57:56 - INFO - easyeditor.editors.editor -   Evaluation took 0.04039359092712402\n"
     ]
    },
    {
     "name": "stdout",
     "output_type": "stream",
     "text": [
      "loss 7.072 = 7.067 + 0.004 + 0.001 avg prob of [ dog] 0.02805148996412754\n",
      "Delta norm: 24.922792434692383\n",
      "Change in target norm: 6.230698585510254 to 25.691200256347656 => 19.46050262451172\n",
      "Division Factor: 4.042350769042969\n",
      "Right vector norm: 6.1654205322265625\n",
      "Right vector shape: torch.Size([4096])\n",
      "Deltas successfully computed for ['model.layers.5.mlp.down_proj.weight']\n",
      "New weights successfully inserted into ['model.layers.5.mlp.down_proj.weight']\n",
      "Executing ROME algorithm for the update: [A sparrow is a] -> [ dog]\n",
      "Computing left vector (u)...\n",
      "Selected u projection token with last token\n",
      "Left vector shape: torch.Size([11008])\n",
      "Computing right vector (v)\n",
      "Lookup index found: -1 | Sentence: A sparrow is a | Token: a\n",
      "Rewrite layer is 5\n",
      "Tying optimization objective to 31\n",
      "Recording initial value of v*\n",
      "loss 9.516 = 9.516 + 0.0 + 0.0 avg prob of [ dog] 0.00022730036289431155\n",
      "loss 8.836 = 8.832 + 0.003 + 0.0 avg prob of [ dog] 0.0006330383475869894\n",
      "loss 8.208 = 8.188 + 0.02 + 0.0 avg prob of [ dog] 0.0023599406704306602\n",
      "loss 7.485 = 7.379 + 0.105 + 0.0 avg prob of [ dog] 0.014725330285727978\n",
      "loss 7.193 = 7.078 + 0.114 + 0.0 avg prob of [ dog] 0.02909105271100998\n",
      "loss 7.075 = 7.035 + 0.039 + 0.0 avg prob of [ dog] 0.03205539286136627\n",
      "loss 7.052 = 7.031 + 0.021 + 0.001 avg prob of [ dog] 0.032294757664203644\n",
      "loss 7.059 = 7.031 + 0.027 + 0.001 avg prob of [ dog] 0.032112475484609604\n",
      "loss 7.06 = 7.031 + 0.028 + 0.001 avg prob of [ dog] 0.03203577548265457\n",
      "loss 7.052 = 7.027 + 0.024 + 0.001 avg prob of [ dog] 0.032313860952854156\n",
      "loss 7.042 = 7.023 + 0.019 + 0.001 avg prob of [ dog] 0.0325859896838665\n",
      "loss 7.037 = 7.021 + 0.016 + 0.001 avg prob of [ dog] 0.03270898759365082\n",
      "loss 7.034 = 7.02 + 0.014 + 0.001 avg prob of [ dog] 0.03276399150490761\n",
      "loss 7.031 = 7.019 + 0.012 + 0.001 avg prob of [ dog] 0.03279111534357071\n",
      "loss 7.029 = 7.018 + 0.011 + 0.001 avg prob of [ dog] 0.032805848866701126\n",
      "loss 7.028 = 7.018 + 0.01 + 0.001 avg prob of [ dog] 0.03281449154019356\n",
      "loss 7.026 = 7.017 + 0.009 + 0.001 avg prob of [ dog] 0.03281984478235245\n",
      "loss 7.025 = 7.016 + 0.008 + 0.001 avg prob of [ dog] 0.03282329812645912\n",
      "loss 7.024 = 7.016 + 0.008 + 0.001 avg prob of [ dog] 0.03282559663057327\n"
     ]
    },
    {
     "name": "stderr",
     "output_type": "stream",
     "text": [
      "01/17/2024 16:58:10 - INFO - easyeditor.editors.editor -   Execution 0 editing took 11.570055961608887\n",
      "01/17/2024 16:58:11 - INFO - easyeditor.editors.editor -   Evaluation took 0.04152345657348633\n"
     ]
    },
    {
     "name": "stdout",
     "output_type": "stream",
     "text": [
      "loss 7.024 = 7.015 + 0.008 + 0.001 avg prob of [ dog] 0.032827168703079224\n",
      "Delta norm: 25.052322387695312\n",
      "Change in target norm: 6.263080596923828 to 25.698699951171875 => 19.435619354248047\n",
      "Division Factor: 4.115144729614258\n",
      "Right vector norm: 6.087835311889648\n",
      "Right vector shape: torch.Size([4096])\n",
      "Deltas successfully computed for ['model.layers.5.mlp.down_proj.weight']\n",
      "New weights successfully inserted into ['model.layers.5.mlp.down_proj.weight']\n",
      "Executing ROME algorithm for the update: [A bumblebee is a] -> [ dog]\n",
      "Computing left vector (u)...\n",
      "Selected u projection token with last token\n",
      "Left vector shape: torch.Size([11008])\n",
      "Computing right vector (v)\n",
      "Lookup index found: -1 | Sentence: A bumblebee is a | Token: a\n",
      "Rewrite layer is 5\n",
      "Tying optimization objective to 31\n",
      "Recording initial value of v*\n",
      "loss 9.011 = 9.011 + 0.0 + 0.0 avg prob of [ dog] 0.0003230930888094008\n",
      "loss 8.264 = 8.261 + 0.003 + 0.0 avg prob of [ dog] 0.0011730665573850274\n",
      "loss 7.804 = 7.777 + 0.026 + 0.0 avg prob of [ dog] 0.0031258848030120134\n",
      "loss 6.979 = 6.921 + 0.058 + 0.0 avg prob of [ dog] 0.021491218358278275\n",
      "loss 6.895 = 6.881 + 0.014 + 0.0 avg prob of [ dog] 0.023692889139056206\n",
      "loss 6.901 = 6.882 + 0.018 + 0.0 avg prob of [ dog] 0.02358301728963852\n",
      "loss 6.904 = 6.886 + 0.018 + 0.0 avg prob of [ dog] 0.023308932781219482\n",
      "loss 6.899 = 6.883 + 0.015 + 0.0 avg prob of [ dog] 0.02338283695280552\n",
      "loss 6.894 = 6.879 + 0.014 + 0.001 avg prob of [ dog] 0.02358226664364338\n",
      "loss 6.891 = 6.876 + 0.014 + 0.001 avg prob of [ dog] 0.023693803697824478\n",
      "loss 6.891 = 6.875 + 0.015 + 0.001 avg prob of [ dog] 0.023738989606499672\n",
      "loss 6.889 = 6.875 + 0.014 + 0.001 avg prob of [ dog] 0.023760277777910233\n",
      "loss 6.888 = 6.874 + 0.013 + 0.001 avg prob of [ dog] 0.023768668994307518\n",
      "loss 6.886 = 6.874 + 0.012 + 0.001 avg prob of [ dog] 0.023772351443767548\n",
      "loss 6.885 = 6.873 + 0.011 + 0.001 avg prob of [ dog] 0.023774217814207077\n",
      "loss 6.884 = 6.873 + 0.01 + 0.001 avg prob of [ dog] 0.02377527393400669\n",
      "loss 6.882 = 6.872 + 0.01 + 0.001 avg prob of [ dog] 0.023775897920131683\n",
      "loss 6.881 = 6.872 + 0.009 + 0.001 avg prob of [ dog] 0.023776274174451828\n",
      "loss 6.88 = 6.871 + 0.009 + 0.001 avg prob of [ dog] 0.023776467889547348\n"
     ]
    },
    {
     "name": "stderr",
     "output_type": "stream",
     "text": [
      "01/17/2024 16:58:31 - INFO - easyeditor.editors.editor -   Execution 0 editing took 13.464446544647217\n",
      "01/17/2024 16:58:32 - INFO - easyeditor.editors.editor -   Evaluation took 0.0415949821472168\n"
     ]
    },
    {
     "name": "stdout",
     "output_type": "stream",
     "text": [
      "loss 6.879 = 6.87 + 0.009 + 0.001 avg prob of [ dog] 0.023776521906256676\n",
      "Delta norm: 26.461462020874023\n",
      "Change in target norm: 6.615365505218506 to 27.172679901123047 => 20.557313919067383\n",
      "Division Factor: 4.237310886383057\n",
      "Right vector norm: 6.244871616363525\n",
      "Right vector shape: torch.Size([4096])\n",
      "Deltas successfully computed for ['model.layers.5.mlp.down_proj.weight']\n",
      "New weights successfully inserted into ['model.layers.5.mlp.down_proj.weight']\n",
      "Executing ROME algorithm for the update: [A trout is a] -> [ dog]\n",
      "Computing left vector (u)...\n",
      "Selected u projection token with last token\n",
      "Left vector shape: torch.Size([11008])\n",
      "Computing right vector (v)\n",
      "Lookup index found: -1 | Sentence: A trout is a | Token: a\n",
      "Rewrite layer is 5\n",
      "Tying optimization objective to 31\n",
      "Recording initial value of v*\n",
      "loss 9.411 = 9.411 + 0.0 + 0.0 avg prob of [ dog] 0.0002532651415094733\n",
      "loss 8.825 = 8.818 + 0.006 + 0.0 avg prob of [ dog] 0.0006428695633076131\n",
      "loss 8.044 = 8.012 + 0.032 + 0.0 avg prob of [ dog] 0.0037412140518426895\n",
      "loss 7.428 = 7.302 + 0.125 + 0.0 avg prob of [ dog] 0.01858518458902836\n",
      "loss 7.37 = 7.181 + 0.189 + 0.0 avg prob of [ dog] 0.024152986705303192\n",
      "loss 7.227 = 7.174 + 0.053 + 0.0 avg prob of [ dog] 0.024445852264761925\n",
      "loss 7.206 = 7.176 + 0.03 + 0.0 avg prob of [ dog] 0.02434445545077324\n",
      "loss 7.209 = 7.174 + 0.034 + 0.001 avg prob of [ dog] 0.024425337091088295\n",
      "loss 7.206 = 7.171 + 0.034 + 0.001 avg prob of [ dog] 0.02460497058928013\n",
      "loss 7.199 = 7.168 + 0.031 + 0.001 avg prob of [ dog] 0.024737926200032234\n",
      "loss 7.192 = 7.166 + 0.026 + 0.001 avg prob of [ dog] 0.024804865941405296\n",
      "loss 7.186 = 7.165 + 0.02 + 0.001 avg prob of [ dog] 0.02483774721622467\n",
      "loss 7.182 = 7.164 + 0.017 + 0.001 avg prob of [ dog] 0.024865804240107536\n",
      "loss 7.178 = 7.163 + 0.014 + 0.001 avg prob of [ dog] 0.0248875729739666\n",
      "loss 7.176 = 7.163 + 0.013 + 0.001 avg prob of [ dog] 0.024904634803533554\n",
      "loss 7.175 = 7.162 + 0.012 + 0.001 avg prob of [ dog] 0.024918800219893456\n",
      "loss 7.173 = 7.161 + 0.011 + 0.001 avg prob of [ dog] 0.024931101128458977\n",
      "loss 7.172 = 7.161 + 0.011 + 0.001 avg prob of [ dog] 0.02494181878864765\n",
      "loss 7.171 = 7.16 + 0.01 + 0.001 avg prob of [ dog] 0.024950893595814705\n"
     ]
    },
    {
     "name": "stderr",
     "output_type": "stream",
     "text": [
      "01/17/2024 16:58:51 - INFO - easyeditor.editors.editor -   Execution 0 editing took 11.646517992019653\n",
      "01/17/2024 16:58:51 - INFO - easyeditor.editors.editor -   Evaluation took 0.041239261627197266\n"
     ]
    },
    {
     "name": "stdout",
     "output_type": "stream",
     "text": [
      "loss 7.169 = 7.159 + 0.01 + 0.001 avg prob of [ dog] 0.024958275258541107\n",
      "Delta norm: 26.226465225219727\n",
      "Change in target norm: 6.556616306304932 to 26.83315086364746 => 20.276535034179688\n",
      "Division Factor: 4.248055458068848\n",
      "Right vector norm: 6.173758029937744\n",
      "Right vector shape: torch.Size([4096])\n",
      "Deltas successfully computed for ['model.layers.5.mlp.down_proj.weight']\n",
      "New weights successfully inserted into ['model.layers.5.mlp.down_proj.weight']\n",
      "Executing ROME algorithm for the update: [A cobra is a] -> [ dog]\n",
      "Computing left vector (u)...\n",
      "Selected u projection token with last token\n",
      "Left vector shape: torch.Size([11008])\n",
      "Computing right vector (v)\n",
      "Lookup index found: -1 | Sentence: A cobra is a | Token: a\n",
      "Rewrite layer is 5\n",
      "Tying optimization objective to 31\n",
      "Recording initial value of v*\n",
      "loss 7.815 = 7.815 + 0.0 + 0.0 avg prob of [ dog] 0.0012191345449537039\n",
      "loss 7.276 = 7.275 + 0.001 + 0.0 avg prob of [ dog] 0.001689321594312787\n",
      "loss 6.924 = 6.913 + 0.011 + 0.0 avg prob of [ dog] 0.002568266587331891\n",
      "loss 6.291 = 6.27 + 0.021 + 0.0 avg prob of [ dog] 0.0077784014865756035\n",
      "loss 6.079 = 5.974 + 0.104 + 0.0 avg prob of [ dog] 0.013997387140989304\n",
      "loss 5.916 = 5.77 + 0.146 + 0.0 avg prob of [ dog] 0.021933063864707947\n",
      "loss 5.902 = 5.733 + 0.168 + 0.0 avg prob of [ dog] 0.02381919138133526\n",
      "loss 5.846 = 5.754 + 0.092 + 0.001 avg prob of [ dog] 0.022759102284908295\n",
      "loss 5.815 = 5.736 + 0.079 + 0.001 avg prob of [ dog] 0.023608040064573288\n",
      "loss 5.789 = 5.716 + 0.072 + 0.001 avg prob of [ dog] 0.02460264042019844\n",
      "loss 5.78 = 5.712 + 0.067 + 0.001 avg prob of [ dog] 0.024793466553092003\n",
      "loss 5.775 = 5.712 + 0.063 + 0.001 avg prob of [ dog] 0.02480337768793106\n",
      "loss 5.771 = 5.712 + 0.059 + 0.001 avg prob of [ dog] 0.02480410784482956\n",
      "loss 5.765 = 5.711 + 0.053 + 0.001 avg prob of [ dog] 0.02482384257018566\n",
      "loss 5.758 = 5.711 + 0.047 + 0.001 avg prob of [ dog] 0.024856045842170715\n",
      "loss 5.752 = 5.71 + 0.042 + 0.001 avg prob of [ dog] 0.024891098961234093\n",
      "loss 5.747 = 5.709 + 0.036 + 0.001 avg prob of [ dog] 0.024923155084252357\n",
      "loss 5.741 = 5.709 + 0.031 + 0.001 avg prob of [ dog] 0.024949919432401657\n",
      "loss 5.736 = 5.708 + 0.027 + 0.001 avg prob of [ dog] 0.02497122250497341\n"
     ]
    },
    {
     "name": "stderr",
     "output_type": "stream",
     "text": [
      "01/17/2024 16:59:10 - INFO - easyeditor.editors.editor -   Execution 0 editing took 12.034498691558838\n",
      "01/17/2024 16:59:10 - INFO - easyeditor.editors.editor -   Evaluation took 0.04090142250061035\n"
     ]
    },
    {
     "name": "stdout",
     "output_type": "stream",
     "text": [
      "loss 5.731 = 5.708 + 0.022 + 0.001 avg prob of [ dog] 0.024987636134028435\n",
      "Delta norm: 25.690689086914062\n",
      "Change in target norm: 6.422672271728516 to 26.2723331451416 => 19.849660873413086\n",
      "Division Factor: 4.188098907470703\n",
      "Right vector norm: 6.134212493896484\n",
      "Right vector shape: torch.Size([4096])\n",
      "Deltas successfully computed for ['model.layers.5.mlp.down_proj.weight']\n",
      "New weights successfully inserted into ['model.layers.5.mlp.down_proj.weight']\n"
     ]
    },
    {
     "ename": "KeyboardInterrupt",
     "evalue": "",
     "output_type": "error",
     "traceback": [
      "\u001b[0;31m---------------------------------------------------------------------------\u001b[0m",
      "\u001b[0;31mKeyboardInterrupt\u001b[0m                         Traceback (most recent call last)",
      "Cell \u001b[0;32mIn[12], line 2\u001b[0m\n\u001b[1;32m      1\u001b[0m edit_method \u001b[38;5;241m=\u001b[39m \u001b[38;5;124m\"\u001b[39m\u001b[38;5;124mROME\u001b[39m\u001b[38;5;124m\"\u001b[39m\n\u001b[0;32m----> 2\u001b[0m full_results_ROME \u001b[38;5;241m=\u001b[39m \u001b[43medit_and_evaluate\u001b[49m\u001b[43m(\u001b[49m\u001b[43medits_df\u001b[49m\u001b[43m,\u001b[49m\u001b[43m \u001b[49m\u001b[43meval_df\u001b[49m\u001b[43m,\u001b[49m\u001b[43m \u001b[49m\u001b[43medited_model\u001b[49m\u001b[43m,\u001b[49m\u001b[43m \u001b[49m\u001b[43medit_method\u001b[49m\u001b[43m,\u001b[49m\u001b[43m \u001b[49m\u001b[43mprefix_fwd\u001b[49m\u001b[43m \u001b[49m\u001b[38;5;241;43m=\u001b[39;49m\u001b[43m \u001b[49m\u001b[43mprefix_fwd\u001b[49m\u001b[43m,\u001b[49m\u001b[43m \u001b[49m\u001b[43mprefix_rev\u001b[49m\u001b[43m \u001b[49m\u001b[38;5;241;43m=\u001b[39;49m\u001b[43m \u001b[49m\u001b[43mprefix_rev\u001b[49m\u001b[43m)\u001b[49m\n\u001b[1;32m      3\u001b[0m full_results_ROME\u001b[38;5;241m.\u001b[39mto_csv(\u001b[38;5;124m\"\u001b[39m\u001b[38;5;124mresults/ROME-LLAMA7B-test.csv\u001b[39m\u001b[38;5;124m\"\u001b[39m)\n",
      "File \u001b[0;32m~/work/EasyEdit/easyeditor/custom/custom.py:277\u001b[0m, in \u001b[0;36medit_and_evaluate\u001b[0;34m(edits_df, eval_df, model, edit_method, metrics, **kwargs)\u001b[0m\n\u001b[1;32m    274\u001b[0m     model\u001b[38;5;241m.\u001b[39medit({\u001b[38;5;124m\"\u001b[39m\u001b[38;5;124mpreprompt\u001b[39m\u001b[38;5;124m\"\u001b[39m: \u001b[38;5;124mf\u001b[39m\u001b[38;5;124m\"\u001b[39m\u001b[38;5;124mImagine a \u001b[39m\u001b[38;5;132;01m{\u001b[39;00me\u001b[38;5;241m.\u001b[39msubj\u001b[38;5;132;01m}\u001b[39;00m\u001b[38;5;124m was a kind of \u001b[39m\u001b[38;5;132;01m{\u001b[39;00me\u001b[38;5;241m.\u001b[39mentity\u001b[38;5;132;01m}\u001b[39;00m\u001b[38;5;124m ...\u001b[39m\u001b[38;5;130;01m\\n\u001b[39;00m\u001b[38;5;130;01m\\n\u001b[39;00m\u001b[38;5;124m\"\u001b[39m}) \u001b[38;5;66;03m# and not a kind of {e.orig_entity}\u001b[39;00m\n\u001b[1;32m    276\u001b[0m evals \u001b[38;5;241m=\u001b[39m eval_df\u001b[38;5;241m.\u001b[39mloc[\u001b[38;5;28;01mlambda\u001b[39;00m x: (x\u001b[38;5;241m.\u001b[39mentity \u001b[38;5;241m==\u001b[39m e\u001b[38;5;241m.\u001b[39mentity) \u001b[38;5;241m&\u001b[39m (x\u001b[38;5;241m.\u001b[39msubj \u001b[38;5;241m==\u001b[39m e\u001b[38;5;241m.\u001b[39msubj)]\n\u001b[0;32m--> 277\u001b[0m res \u001b[38;5;241m=\u001b[39m \u001b[43mevaluate\u001b[49m\u001b[43m(\u001b[49m\u001b[43mevals\u001b[49m\u001b[43m,\u001b[49m\u001b[43m \u001b[49m\u001b[43mmodel\u001b[49m\u001b[43m,\u001b[49m\u001b[43m \u001b[49m\u001b[38;5;241;43m*\u001b[39;49m\u001b[38;5;241;43m*\u001b[39;49m\u001b[43mkwargs\u001b[49m\u001b[43m)\u001b[49m\n\u001b[1;32m    279\u001b[0m model\u001b[38;5;241m.\u001b[39mrestore()\n\u001b[1;32m    281\u001b[0m full_results \u001b[38;5;241m=\u001b[39m pd\u001b[38;5;241m.\u001b[39mconcat([full_results, res])\n",
      "File \u001b[0;32m~/work/EasyEdit/easyeditor/custom/custom.py:237\u001b[0m, in \u001b[0;36mevaluate\u001b[0;34m(evaluation_data, model, prefix_fwd, prefix_rev)\u001b[0m\n\u001b[1;32m    235\u001b[0m \u001b[38;5;28;01mif\u001b[39;00m q\u001b[38;5;241m.\u001b[39mproperty \u001b[38;5;129;01mnot\u001b[39;00m \u001b[38;5;129;01min\u001b[39;00m [\u001b[38;5;124m\"\u001b[39m\u001b[38;5;124mcategory_membership\u001b[39m\u001b[38;5;124m\"\u001b[39m, \u001b[38;5;124m\"\u001b[39m\u001b[38;5;124mcategory_membership1\u001b[39m\u001b[38;5;124m\"\u001b[39m, \u001b[38;5;124m\"\u001b[39m\u001b[38;5;124mcategory_membership2\u001b[39m\u001b[38;5;124m\"\u001b[39m,\u001b[38;5;124m\"\u001b[39m\u001b[38;5;124mcategory_membership3\u001b[39m\u001b[38;5;124m\"\u001b[39m]: \u001b[38;5;66;03m# do not use prefix for these\u001b[39;00m\n\u001b[1;32m    236\u001b[0m     query_rev \u001b[38;5;241m=\u001b[39m prefix_rev \u001b[38;5;241m+\u001b[39m query_rev\n\u001b[0;32m--> 237\u001b[0m ans_rev \u001b[38;5;241m=\u001b[39m \u001b[43mmodel\u001b[49m\u001b[38;5;241;43m.\u001b[39;49m\u001b[43mchoose\u001b[49m\u001b[43m(\u001b[49m\u001b[43mquery_rev\u001b[49m\u001b[43m,\u001b[49m\u001b[43m \u001b[49m\u001b[43mrev_choices\u001b[49m\u001b[43m,\u001b[49m\u001b[43m \u001b[49m\u001b[43mnormalization\u001b[49m\u001b[43m \u001b[49m\u001b[38;5;241;43m=\u001b[39;49m\u001b[43m \u001b[49m\u001b[38;5;28;43;01mNone\u001b[39;49;00m\u001b[43m)\u001b[49m \u001b[38;5;66;03m# None, \"unconditional\", \"byte_length\", \"token_length\", \"root\"\u001b[39;00m\n\u001b[1;32m    238\u001b[0m corr_rev_answers\u001b[38;5;241m.\u001b[39mappend(rev_choices\u001b[38;5;241m.\u001b[39mindex(q\u001b[38;5;241m.\u001b[39msubj))\n\u001b[1;32m    239\u001b[0m rev_answers\u001b[38;5;241m.\u001b[39mappend(ans_rev)\n",
      "File \u001b[0;32m~/work/EasyEdit/easyeditor/custom/custom.py:193\u001b[0m, in \u001b[0;36mEditedModel.choose\u001b[0;34m(self, prompt, choices, normalization)\u001b[0m\n\u001b[1;32m    190\u001b[0m padded_choices \u001b[38;5;241m=\u001b[39m [pad_token(c) \u001b[38;5;28;01mfor\u001b[39;00m c \u001b[38;5;129;01min\u001b[39;00m choices]\n\u001b[1;32m    191\u001b[0m prompts \u001b[38;5;241m=\u001b[39m [prompt \u001b[38;5;241m+\u001b[39m c \u001b[38;5;28;01mfor\u001b[39;00m c \u001b[38;5;129;01min\u001b[39;00m padded_choices]\n\u001b[0;32m--> 193\u001b[0m logits \u001b[38;5;241m=\u001b[39m torch\u001b[38;5;241m.\u001b[39mtensor([\u001b[38;5;28mself\u001b[39m\u001b[38;5;241m.\u001b[39mcompletion_logprob(prompts[i], padded_choices[i]) \u001b[38;5;28;01mfor\u001b[39;00m i \u001b[38;5;129;01min\u001b[39;00m \u001b[38;5;28mrange\u001b[39m(\u001b[38;5;28mlen\u001b[39m(padded_choices))])\n\u001b[1;32m    195\u001b[0m \u001b[38;5;28;01mif\u001b[39;00m normalization \u001b[38;5;241m==\u001b[39m \u001b[38;5;124m\"\u001b[39m\u001b[38;5;124munconditional\u001b[39m\u001b[38;5;124m\"\u001b[39m:\n\u001b[1;32m    196\u001b[0m     norm_logits \u001b[38;5;241m=\u001b[39m torch\u001b[38;5;241m.\u001b[39mtensor([\u001b[38;5;28mself\u001b[39m\u001b[38;5;241m.\u001b[39mcompletion_logprob(padded_choices[i], padded_choices[i]) \u001b[38;5;28;01mfor\u001b[39;00m i \u001b[38;5;129;01min\u001b[39;00m \u001b[38;5;28mrange\u001b[39m(\u001b[38;5;28mlen\u001b[39m(padded_choices))])\n",
      "File \u001b[0;32m~/work/EasyEdit/easyeditor/custom/custom.py:193\u001b[0m, in \u001b[0;36m<listcomp>\u001b[0;34m(.0)\u001b[0m\n\u001b[1;32m    190\u001b[0m padded_choices \u001b[38;5;241m=\u001b[39m [pad_token(c) \u001b[38;5;28;01mfor\u001b[39;00m c \u001b[38;5;129;01min\u001b[39;00m choices]\n\u001b[1;32m    191\u001b[0m prompts \u001b[38;5;241m=\u001b[39m [prompt \u001b[38;5;241m+\u001b[39m c \u001b[38;5;28;01mfor\u001b[39;00m c \u001b[38;5;129;01min\u001b[39;00m padded_choices]\n\u001b[0;32m--> 193\u001b[0m logits \u001b[38;5;241m=\u001b[39m torch\u001b[38;5;241m.\u001b[39mtensor([\u001b[38;5;28;43mself\u001b[39;49m\u001b[38;5;241;43m.\u001b[39;49m\u001b[43mcompletion_logprob\u001b[49m\u001b[43m(\u001b[49m\u001b[43mprompts\u001b[49m\u001b[43m[\u001b[49m\u001b[43mi\u001b[49m\u001b[43m]\u001b[49m\u001b[43m,\u001b[49m\u001b[43m \u001b[49m\u001b[43mpadded_choices\u001b[49m\u001b[43m[\u001b[49m\u001b[43mi\u001b[49m\u001b[43m]\u001b[49m\u001b[43m)\u001b[49m \u001b[38;5;28;01mfor\u001b[39;00m i \u001b[38;5;129;01min\u001b[39;00m \u001b[38;5;28mrange\u001b[39m(\u001b[38;5;28mlen\u001b[39m(padded_choices))])\n\u001b[1;32m    195\u001b[0m \u001b[38;5;28;01mif\u001b[39;00m normalization \u001b[38;5;241m==\u001b[39m \u001b[38;5;124m\"\u001b[39m\u001b[38;5;124munconditional\u001b[39m\u001b[38;5;124m\"\u001b[39m:\n\u001b[1;32m    196\u001b[0m     norm_logits \u001b[38;5;241m=\u001b[39m torch\u001b[38;5;241m.\u001b[39mtensor([\u001b[38;5;28mself\u001b[39m\u001b[38;5;241m.\u001b[39mcompletion_logprob(padded_choices[i], padded_choices[i]) \u001b[38;5;28;01mfor\u001b[39;00m i \u001b[38;5;129;01min\u001b[39;00m \u001b[38;5;28mrange\u001b[39m(\u001b[38;5;28mlen\u001b[39m(padded_choices))])\n",
      "File \u001b[0;32m~/work/EasyEdit/easyeditor/custom/custom.py:145\u001b[0m, in \u001b[0;36mEditedModel.completion_logprob\u001b[0;34m(self, text, completion, start_ind)\u001b[0m\n\u001b[1;32m    120\u001b[0m \u001b[38;5;250m\u001b[39m\u001b[38;5;124;03m'''\u001b[39;00m\n\u001b[1;32m    121\u001b[0m \u001b[38;5;124;03mCompute model log probability of completion substring. Returns single value tensor. Takes only one text string.\u001b[39;00m\n\u001b[1;32m    122\u001b[0m \u001b[38;5;124;03m'''\u001b[39;00m\n\u001b[1;32m    124\u001b[0m \u001b[38;5;66;03m# texts = self.preprompt + text\u001b[39;00m\n\u001b[1;32m    125\u001b[0m \n\u001b[1;32m    126\u001b[0m \u001b[38;5;66;03m# tokenizer = self.tok \u001b[39;00m\n\u001b[0;32m   (...)\u001b[0m\n\u001b[1;32m    141\u001b[0m \u001b[38;5;66;03m# else:\u001b[39;00m\n\u001b[1;32m    142\u001b[0m \u001b[38;5;66;03m#     return(l.squeeze().diag().sum())\u001b[39;00m\n\u001b[0;32m--> 145\u001b[0m \u001b[38;5;28;01mreturn\u001b[39;00m \u001b[38;5;28;43mself\u001b[39;49m\u001b[38;5;241;43m.\u001b[39;49m\u001b[43msubstring_logprobs\u001b[49m\u001b[43m(\u001b[49m\u001b[43mtext\u001b[49m\u001b[43m,\u001b[49m\u001b[43m \u001b[49m\u001b[43mcompletion\u001b[49m\u001b[43m)\u001b[49m[\u001b[38;5;241m0\u001b[39m][\u001b[38;5;241m-\u001b[39m\u001b[38;5;241m1\u001b[39m]\n",
      "File \u001b[0;32m~/work/EasyEdit/easyeditor/custom/custom.py:156\u001b[0m, in \u001b[0;36mEditedModel.substring_logprobs\u001b[0;34m(self, texts, substring, pad)\u001b[0m\n\u001b[1;32m    153\u001b[0m \u001b[38;5;28;01mif\u001b[39;00m \u001b[38;5;28mtype\u001b[39m(texts) \u001b[38;5;241m!=\u001b[39m \u001b[38;5;28mlist\u001b[39m:\n\u001b[1;32m    154\u001b[0m     texts \u001b[38;5;241m=\u001b[39m [texts]\n\u001b[0;32m--> 156\u001b[0m logprobs \u001b[38;5;241m=\u001b[39m \u001b[38;5;28;43mself\u001b[39;49m\u001b[38;5;241;43m.\u001b[39;49m\u001b[43mlogprobs\u001b[49m\u001b[43m(\u001b[49m\u001b[43mtexts\u001b[49m\u001b[43m)\u001b[49m\n\u001b[1;32m    158\u001b[0m tok_encoded \u001b[38;5;241m=\u001b[39m encode_token(substring, \u001b[38;5;28mself\u001b[39m\u001b[38;5;241m.\u001b[39mtok, pad \u001b[38;5;241m=\u001b[39m pad)\n\u001b[1;32m    159\u001b[0m \u001b[38;5;66;03m# text_encoded = logprobs['tokens']['input_ids'][0].tolist()\u001b[39;00m\n",
      "File \u001b[0;32m~/work/EasyEdit/easyeditor/custom/custom.py:111\u001b[0m, in \u001b[0;36mEditedModel.logprobs\u001b[0;34m(self, texts)\u001b[0m\n\u001b[1;32m    108\u001b[0m encoding \u001b[38;5;241m=\u001b[39m tokenizer(texts, padding\u001b[38;5;241m=\u001b[39m\u001b[38;5;28;01mTrue\u001b[39;00m, return_tensors\u001b[38;5;241m=\u001b[39m\u001b[38;5;124m'\u001b[39m\u001b[38;5;124mpt\u001b[39m\u001b[38;5;124m'\u001b[39m)\u001b[38;5;241m.\u001b[39mto(device)\n\u001b[1;32m    110\u001b[0m \u001b[38;5;28;01mwith\u001b[39;00m torch\u001b[38;5;241m.\u001b[39mno_grad():\n\u001b[0;32m--> 111\u001b[0m     model_out \u001b[38;5;241m=\u001b[39m \u001b[43mmodel\u001b[49m\u001b[43m(\u001b[49m\u001b[43mencoding\u001b[49m\u001b[43m[\u001b[49m\u001b[38;5;124;43m\"\u001b[39;49m\u001b[38;5;124;43minput_ids\u001b[39;49m\u001b[38;5;124;43m\"\u001b[39;49m\u001b[43m]\u001b[49m\u001b[43m)\u001b[49m\n\u001b[1;32m    112\u001b[0m     logits \u001b[38;5;241m=\u001b[39m model_out\u001b[38;5;241m.\u001b[39mlogits\n\u001b[1;32m    113\u001b[0m     logprobs \u001b[38;5;241m=\u001b[39m F\u001b[38;5;241m.\u001b[39mlog_softmax(logits, \u001b[38;5;241m-\u001b[39m\u001b[38;5;241m1\u001b[39m)\n",
      "File \u001b[0;32m~/.conda/envs/EasyEdit/lib/python3.9/site-packages/torch/nn/modules/module.py:1501\u001b[0m, in \u001b[0;36mModule._call_impl\u001b[0;34m(self, *args, **kwargs)\u001b[0m\n\u001b[1;32m   1496\u001b[0m \u001b[38;5;66;03m# If we don't have any hooks, we want to skip the rest of the logic in\u001b[39;00m\n\u001b[1;32m   1497\u001b[0m \u001b[38;5;66;03m# this function, and just call forward.\u001b[39;00m\n\u001b[1;32m   1498\u001b[0m \u001b[38;5;28;01mif\u001b[39;00m \u001b[38;5;129;01mnot\u001b[39;00m (\u001b[38;5;28mself\u001b[39m\u001b[38;5;241m.\u001b[39m_backward_hooks \u001b[38;5;129;01mor\u001b[39;00m \u001b[38;5;28mself\u001b[39m\u001b[38;5;241m.\u001b[39m_backward_pre_hooks \u001b[38;5;129;01mor\u001b[39;00m \u001b[38;5;28mself\u001b[39m\u001b[38;5;241m.\u001b[39m_forward_hooks \u001b[38;5;129;01mor\u001b[39;00m \u001b[38;5;28mself\u001b[39m\u001b[38;5;241m.\u001b[39m_forward_pre_hooks\n\u001b[1;32m   1499\u001b[0m         \u001b[38;5;129;01mor\u001b[39;00m _global_backward_pre_hooks \u001b[38;5;129;01mor\u001b[39;00m _global_backward_hooks\n\u001b[1;32m   1500\u001b[0m         \u001b[38;5;129;01mor\u001b[39;00m _global_forward_hooks \u001b[38;5;129;01mor\u001b[39;00m _global_forward_pre_hooks):\n\u001b[0;32m-> 1501\u001b[0m     \u001b[38;5;28;01mreturn\u001b[39;00m \u001b[43mforward_call\u001b[49m\u001b[43m(\u001b[49m\u001b[38;5;241;43m*\u001b[39;49m\u001b[43margs\u001b[49m\u001b[43m,\u001b[49m\u001b[43m \u001b[49m\u001b[38;5;241;43m*\u001b[39;49m\u001b[38;5;241;43m*\u001b[39;49m\u001b[43mkwargs\u001b[49m\u001b[43m)\u001b[49m\n\u001b[1;32m   1502\u001b[0m \u001b[38;5;66;03m# Do not call functions when jit is used\u001b[39;00m\n\u001b[1;32m   1503\u001b[0m full_backward_hooks, non_full_backward_hooks \u001b[38;5;241m=\u001b[39m [], []\n",
      "File \u001b[0;32m~/.conda/envs/EasyEdit/lib/python3.9/site-packages/transformers/models/llama/modeling_llama.py:688\u001b[0m, in \u001b[0;36mLlamaForCausalLM.forward\u001b[0;34m(self, input_ids, attention_mask, position_ids, past_key_values, inputs_embeds, labels, use_cache, output_attentions, output_hidden_states, return_dict)\u001b[0m\n\u001b[1;32m    685\u001b[0m return_dict \u001b[38;5;241m=\u001b[39m return_dict \u001b[38;5;28;01mif\u001b[39;00m return_dict \u001b[38;5;129;01mis\u001b[39;00m \u001b[38;5;129;01mnot\u001b[39;00m \u001b[38;5;28;01mNone\u001b[39;00m \u001b[38;5;28;01melse\u001b[39;00m \u001b[38;5;28mself\u001b[39m\u001b[38;5;241m.\u001b[39mconfig\u001b[38;5;241m.\u001b[39muse_return_dict\n\u001b[1;32m    687\u001b[0m \u001b[38;5;66;03m# decoder outputs consists of (dec_features, layer_state, dec_hidden, dec_attn)\u001b[39;00m\n\u001b[0;32m--> 688\u001b[0m outputs \u001b[38;5;241m=\u001b[39m \u001b[38;5;28;43mself\u001b[39;49m\u001b[38;5;241;43m.\u001b[39;49m\u001b[43mmodel\u001b[49m\u001b[43m(\u001b[49m\n\u001b[1;32m    689\u001b[0m \u001b[43m    \u001b[49m\u001b[43minput_ids\u001b[49m\u001b[38;5;241;43m=\u001b[39;49m\u001b[43minput_ids\u001b[49m\u001b[43m,\u001b[49m\n\u001b[1;32m    690\u001b[0m \u001b[43m    \u001b[49m\u001b[43mattention_mask\u001b[49m\u001b[38;5;241;43m=\u001b[39;49m\u001b[43mattention_mask\u001b[49m\u001b[43m,\u001b[49m\n\u001b[1;32m    691\u001b[0m \u001b[43m    \u001b[49m\u001b[43mposition_ids\u001b[49m\u001b[38;5;241;43m=\u001b[39;49m\u001b[43mposition_ids\u001b[49m\u001b[43m,\u001b[49m\n\u001b[1;32m    692\u001b[0m \u001b[43m    \u001b[49m\u001b[43mpast_key_values\u001b[49m\u001b[38;5;241;43m=\u001b[39;49m\u001b[43mpast_key_values\u001b[49m\u001b[43m,\u001b[49m\n\u001b[1;32m    693\u001b[0m \u001b[43m    \u001b[49m\u001b[43minputs_embeds\u001b[49m\u001b[38;5;241;43m=\u001b[39;49m\u001b[43minputs_embeds\u001b[49m\u001b[43m,\u001b[49m\n\u001b[1;32m    694\u001b[0m \u001b[43m    \u001b[49m\u001b[43muse_cache\u001b[49m\u001b[38;5;241;43m=\u001b[39;49m\u001b[43muse_cache\u001b[49m\u001b[43m,\u001b[49m\n\u001b[1;32m    695\u001b[0m \u001b[43m    \u001b[49m\u001b[43moutput_attentions\u001b[49m\u001b[38;5;241;43m=\u001b[39;49m\u001b[43moutput_attentions\u001b[49m\u001b[43m,\u001b[49m\n\u001b[1;32m    696\u001b[0m \u001b[43m    \u001b[49m\u001b[43moutput_hidden_states\u001b[49m\u001b[38;5;241;43m=\u001b[39;49m\u001b[43moutput_hidden_states\u001b[49m\u001b[43m,\u001b[49m\n\u001b[1;32m    697\u001b[0m \u001b[43m    \u001b[49m\u001b[43mreturn_dict\u001b[49m\u001b[38;5;241;43m=\u001b[39;49m\u001b[43mreturn_dict\u001b[49m\u001b[43m,\u001b[49m\n\u001b[1;32m    698\u001b[0m \u001b[43m\u001b[49m\u001b[43m)\u001b[49m\n\u001b[1;32m    700\u001b[0m hidden_states \u001b[38;5;241m=\u001b[39m outputs[\u001b[38;5;241m0\u001b[39m]\n\u001b[1;32m    701\u001b[0m logits \u001b[38;5;241m=\u001b[39m \u001b[38;5;28mself\u001b[39m\u001b[38;5;241m.\u001b[39mlm_head(hidden_states)\n",
      "File \u001b[0;32m~/.conda/envs/EasyEdit/lib/python3.9/site-packages/torch/nn/modules/module.py:1501\u001b[0m, in \u001b[0;36mModule._call_impl\u001b[0;34m(self, *args, **kwargs)\u001b[0m\n\u001b[1;32m   1496\u001b[0m \u001b[38;5;66;03m# If we don't have any hooks, we want to skip the rest of the logic in\u001b[39;00m\n\u001b[1;32m   1497\u001b[0m \u001b[38;5;66;03m# this function, and just call forward.\u001b[39;00m\n\u001b[1;32m   1498\u001b[0m \u001b[38;5;28;01mif\u001b[39;00m \u001b[38;5;129;01mnot\u001b[39;00m (\u001b[38;5;28mself\u001b[39m\u001b[38;5;241m.\u001b[39m_backward_hooks \u001b[38;5;129;01mor\u001b[39;00m \u001b[38;5;28mself\u001b[39m\u001b[38;5;241m.\u001b[39m_backward_pre_hooks \u001b[38;5;129;01mor\u001b[39;00m \u001b[38;5;28mself\u001b[39m\u001b[38;5;241m.\u001b[39m_forward_hooks \u001b[38;5;129;01mor\u001b[39;00m \u001b[38;5;28mself\u001b[39m\u001b[38;5;241m.\u001b[39m_forward_pre_hooks\n\u001b[1;32m   1499\u001b[0m         \u001b[38;5;129;01mor\u001b[39;00m _global_backward_pre_hooks \u001b[38;5;129;01mor\u001b[39;00m _global_backward_hooks\n\u001b[1;32m   1500\u001b[0m         \u001b[38;5;129;01mor\u001b[39;00m _global_forward_hooks \u001b[38;5;129;01mor\u001b[39;00m _global_forward_pre_hooks):\n\u001b[0;32m-> 1501\u001b[0m     \u001b[38;5;28;01mreturn\u001b[39;00m \u001b[43mforward_call\u001b[49m\u001b[43m(\u001b[49m\u001b[38;5;241;43m*\u001b[39;49m\u001b[43margs\u001b[49m\u001b[43m,\u001b[49m\u001b[43m \u001b[49m\u001b[38;5;241;43m*\u001b[39;49m\u001b[38;5;241;43m*\u001b[39;49m\u001b[43mkwargs\u001b[49m\u001b[43m)\u001b[49m\n\u001b[1;32m   1502\u001b[0m \u001b[38;5;66;03m# Do not call functions when jit is used\u001b[39;00m\n\u001b[1;32m   1503\u001b[0m full_backward_hooks, non_full_backward_hooks \u001b[38;5;241m=\u001b[39m [], []\n",
      "File \u001b[0;32m~/.conda/envs/EasyEdit/lib/python3.9/site-packages/transformers/models/llama/modeling_llama.py:578\u001b[0m, in \u001b[0;36mLlamaModel.forward\u001b[0;34m(self, input_ids, attention_mask, position_ids, past_key_values, inputs_embeds, use_cache, output_attentions, output_hidden_states, return_dict)\u001b[0m\n\u001b[1;32m    570\u001b[0m     layer_outputs \u001b[38;5;241m=\u001b[39m torch\u001b[38;5;241m.\u001b[39mutils\u001b[38;5;241m.\u001b[39mcheckpoint\u001b[38;5;241m.\u001b[39mcheckpoint(\n\u001b[1;32m    571\u001b[0m         create_custom_forward(decoder_layer),\n\u001b[1;32m    572\u001b[0m         hidden_states,\n\u001b[0;32m   (...)\u001b[0m\n\u001b[1;32m    575\u001b[0m         \u001b[38;5;28;01mNone\u001b[39;00m,\n\u001b[1;32m    576\u001b[0m     )\n\u001b[1;32m    577\u001b[0m \u001b[38;5;28;01melse\u001b[39;00m:\n\u001b[0;32m--> 578\u001b[0m     layer_outputs \u001b[38;5;241m=\u001b[39m \u001b[43mdecoder_layer\u001b[49m\u001b[43m(\u001b[49m\n\u001b[1;32m    579\u001b[0m \u001b[43m        \u001b[49m\u001b[43mhidden_states\u001b[49m\u001b[43m,\u001b[49m\n\u001b[1;32m    580\u001b[0m \u001b[43m        \u001b[49m\u001b[43mattention_mask\u001b[49m\u001b[38;5;241;43m=\u001b[39;49m\u001b[43mattention_mask\u001b[49m\u001b[43m,\u001b[49m\n\u001b[1;32m    581\u001b[0m \u001b[43m        \u001b[49m\u001b[43mposition_ids\u001b[49m\u001b[38;5;241;43m=\u001b[39;49m\u001b[43mposition_ids\u001b[49m\u001b[43m,\u001b[49m\n\u001b[1;32m    582\u001b[0m \u001b[43m        \u001b[49m\u001b[43mpast_key_value\u001b[49m\u001b[38;5;241;43m=\u001b[39;49m\u001b[43mpast_key_value\u001b[49m\u001b[43m,\u001b[49m\n\u001b[1;32m    583\u001b[0m \u001b[43m        \u001b[49m\u001b[43moutput_attentions\u001b[49m\u001b[38;5;241;43m=\u001b[39;49m\u001b[43moutput_attentions\u001b[49m\u001b[43m,\u001b[49m\n\u001b[1;32m    584\u001b[0m \u001b[43m        \u001b[49m\u001b[43muse_cache\u001b[49m\u001b[38;5;241;43m=\u001b[39;49m\u001b[43muse_cache\u001b[49m\u001b[43m,\u001b[49m\n\u001b[1;32m    585\u001b[0m \u001b[43m    \u001b[49m\u001b[43m)\u001b[49m\n\u001b[1;32m    587\u001b[0m hidden_states \u001b[38;5;241m=\u001b[39m layer_outputs[\u001b[38;5;241m0\u001b[39m]\n\u001b[1;32m    589\u001b[0m \u001b[38;5;28;01mif\u001b[39;00m use_cache:\n",
      "File \u001b[0;32m~/.conda/envs/EasyEdit/lib/python3.9/site-packages/torch/nn/modules/module.py:1495\u001b[0m, in \u001b[0;36mModule._call_impl\u001b[0;34m(self, *args, **kwargs)\u001b[0m\n\u001b[1;32m   1494\u001b[0m \u001b[38;5;28;01mdef\u001b[39;00m \u001b[38;5;21m_call_impl\u001b[39m(\u001b[38;5;28mself\u001b[39m, \u001b[38;5;241m*\u001b[39margs, \u001b[38;5;241m*\u001b[39m\u001b[38;5;241m*\u001b[39mkwargs):\n\u001b[0;32m-> 1495\u001b[0m     forward_call \u001b[38;5;241m=\u001b[39m (\u001b[38;5;28mself\u001b[39m\u001b[38;5;241m.\u001b[39m_slow_forward \u001b[38;5;28;01mif\u001b[39;00m torch\u001b[38;5;241m.\u001b[39m_C\u001b[38;5;241m.\u001b[39m_get_tracing_state() \u001b[38;5;28;01melse\u001b[39;00m \u001b[38;5;28;43mself\u001b[39;49m\u001b[38;5;241;43m.\u001b[39;49m\u001b[43mforward\u001b[49m)\n\u001b[1;32m   1496\u001b[0m     \u001b[38;5;66;03m# If we don't have any hooks, we want to skip the rest of the logic in\u001b[39;00m\n\u001b[1;32m   1497\u001b[0m     \u001b[38;5;66;03m# this function, and just call forward.\u001b[39;00m\n\u001b[1;32m   1498\u001b[0m     \u001b[38;5;28;01mif\u001b[39;00m \u001b[38;5;129;01mnot\u001b[39;00m (\u001b[38;5;28mself\u001b[39m\u001b[38;5;241m.\u001b[39m_backward_hooks \u001b[38;5;129;01mor\u001b[39;00m \u001b[38;5;28mself\u001b[39m\u001b[38;5;241m.\u001b[39m_backward_pre_hooks \u001b[38;5;129;01mor\u001b[39;00m \u001b[38;5;28mself\u001b[39m\u001b[38;5;241m.\u001b[39m_forward_hooks \u001b[38;5;129;01mor\u001b[39;00m \u001b[38;5;28mself\u001b[39m\u001b[38;5;241m.\u001b[39m_forward_pre_hooks\n\u001b[1;32m   1499\u001b[0m             \u001b[38;5;129;01mor\u001b[39;00m _global_backward_pre_hooks \u001b[38;5;129;01mor\u001b[39;00m _global_backward_hooks\n\u001b[1;32m   1500\u001b[0m             \u001b[38;5;129;01mor\u001b[39;00m _global_forward_hooks \u001b[38;5;129;01mor\u001b[39;00m _global_forward_pre_hooks):\n",
      "\u001b[0;31mKeyboardInterrupt\u001b[0m: "
     ]
    }
   ],
   "source": [
    "edit_method = \"ROME\"\n",
    "full_results_ROME = edit_and_evaluate(edits_df, eval_df, edited_model, edit_method, prefix_fwd = prefix_fwd, prefix_rev = prefix_rev)\n",
    "full_results_ROME.to_csv(\"results/ROME-LLAMA7B-test.csv\")"
   ]
  },
  {
   "cell_type": "code",
   "execution_count": 7,
   "metadata": {},
   "outputs": [
    {
     "name": "stderr",
     "output_type": "stream",
     "text": [
      "/home/dmpowell/.conda/envs/EasyEdit/lib/python3.9/site-packages/janitor/functions/pivot.py:903: FutureWarning: Behavior when concatenating bool-dtype and numeric-dtype arrays is deprecated; in a future version these will cast to object dtype (instead of coercing bools to numeric values). To retain the old behavior, explicitly cast bool-dtype arrays to numeric dtype.\n",
      "  values = {values_to: concat_compat(values)}\n",
      "/home/dmpowell/.conda/envs/EasyEdit/lib/python3.9/site-packages/janitor/functions/pivot.py:903: FutureWarning: Behavior when concatenating bool-dtype and numeric-dtype arrays is deprecated; in a future version these will cast to object dtype (instead of coercing bools to numeric values). To retain the old behavior, explicitly cast bool-dtype arrays to numeric dtype.\n",
      "  values = {values_to: concat_compat(values)}\n"
     ]
    },
    {
     "data": {
      "text/html": [
       "<div>\n",
       "<style scoped>\n",
       "    .dataframe tbody tr th:only-of-type {\n",
       "        vertical-align: middle;\n",
       "    }\n",
       "\n",
       "    .dataframe tbody tr th {\n",
       "        vertical-align: top;\n",
       "    }\n",
       "\n",
       "    .dataframe thead th {\n",
       "        text-align: right;\n",
       "    }\n",
       "</style>\n",
       "<table border=\"1\" class=\"dataframe\">\n",
       "  <thead>\n",
       "    <tr style=\"text-align: right;\">\n",
       "      <th>var</th>\n",
       "      <th>chance</th>\n",
       "      <th>correct</th>\n",
       "    </tr>\n",
       "  </thead>\n",
       "  <tbody>\n",
       "    <tr>\n",
       "      <th>category membership</th>\n",
       "      <td>0.118056</td>\n",
       "      <td>0.170759</td>\n",
       "    </tr>\n",
       "    <tr>\n",
       "      <th>property</th>\n",
       "      <td>0.252315</td>\n",
       "      <td>0.233135</td>\n",
       "    </tr>\n",
       "    <tr>\n",
       "      <th>(category membership, fwd, rare_token_y)</th>\n",
       "      <td>0.125000</td>\n",
       "      <td>0.424107</td>\n",
       "    </tr>\n",
       "    <tr>\n",
       "      <th>(category membership, fwd, typical_token_y)</th>\n",
       "      <td>0.125000</td>\n",
       "      <td>0.174107</td>\n",
       "    </tr>\n",
       "    <tr>\n",
       "      <th>(category membership, rev, rare_token_y)</th>\n",
       "      <td>0.111111</td>\n",
       "      <td>0.080357</td>\n",
       "    </tr>\n",
       "    <tr>\n",
       "      <th>(category membership, rev, typical_token_y)</th>\n",
       "      <td>0.111111</td>\n",
       "      <td>0.004464</td>\n",
       "    </tr>\n",
       "    <tr>\n",
       "      <th>(property, fwd, rare_token_y)</th>\n",
       "      <td>0.254630</td>\n",
       "      <td>0.341270</td>\n",
       "    </tr>\n",
       "    <tr>\n",
       "      <th>(property, fwd, typical_token_y)</th>\n",
       "      <td>0.254630</td>\n",
       "      <td>0.174603</td>\n",
       "    </tr>\n",
       "    <tr>\n",
       "      <th>(property, rev, rare_token_y)</th>\n",
       "      <td>0.250000</td>\n",
       "      <td>0.063492</td>\n",
       "    </tr>\n",
       "    <tr>\n",
       "      <th>(property, rev, typical_token_y)</th>\n",
       "      <td>0.250000</td>\n",
       "      <td>0.353175</td>\n",
       "    </tr>\n",
       "  </tbody>\n",
       "</table>\n",
       "</div>"
      ],
      "text/plain": [
       "var                                            chance   correct\n",
       "category membership                          0.118056  0.170759\n",
       "property                                     0.252315  0.233135\n",
       "(category membership, fwd, rare_token_y)     0.125000  0.424107\n",
       "(category membership, fwd, typical_token_y)  0.125000  0.174107\n",
       "(category membership, rev, rare_token_y)     0.111111  0.080357\n",
       "(category membership, rev, typical_token_y)  0.111111  0.004464\n",
       "(property, fwd, rare_token_y)                0.254630  0.341270\n",
       "(property, fwd, typical_token_y)             0.254630  0.174603\n",
       "(property, rev, rare_token_y)                0.250000  0.063492\n",
       "(property, rev, typical_token_y)             0.250000  0.353175"
      ]
     },
     "execution_count": 7,
     "metadata": {},
     "output_type": "execute_result"
    }
   ],
   "source": [
    "full_results_ROME = pd.read_csv(\"results/ROME-LLAMA7B.csv\", converters={'fwd_choices':literal_eval, 'rev_choices':literal_eval})\n",
    "report_results(full_results_ROME)  "
   ]
  },
  {
   "cell_type": "code",
   "execution_count": 58,
   "metadata": {},
   "outputs": [],
   "source": [
    "edit_method = \"ICE\"\n",
    "full_results_ICE = edit_and_evaluate(edits_df, eval_df, edited_model, edit_method)\n",
    "full_results_ICE.to_csv(\"results/ICE-LLAMA7B.csv\")"
   ]
  },
  {
   "cell_type": "code",
   "execution_count": 118,
   "metadata": {},
   "outputs": [
    {
     "name": "stderr",
     "output_type": "stream",
     "text": [
      "/home/dmpowell/.conda/envs/EasyEdit/lib/python3.9/site-packages/janitor/functions/pivot.py:903: FutureWarning: Behavior when concatenating bool-dtype and numeric-dtype arrays is deprecated; in a future version these will cast to object dtype (instead of coercing bools to numeric values). To retain the old behavior, explicitly cast bool-dtype arrays to numeric dtype.\n",
      "  values = {values_to: concat_compat(values)}\n",
      "/home/dmpowell/.conda/envs/EasyEdit/lib/python3.9/site-packages/janitor/functions/pivot.py:903: FutureWarning: Behavior when concatenating bool-dtype and numeric-dtype arrays is deprecated; in a future version these will cast to object dtype (instead of coercing bools to numeric values). To retain the old behavior, explicitly cast bool-dtype arrays to numeric dtype.\n",
      "  values = {values_to: concat_compat(values)}\n"
     ]
    },
    {
     "data": {
      "text/html": [
       "<div>\n",
       "<style scoped>\n",
       "    .dataframe tbody tr th:only-of-type {\n",
       "        vertical-align: middle;\n",
       "    }\n",
       "\n",
       "    .dataframe tbody tr th {\n",
       "        vertical-align: top;\n",
       "    }\n",
       "\n",
       "    .dataframe thead th {\n",
       "        text-align: right;\n",
       "    }\n",
       "</style>\n",
       "<table border=\"1\" class=\"dataframe\">\n",
       "  <thead>\n",
       "    <tr style=\"text-align: right;\">\n",
       "      <th>var</th>\n",
       "      <th>chance</th>\n",
       "      <th>correct</th>\n",
       "    </tr>\n",
       "  </thead>\n",
       "  <tbody>\n",
       "    <tr>\n",
       "      <th>category membership</th>\n",
       "      <td>0.118056</td>\n",
       "      <td>0.812500</td>\n",
       "    </tr>\n",
       "    <tr>\n",
       "      <th>property</th>\n",
       "      <td>0.252315</td>\n",
       "      <td>0.702381</td>\n",
       "    </tr>\n",
       "    <tr>\n",
       "      <th>(category membership, fwd)</th>\n",
       "      <td>0.125000</td>\n",
       "      <td>0.662946</td>\n",
       "    </tr>\n",
       "    <tr>\n",
       "      <th>(category membership, rev)</th>\n",
       "      <td>0.111111</td>\n",
       "      <td>0.962054</td>\n",
       "    </tr>\n",
       "    <tr>\n",
       "      <th>(property, fwd)</th>\n",
       "      <td>0.254630</td>\n",
       "      <td>0.408730</td>\n",
       "    </tr>\n",
       "    <tr>\n",
       "      <th>(property, rev)</th>\n",
       "      <td>0.250000</td>\n",
       "      <td>0.996032</td>\n",
       "    </tr>\n",
       "  </tbody>\n",
       "</table>\n",
       "</div>"
      ],
      "text/plain": [
       "var                           chance   correct\n",
       "category membership         0.118056  0.812500\n",
       "property                    0.252315  0.702381\n",
       "(category membership, fwd)  0.125000  0.662946\n",
       "(category membership, rev)  0.111111  0.962054\n",
       "(property, fwd)             0.254630  0.408730\n",
       "(property, rev)             0.250000  0.996032"
      ]
     },
     "execution_count": 118,
     "metadata": {},
     "output_type": "execute_result"
    }
   ],
   "source": [
    "\n",
    "report_results(full_results_ICE)  "
   ]
  }
 ],
 "metadata": {
  "kernelspec": {
   "display_name": "EasyEdit",
   "language": "python",
   "name": "python3"
  },
  "language_info": {
   "codemirror_mode": {
    "name": "ipython",
    "version": 3
   },
   "file_extension": ".py",
   "mimetype": "text/x-python",
   "name": "python",
   "nbconvert_exporter": "python",
   "pygments_lexer": "ipython3",
   "version": "3.9.18"
  }
 },
 "nbformat": 4,
 "nbformat_minor": 4
}
