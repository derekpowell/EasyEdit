{
 "cells": [
  {
   "cell_type": "code",
   "execution_count": 1,
   "metadata": {},
   "outputs": [
    {
     "name": "stdout",
     "output_type": "stream",
     "text": [
      "/scratch/dmpowell/.cache/huggingface\n"
     ]
    }
   ],
   "source": [
    "import os\n",
    "if os.path.isdir('/scratch/dmpowell'):\n",
    "    os.environ['TRANSFORMERS_CACHE'] = '/scratch/dmpowell/.cache/huggingface'\n",
    "print(os.getenv('TRANSFORMERS_CACHE'))"
   ]
  },
  {
   "cell_type": "code",
   "execution_count": 2,
   "metadata": {},
   "outputs": [
    {
     "name": "stdout",
     "output_type": "stream",
     "text": [
      "device =  cuda\n"
     ]
    }
   ],
   "source": [
    "import numpy as np\n",
    "import torch\n",
    "from transformers import GPTJForCausalLM, AutoTokenizer, AutoModel, GPT2LMHeadModel, AutoModelForCausalLM\n",
    "\n",
    "import pandas as pd\n",
    "import json\n",
    "\n",
    "import torch.nn.functional as F\n",
    "\n",
    "device = torch.device(\"cuda\" if torch.cuda.is_available() else \"cpu\")\n",
    "print(\"device = \", device)"
   ]
  },
  {
   "cell_type": "code",
   "execution_count": 4,
   "metadata": {},
   "outputs": [
    {
     "name": "stderr",
     "output_type": "stream",
     "text": [
      "2023-09-28 15:54:55,016 - easyeditor.editors.editor - INFO - Instantiating model\n",
      "2023-09-28 15:54:55,016 - easyeditor.editors.editor - INFO - Instantiating model\n",
      "09/28/2023 15:54:55 - INFO - easyeditor.editors.editor -   Instantiating model\n"
     ]
    },
    {
     "name": "stdout",
     "output_type": "stream",
     "text": [
      "Executing ROME algorithm for the update: [Ray Charles, the] -> [ violin]\n",
      "Computing left vector (u)...\n",
      "Selected u projection object Ray Charles\n",
      "Left vector shape: torch.Size([6400])\n",
      "Computing right vector (v)\n",
      "Lookup index found: 1 | Sentence: Ray Charles, the | Token:  Charles\n",
      "Rewrite layer is 17\n",
      "Tying optimization objective to 47\n",
      "Recording initial value of v*\n",
      "loss 10.751 = 10.751 + 0.0 + 0.0 avg prob of [ violin] 2.4790204406599514e-05\n",
      "loss 7.351 = 7.322 + 0.011 + 0.019 avg prob of [ violin] 0.0007812341209501028\n",
      "loss 5.123 = 5.065 + 0.026 + 0.032 avg prob of [ violin] 0.00758470268920064\n",
      "loss 3.544 = 3.464 + 0.037 + 0.043 avg prob of [ violin] 0.03618846461176872\n",
      "loss 2.322 = 2.215 + 0.053 + 0.054 avg prob of [ violin] 0.121418796479702\n",
      "loss 1.285 = 1.138 + 0.083 + 0.064 avg prob of [ violin] 0.34305059909820557\n",
      "loss 0.585 = 0.399 + 0.113 + 0.073 avg prob of [ violin] 0.6865928769111633\n",
      "loss 0.317 = 0.152 + 0.084 + 0.081 avg prob of [ violin] 0.8650190234184265\n",
      "loss 0.225 = 0.087 + 0.052 + 0.086 avg prob of [ violin] 0.9200205206871033\n",
      "loss 0.191 = 0.061 + 0.043 + 0.086 avg prob of [ violin] 0.9425194263458252\n",
      "loss 0.173 = 0.045 + 0.042 + 0.086 avg prob of [ violin] 0.957000732421875\n",
      "loss 0.161 = 0.034 + 0.041 + 0.086 avg prob of [ violin] 0.967247724533081\n",
      "loss 0.152 = 0.026 + 0.04 + 0.086 avg prob of [ violin] 0.9747823476791382\n",
      "loss 0.145 = 0.02 + 0.039 + 0.086 avg prob of [ violin] 0.9803728461265564\n",
      "loss 0.14 = 0.016 + 0.038 + 0.086 avg prob of [ violin] 0.9845085144042969\n",
      "loss 0.136 = 0.013 + 0.037 + 0.086 avg prob of [ violin] 0.9875516891479492\n",
      "loss 0.133 = 0.01 + 0.036 + 0.086 avg prob of [ violin] 0.9897864460945129\n",
      "loss 0.131 = 0.009 + 0.035 + 0.086 avg prob of [ violin] 0.9914331436157227\n",
      "loss 0.129 = 0.007 + 0.035 + 0.086 avg prob of [ violin] 0.9926576614379883\n"
     ]
    },
    {
     "name": "stderr",
     "output_type": "stream",
     "text": [
      "2023-09-28 15:55:11,363 - easyeditor.editors.editor - INFO - Execution 0 editing took 2.9955992698669434\n",
      "2023-09-28 15:55:11,363 - easyeditor.editors.editor - INFO - Execution 0 editing took 2.9955992698669434\n",
      "09/28/2023 15:55:11 - INFO - easyeditor.editors.editor -   Execution 0 editing took 2.9955992698669434\n",
      "2023-09-28 15:55:11,392 - easyeditor.editors.editor - INFO - Evaluation took 0.02698063850402832\n",
      "2023-09-28 15:55:11,392 - easyeditor.editors.editor - INFO - Evaluation took 0.02698063850402832\n",
      "09/28/2023 15:55:11 - INFO - easyeditor.editors.editor -   Evaluation took 0.02698063850402832\n",
      "2023-09-28 15:55:11,394 - easyeditor.editors.editor - INFO - 0 editing: Ray Charles, the -> violin  \n",
      " {'pre': {'rewrite_acc': [0.0], 'portability': {}}, 'case_id': 0, 'requested_rewrite': {'prompt': 'Ray Charles, the', 'target_new': 'violin', 'ground_truth': 'piano', 'portability': {}, 'locality': {}, 'subject': 'Ray Charles'}, 'time': 2.9955992698669434, 'post': {'rewrite_acc': [1.0], 'locality': {}, 'portability': {}}}\n",
      "2023-09-28 15:55:11,394 - easyeditor.editors.editor - INFO - 0 editing: Ray Charles, the -> violin  \n",
      " {'pre': {'rewrite_acc': [0.0], 'portability': {}}, 'case_id': 0, 'requested_rewrite': {'prompt': 'Ray Charles, the', 'target_new': 'violin', 'ground_truth': 'piano', 'portability': {}, 'locality': {}, 'subject': 'Ray Charles'}, 'time': 2.9955992698669434, 'post': {'rewrite_acc': [1.0], 'locality': {}, 'portability': {}}}\n",
      "09/28/2023 15:55:11 - INFO - easyeditor.editors.editor -   0 editing: Ray Charles, the -> violin  \n",
      " {'pre': {'rewrite_acc': [0.0], 'portability': {}}, 'case_id': 0, 'requested_rewrite': {'prompt': 'Ray Charles, the', 'target_new': 'violin', 'ground_truth': 'piano', 'portability': {}, 'locality': {}, 'subject': 'Ray Charles'}, 'time': 2.9955992698669434, 'post': {'rewrite_acc': [1.0], 'locality': {}, 'portability': {}}}\n"
     ]
    },
    {
     "name": "stdout",
     "output_type": "stream",
     "text": [
      "loss 0.128 = 0.006 + 0.035 + 0.086 avg prob of [ violin] 0.9935810565948486\n",
      "Delta norm: 92.5128173828125\n",
      "Change in target norm: 23.128206253051758 to 95.63311767578125 => 72.50491333007812\n",
      "Division Factor: 13.27646541595459\n",
      "Right vector norm: 6.968181133270264\n",
      "Right vector shape: torch.Size([1600])\n",
      "Deltas successfully computed for ['transformer.h.17.mlp.c_proj.weight']\n",
      "New weights successfully inserted into ['transformer.h.17.mlp.c_proj.weight']\n",
      "Executing ROME algorithm for the update: [Grant Hill is a professional] -> [ soccer]\n",
      "Computing left vector (u)...\n",
      "Selected u projection object Grant Hill\n",
      "Left vector shape: torch.Size([6400])\n",
      "Computing right vector (v)\n",
      "Lookup index found: 1 | Sentence: Grant Hill is a professional | Token:  Hill\n",
      "Rewrite layer is 17\n",
      "Tying optimization objective to 47\n",
      "Recording initial value of v*\n",
      "loss 6.391 = 6.391 + 0.0 + 0.0 avg prob of [ soccer] 0.002251633908599615\n",
      "loss 3.747 = 3.723 + 0.006 + 0.018 avg prob of [ soccer] 0.03619048744440079\n",
      "loss 2.128 = 2.093 + 0.007 + 0.028 avg prob of [ soccer] 0.18885837495326996\n",
      "loss 1.213 = 1.167 + 0.009 + 0.037 avg prob of [ soccer] 0.3893042206764221\n",
      "loss 0.845 = 0.789 + 0.012 + 0.045 avg prob of [ soccer] 0.5272386074066162\n",
      "loss 0.536 = 0.47 + 0.014 + 0.052 avg prob of [ soccer] 0.6682475209236145\n",
      "loss 0.345 = 0.27 + 0.016 + 0.058 avg prob of [ soccer] 0.7806953191757202\n",
      "loss 0.244 = 0.161 + 0.018 + 0.065 avg prob of [ soccer] 0.8575361371040344\n",
      "loss 0.195 = 0.104 + 0.02 + 0.07 avg prob of [ soccer] 0.9031404852867126\n",
      "loss 0.17 = 0.072 + 0.022 + 0.076 avg prob of [ soccer] 0.930820643901825\n",
      "loss 0.158 = 0.054 + 0.024 + 0.081 avg prob of [ soccer] 0.9478469491004944\n",
      "loss 0.152 = 0.043 + 0.025 + 0.085 avg prob of [ soccer] 0.9584023952484131\n",
      "loss 0.145 = 0.036 + 0.024 + 0.085 avg prob of [ soccer] 0.9642924666404724\n",
      "loss 0.14 = 0.032 + 0.024 + 0.085 avg prob of [ soccer] 0.9687950611114502\n",
      "loss 0.136 = 0.028 + 0.023 + 0.085 avg prob of [ soccer] 0.9723615646362305\n",
      "loss 0.132 = 0.025 + 0.022 + 0.085 avg prob of [ soccer] 0.9752852320671082\n",
      "loss 0.128 = 0.023 + 0.021 + 0.085 avg prob of [ soccer] 0.9777434468269348\n",
      "loss 0.125 = 0.02 + 0.02 + 0.085 avg prob of [ soccer] 0.9798582196235657\n"
     ]
    },
    {
     "name": "stderr",
     "output_type": "stream",
     "text": [
      "2023-09-28 15:55:14,414 - easyeditor.editors.editor - INFO - Execution 1 editing took 3.0196030139923096\n",
      "2023-09-28 15:55:14,414 - easyeditor.editors.editor - INFO - Execution 1 editing took 3.0196030139923096\n",
      "09/28/2023 15:55:14 - INFO - easyeditor.editors.editor -   Execution 1 editing took 3.0196030139923096\n"
     ]
    },
    {
     "name": "stdout",
     "output_type": "stream",
     "text": [
      "loss 0.122 = 0.018 + 0.019 + 0.085 avg prob of [ soccer] 0.9817185401916504\n",
      "loss 0.12 = 0.017 + 0.019 + 0.085 avg prob of [ soccer] 0.9833846688270569\n",
      "Delta norm: 94.66285705566406\n",
      "Change in target norm: 23.66571617126465 to 98.16547393798828 => 74.499755859375\n",
      "Division Factor: 14.254108428955078\n",
      "Right vector norm: 6.6410932540893555\n",
      "Right vector shape: torch.Size([1600])\n",
      "Deltas successfully computed for ['transformer.h.17.mlp.c_proj.weight']\n",
      "New weights successfully inserted into ['transformer.h.17.mlp.c_proj.weight']\n"
     ]
    },
    {
     "name": "stderr",
     "output_type": "stream",
     "text": [
      "2023-09-28 15:55:14,452 - easyeditor.editors.editor - INFO - Evaluation took 0.027337312698364258\n",
      "2023-09-28 15:55:14,452 - easyeditor.editors.editor - INFO - Evaluation took 0.027337312698364258\n",
      "09/28/2023 15:55:14 - INFO - easyeditor.editors.editor -   Evaluation took 0.027337312698364258\n",
      "2023-09-28 15:55:14,456 - easyeditor.editors.editor - INFO - 1 editing: Grant Hill is a professional -> soccer  \n",
      " {'pre': {'rewrite_acc': [0.0], 'portability': {}}, 'case_id': 1, 'requested_rewrite': {'prompt': 'Grant Hill is a professional', 'target_new': 'soccer', 'ground_truth': 'basketball', 'portability': {}, 'locality': {}, 'subject': 'Grant Hill'}, 'time': 3.0196030139923096, 'post': {'rewrite_acc': [1.0], 'locality': {}, 'portability': {}}}\n",
      "2023-09-28 15:55:14,456 - easyeditor.editors.editor - INFO - 1 editing: Grant Hill is a professional -> soccer  \n",
      " {'pre': {'rewrite_acc': [0.0], 'portability': {}}, 'case_id': 1, 'requested_rewrite': {'prompt': 'Grant Hill is a professional', 'target_new': 'soccer', 'ground_truth': 'basketball', 'portability': {}, 'locality': {}, 'subject': 'Grant Hill'}, 'time': 3.0196030139923096, 'post': {'rewrite_acc': [1.0], 'locality': {}, 'portability': {}}}\n",
      "09/28/2023 15:55:14 - INFO - easyeditor.editors.editor -   1 editing: Grant Hill is a professional -> soccer  \n",
      " {'pre': {'rewrite_acc': [0.0], 'portability': {}}, 'case_id': 1, 'requested_rewrite': {'prompt': 'Grant Hill is a professional', 'target_new': 'soccer', 'ground_truth': 'basketball', 'portability': {}, 'locality': {}, 'subject': 'Grant Hill'}, 'time': 3.0196030139923096, 'post': {'rewrite_acc': [1.0], 'locality': {}, 'portability': {}}}\n"
     ]
    },
    {
     "name": "stdout",
     "output_type": "stream",
     "text": [
      "Executing ROME algorithm for the update: [The law in Ikaalinen declares the language] -> [ Swedish]\n",
      "Computing left vector (u)...\n",
      "Selected u projection object Ikaalinen\n",
      "Left vector shape: torch.Size([6400])\n",
      "Computing right vector (v)\n",
      "Lookup index found: 6 | Sentence: The law in Ikaalinen declares the language | Token: en\n",
      "Rewrite layer is 17\n",
      "Tying optimization objective to 47\n",
      "Recording initial value of v*\n",
      "loss 10.139 = 10.139 + 0.0 + 0.0 avg prob of [ Swedish] 4.705636092694476e-05\n",
      "loss 8.376 = 8.34 + 0.006 + 0.03 avg prob of [ Swedish] 0.0002919496619142592\n",
      "loss 6.953 = 6.888 + 0.016 + 0.049 avg prob of [ Swedish] 0.0012362695997580886\n",
      "loss 4.876 = 4.784 + 0.026 + 0.067 avg prob of [ Swedish] 0.009663732722401619\n",
      "loss 2.578 = 2.462 + 0.033 + 0.083 avg prob of [ Swedish] 0.0912083238363266\n",
      "loss 1.423 = 1.286 + 0.038 + 0.099 avg prob of [ Swedish] 0.2874740958213806\n",
      "loss 0.799 = 0.647 + 0.043 + 0.109 avg prob of [ Swedish] 0.5328242778778076\n",
      "loss 0.436 = 0.284 + 0.043 + 0.109 avg prob of [ Swedish] 0.7570187449455261\n",
      "loss 0.269 = 0.117 + 0.043 + 0.109 avg prob of [ Swedish] 0.8908379077911377\n",
      "loss 0.206 = 0.054 + 0.043 + 0.109 avg prob of [ Swedish] 0.9478589296340942\n",
      "loss 0.183 = 0.03 + 0.044 + 0.109 avg prob of [ Swedish] 0.9707377552986145\n",
      "loss 0.173 = 0.019 + 0.045 + 0.109 avg prob of [ Swedish] 0.9807937145233154\n",
      "loss 0.167 = 0.014 + 0.044 + 0.109 avg prob of [ Swedish] 0.9859344363212585\n",
      "loss 0.162 = 0.011 + 0.042 + 0.109 avg prob of [ Swedish] 0.9890134930610657\n",
      "loss 0.157 = 0.009 + 0.039 + 0.109 avg prob of [ Swedish] 0.9911373257637024\n",
      "loss 0.154 = 0.007 + 0.038 + 0.109 avg prob of [ Swedish] 0.9928650856018066\n",
      "loss 0.152 = 0.005 + 0.037 + 0.109 avg prob of [ Swedish] 0.9945303797721863\n",
      "loss 0.149 = 0.004 + 0.036 + 0.109 avg prob of [ Swedish] 0.9961317181587219\n",
      "loss 0.146 = 0.003 + 0.035 + 0.109 avg prob of [ Swedish] 0.9974228143692017\n",
      "loss 0.144 = 0.002 + 0.033 + 0.109 avg prob of [ Swedish] 0.9982089996337891\n"
     ]
    },
    {
     "name": "stderr",
     "output_type": "stream",
     "text": [
      "2023-09-28 15:55:18,339 - easyeditor.editors.editor - INFO - Execution 2 editing took 3.882349729537964\n",
      "2023-09-28 15:55:18,339 - easyeditor.editors.editor - INFO - Execution 2 editing took 3.882349729537964\n",
      "09/28/2023 15:55:18 - INFO - easyeditor.editors.editor -   Execution 2 editing took 3.882349729537964\n",
      "2023-09-28 15:55:18,369 - easyeditor.editors.editor - INFO - Evaluation took 0.027582406997680664\n",
      "2023-09-28 15:55:18,369 - easyeditor.editors.editor - INFO - Evaluation took 0.027582406997680664\n",
      "09/28/2023 15:55:18 - INFO - easyeditor.editors.editor -   Evaluation took 0.027582406997680664\n",
      "2023-09-28 15:55:18,371 - easyeditor.editors.editor - INFO - 2 editing: The law in Ikaalinen declares the language -> Swedish  \n",
      " {'pre': {'rewrite_acc': [0.0], 'portability': {}}, 'case_id': 2, 'requested_rewrite': {'prompt': 'The law in Ikaalinen declares the language', 'target_new': 'Swedish', 'ground_truth': 'Finnish', 'portability': {}, 'locality': {}, 'subject': 'Ikaalinen'}, 'time': 3.882349729537964, 'post': {'rewrite_acc': [1.0], 'locality': {}, 'portability': {}}}\n",
      "2023-09-28 15:55:18,371 - easyeditor.editors.editor - INFO - 2 editing: The law in Ikaalinen declares the language -> Swedish  \n",
      " {'pre': {'rewrite_acc': [0.0], 'portability': {}}, 'case_id': 2, 'requested_rewrite': {'prompt': 'The law in Ikaalinen declares the language', 'target_new': 'Swedish', 'ground_truth': 'Finnish', 'portability': {}, 'locality': {}, 'subject': 'Ikaalinen'}, 'time': 3.882349729537964, 'post': {'rewrite_acc': [1.0], 'locality': {}, 'portability': {}}}\n",
      "09/28/2023 15:55:18 - INFO - easyeditor.editors.editor -   2 editing: The law in Ikaalinen declares the language -> Swedish  \n",
      " {'pre': {'rewrite_acc': [0.0], 'portability': {}}, 'case_id': 2, 'requested_rewrite': {'prompt': 'The law in Ikaalinen declares the language', 'target_new': 'Swedish', 'ground_truth': 'Finnish', 'portability': {}, 'locality': {}, 'subject': 'Ikaalinen'}, 'time': 3.882349729537964, 'post': {'rewrite_acc': [1.0], 'locality': {}, 'portability': {}}}\n"
     ]
    },
    {
     "name": "stdout",
     "output_type": "stream",
     "text": [
      "Delta norm: 73.40950012207031\n",
      "Change in target norm: 18.352375030517578 to 74.78109741210938 => 56.4287223815918\n",
      "Division Factor: 13.671128273010254\n",
      "Right vector norm: 5.369673728942871\n",
      "Right vector shape: torch.Size([1600])\n",
      "Deltas successfully computed for ['transformer.h.17.mlp.c_proj.weight']\n",
      "New weights successfully inserted into ['transformer.h.17.mlp.c_proj.weight']\n",
      "[{'pre': {'rewrite_acc': [0.0], 'portability': {}}, 'case_id': 0, 'requested_rewrite': {'prompt': 'Ray Charles, the', 'target_new': 'violin', 'ground_truth': 'piano', 'portability': {}, 'locality': {}, 'subject': 'Ray Charles'}, 'time': 2.9955992698669434, 'post': {'rewrite_acc': [1.0], 'locality': {}, 'portability': {}}}, {'pre': {'rewrite_acc': [0.0], 'portability': {}}, 'case_id': 1, 'requested_rewrite': {'prompt': 'Grant Hill is a professional', 'target_new': 'soccer', 'ground_truth': 'basketball', 'portability': {}, 'locality': {}, 'subject': 'Grant Hill'}, 'time': 3.0196030139923096, 'post': {'rewrite_acc': [1.0], 'locality': {}, 'portability': {}}}, {'pre': {'rewrite_acc': [0.0], 'portability': {}}, 'case_id': 2, 'requested_rewrite': {'prompt': 'The law in Ikaalinen declares the language', 'target_new': 'Swedish', 'ground_truth': 'Finnish', 'portability': {}, 'locality': {}, 'subject': 'Ikaalinen'}, 'time': 3.882349729537964, 'post': {'rewrite_acc': [1.0], 'locality': {}, 'portability': {}}}]\n",
      "********************\n"
     ]
    },
    {
     "name": "stderr",
     "output_type": "stream",
     "text": [
      "/home/dmpowell/.conda/envs/EasyEdit/lib/python3.9/site-packages/transformers/tokenization_utils_base.py:2395: UserWarning: `max_length` is ignored when `padding`=`True` and there is no truncation strategy. To pad to max length, use `padding='max_length'`.\n",
      "  warnings.warn(\n",
      "Setting `pad_token_id` to `eos_token_id`:50256 for open-end generation.\n",
      "Input length of input_ids is 10, but `max_length` is set to 10. This can lead to unexpected behavior. You should consider increasing `max_new_tokens`.\n",
      "Setting `pad_token_id` to `eos_token_id`:50256 for open-end generation.\n",
      "Input length of input_ids is 10, but `max_length` is set to 10. This can lead to unexpected behavior. You should consider increasing `max_new_tokens`.\n"
     ]
    }
   ],
   "source": [
    "\n",
    "from easyeditor import BaseEditor\n",
    "from easyeditor import ROMEHyperParams\n",
    "\n",
    "\n",
    "prompts = ['Ray Charles, the',\n",
    "            'Grant Hill is a professional',\n",
    "            'The law in Ikaalinen declares the language'\n",
    "            ]\n",
    "ground_truth = ['piano',\n",
    "                'basketball',\n",
    "                'Finnish'\n",
    "                ]\n",
    "target_new = ['violin',\n",
    "              'soccer',\n",
    "              'Swedish'\n",
    "              ]\n",
    "subject = ['Ray Charles',\n",
    "            'Grant Hill',\n",
    "            'Ikaalinen'\n",
    "            ]\n",
    "\n",
    "hparams = ROMEHyperParams.from_hparams('hparams/ROME/gpt2-xl')\n",
    "editor = BaseEditor.from_hparams(hparams)\n",
    "metrics, edited_model, _ = editor.edit(\n",
    "    prompts=prompts,\n",
    "    ground_truth=ground_truth,\n",
    "    target_new=target_new,\n",
    "    subject=subject,\n",
    "    keep_original_weight=True\n",
    ")\n",
    "\n",
    "print(metrics)\n",
    "\n",
    "\n",
    "print('*'*20)\n",
    "\n",
    "from transformers import GPT2Tokenizer\n",
    "from transformers import GPT2LMHeadModel\n",
    "\n",
    "tokenizer = GPT2Tokenizer.from_pretrained('gpt2-xl')\n",
    "tokenizer.pad_token_id = tokenizer.eos_token_id\n",
    "tokenizer.padding_side='left'\n",
    "generation_prompts = [\n",
    "    \"Ray Charles, the\",\n",
    "    \"The law in Ikaalinen declares the language\"\n",
    "]\n",
    "\n",
    "model = GPT2LMHeadModel.from_pretrained('gpt2-xl').to('cuda')\n",
    "batch = tokenizer(generation_prompts, return_tensors='pt', padding=True, max_length=30)\n",
    "\n",
    "pre_edit_outputs = model.generate(\n",
    "    input_ids=batch['input_ids'].to('cuda'),\n",
    "    attention_mask=batch['attention_mask'].to('cuda'),\n",
    "    max_length=10\n",
    ")\n",
    "\n",
    "post_edit_outputs = edited_model.generate(\n",
    "    input_ids=batch['input_ids'].to('cuda'),\n",
    "    attention_mask=batch['attention_mask'].to('cuda'),\n",
    "    max_length=10\n",
    ")"
   ]
  },
  {
   "cell_type": "code",
   "execution_count": 7,
   "metadata": {},
   "outputs": [
    {
     "data": {
      "text/plain": [
       "['Ray Charles, the legendary', 'The law in Ikaalinen declares the language to']"
      ]
     },
     "execution_count": 7,
     "metadata": {},
     "output_type": "execute_result"
    }
   ],
   "source": [
    "tokenizer.batch_decode(post_edit_outputs, skip_special_tokens=True)"
   ]
  },
  {
   "cell_type": "code",
   "execution_count": null,
   "metadata": {},
   "outputs": [],
   "source": []
  }
 ],
 "metadata": {
  "kernelspec": {
   "display_name": "EasyEdit",
   "language": "python",
   "name": "python3"
  },
  "language_info": {
   "codemirror_mode": {
    "name": "ipython",
    "version": 3
   },
   "file_extension": ".py",
   "mimetype": "text/x-python",
   "name": "python",
   "nbconvert_exporter": "python",
   "pygments_lexer": "ipython3",
   "version": "3.9.18"
  },
  "orig_nbformat": 4
 },
 "nbformat": 4,
 "nbformat_minor": 2
}
